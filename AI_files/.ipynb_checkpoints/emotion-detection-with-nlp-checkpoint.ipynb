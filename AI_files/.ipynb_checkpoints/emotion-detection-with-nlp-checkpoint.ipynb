{
 "cells": [
  {
   "cell_type": "code",
   "execution_count": 1,
   "metadata": {
    "execution": {
     "iopub.execute_input": "2020-09-17T08:53:55.382917Z",
     "iopub.status.busy": "2020-09-17T08:53:55.382147Z",
     "iopub.status.idle": "2020-09-17T08:53:55.415009Z",
     "shell.execute_reply": "2020-09-17T08:53:55.414322Z"
    },
    "id": "bdy4OJKprzzx",
    "papermill": {
     "duration": 0.066132,
     "end_time": "2020-09-17T08:53:55.415146",
     "exception": false,
     "start_time": "2020-09-17T08:53:55.349014",
     "status": "completed"
    },
    "tags": []
   },
   "outputs": [],
   "source": [
    "def fff(x):\n",
    "  with open(x) as file: \n",
    "    line = []\n",
    "    for lines in file.readlines():\n",
    "      line.append(lines)\n",
    "    return line\n",
    "line = fff('train.txt')"
   ]
  },
  {
   "cell_type": "code",
   "execution_count": 2,
   "metadata": {
    "execution": {
     "iopub.execute_input": "2020-09-17T08:53:55.476496Z",
     "iopub.status.busy": "2020-09-17T08:53:55.475558Z",
     "iopub.status.idle": "2020-09-17T08:53:55.480239Z",
     "shell.execute_reply": "2020-09-17T08:53:55.479603Z"
    },
    "executionInfo": {
     "elapsed": 3176,
     "status": "ok",
     "timestamp": 1599668207667,
     "user": {
      "displayName": "Bharath the youtuber",
      "photoUrl": "https://lh3.googleusercontent.com/a-/AOh14GhoNycuaXoMjIU_xbcNA9sqS5-LlnV79OYA-3LH=s64",
      "userId": "09913346759728416579"
     },
     "user_tz": -330
    },
    "id": "ccgJg3KXyBsN",
    "outputId": "6e9653c0-393a-4134-bd25-1aeb2ebf8a27",
    "papermill": {
     "duration": 0.036825,
     "end_time": "2020-09-17T08:53:55.480365",
     "exception": false,
     "start_time": "2020-09-17T08:53:55.443540",
     "status": "completed"
    },
    "tags": []
   },
   "outputs": [
    {
     "data": {
      "text/plain": [
       "['i didnt feel humiliated;sadness\\n',\n",
       " 'i can go from feeling so hopeless to so damned hopeful just from being around someone who cares and is awake;sadness\\n',\n",
       " 'im grabbing a minute to post i feel greedy wrong;anger\\n',\n",
       " 'i am ever feeling nostalgic about the fireplace i will know that it is still on the property;love\\n',\n",
       " 'i am feeling grouchy;anger\\n']"
      ]
     },
     "execution_count": 2,
     "metadata": {},
     "output_type": "execute_result"
    }
   ],
   "source": [
    "line[0:5]"
   ]
  },
  {
   "cell_type": "code",
   "execution_count": 3,
   "metadata": {
    "execution": {
     "iopub.execute_input": "2020-09-17T08:53:55.538193Z",
     "iopub.status.busy": "2020-09-17T08:53:55.537581Z",
     "iopub.status.idle": "2020-09-17T08:53:55.540960Z",
     "shell.execute_reply": "2020-09-17T08:53:55.540429Z"
    },
    "id": "gn6ldQOFuuC2",
    "papermill": {
     "duration": 0.034038,
     "end_time": "2020-09-17T08:53:55.541077",
     "exception": false,
     "start_time": "2020-09-17T08:53:55.507039",
     "status": "completed"
    },
    "tags": []
   },
   "outputs": [],
   "source": [
    "import pandas as pd"
   ]
  },
  {
   "cell_type": "code",
   "execution_count": 4,
   "metadata": {
    "execution": {
     "iopub.execute_input": "2020-09-17T08:53:55.599597Z",
     "iopub.status.busy": "2020-09-17T08:53:55.598908Z",
     "iopub.status.idle": "2020-09-17T08:53:55.600704Z",
     "shell.execute_reply": "2020-09-17T08:53:55.601310Z"
    },
    "id": "ubwKpavmywGM",
    "papermill": {
     "duration": 0.033433,
     "end_time": "2020-09-17T08:53:55.601465",
     "exception": false,
     "start_time": "2020-09-17T08:53:55.568032",
     "status": "completed"
    },
    "tags": []
   },
   "outputs": [],
   "source": [
    "import re"
   ]
  },
  {
   "cell_type": "code",
   "execution_count": 5,
   "metadata": {
    "execution": {
     "iopub.execute_input": "2020-09-17T08:53:55.658383Z",
     "iopub.status.busy": "2020-09-17T08:53:55.657702Z",
     "iopub.status.idle": "2020-09-17T08:53:55.664641Z",
     "shell.execute_reply": "2020-09-17T08:53:55.665184Z"
    },
    "id": "nuP9o5vZtIK2",
    "papermill": {
     "duration": 0.037022,
     "end_time": "2020-09-17T08:53:55.665325",
     "exception": false,
     "start_time": "2020-09-17T08:53:55.628303",
     "status": "completed"
    },
    "tags": []
   },
   "outputs": [],
   "source": [
    "def csv(line):\n",
    "  list1,list2 = [],[]\n",
    "  for lines in line:\n",
    "    x,y = lines.split(';')\n",
    "    y = y.replace('\\n','')\n",
    "    list1.append(x)\n",
    "    list2.append(y)\n",
    "  df = pd.DataFrame(list(list1),columns=['sentence'])\n",
    "  df['emotion'] = list2\n",
    "  return df"
   ]
  },
  {
   "cell_type": "code",
   "execution_count": 6,
   "metadata": {
    "execution": {
     "iopub.execute_input": "2020-09-17T08:53:55.722495Z",
     "iopub.status.busy": "2020-09-17T08:53:55.721804Z",
     "iopub.status.idle": "2020-09-17T08:53:55.758719Z",
     "shell.execute_reply": "2020-09-17T08:53:55.757989Z"
    },
    "id": "ScaXGFhHP16k",
    "papermill": {
     "duration": 0.066614,
     "end_time": "2020-09-17T08:53:55.758840",
     "exception": false,
     "start_time": "2020-09-17T08:53:55.692226",
     "status": "completed"
    },
    "tags": []
   },
   "outputs": [],
   "source": [
    "df = csv(line)"
   ]
  },
  {
   "cell_type": "code",
   "execution_count": 7,
   "metadata": {
    "execution": {
     "iopub.execute_input": "2020-09-17T08:53:55.824614Z",
     "iopub.status.busy": "2020-09-17T08:53:55.823932Z",
     "iopub.status.idle": "2020-09-17T08:53:55.833317Z",
     "shell.execute_reply": "2020-09-17T08:53:55.832770Z"
    },
    "executionInfo": {
     "elapsed": 3108,
     "status": "ok",
     "timestamp": 1599668207674,
     "user": {
      "displayName": "Bharath the youtuber",
      "photoUrl": "https://lh3.googleusercontent.com/a-/AOh14GhoNycuaXoMjIU_xbcNA9sqS5-LlnV79OYA-3LH=s64",
      "userId": "09913346759728416579"
     },
     "user_tz": -330
    },
    "id": "XYJjHaE2t9qa",
    "outputId": "4977e800-0f46-4332-d141-f32f5b5ed2ee",
    "papermill": {
     "duration": 0.047693,
     "end_time": "2020-09-17T08:53:55.833446",
     "exception": false,
     "start_time": "2020-09-17T08:53:55.785753",
     "status": "completed"
    },
    "tags": []
   },
   "outputs": [
    {
     "data": {
      "text/html": [
       "<div>\n",
       "<style scoped>\n",
       "    .dataframe tbody tr th:only-of-type {\n",
       "        vertical-align: middle;\n",
       "    }\n",
       "\n",
       "    .dataframe tbody tr th {\n",
       "        vertical-align: top;\n",
       "    }\n",
       "\n",
       "    .dataframe thead th {\n",
       "        text-align: right;\n",
       "    }\n",
       "</style>\n",
       "<table border=\"1\" class=\"dataframe\">\n",
       "  <thead>\n",
       "    <tr style=\"text-align: right;\">\n",
       "      <th></th>\n",
       "      <th>sentence</th>\n",
       "      <th>emotion</th>\n",
       "    </tr>\n",
       "  </thead>\n",
       "  <tbody>\n",
       "    <tr>\n",
       "      <th>0</th>\n",
       "      <td>i didnt feel humiliated</td>\n",
       "      <td>sadness</td>\n",
       "    </tr>\n",
       "    <tr>\n",
       "      <th>1</th>\n",
       "      <td>i can go from feeling so hopeless to so damned...</td>\n",
       "      <td>sadness</td>\n",
       "    </tr>\n",
       "    <tr>\n",
       "      <th>2</th>\n",
       "      <td>im grabbing a minute to post i feel greedy wrong</td>\n",
       "      <td>anger</td>\n",
       "    </tr>\n",
       "    <tr>\n",
       "      <th>3</th>\n",
       "      <td>i am ever feeling nostalgic about the fireplac...</td>\n",
       "      <td>love</td>\n",
       "    </tr>\n",
       "    <tr>\n",
       "      <th>4</th>\n",
       "      <td>i am feeling grouchy</td>\n",
       "      <td>anger</td>\n",
       "    </tr>\n",
       "    <tr>\n",
       "      <th>...</th>\n",
       "      <td>...</td>\n",
       "      <td>...</td>\n",
       "    </tr>\n",
       "    <tr>\n",
       "      <th>15995</th>\n",
       "      <td>i just had a very brief time in the beanbag an...</td>\n",
       "      <td>sadness</td>\n",
       "    </tr>\n",
       "    <tr>\n",
       "      <th>15996</th>\n",
       "      <td>i am now turning and i feel pathetic that i am...</td>\n",
       "      <td>sadness</td>\n",
       "    </tr>\n",
       "    <tr>\n",
       "      <th>15997</th>\n",
       "      <td>i feel strong and good overall</td>\n",
       "      <td>joy</td>\n",
       "    </tr>\n",
       "    <tr>\n",
       "      <th>15998</th>\n",
       "      <td>i feel like this was such a rude comment and i...</td>\n",
       "      <td>anger</td>\n",
       "    </tr>\n",
       "    <tr>\n",
       "      <th>15999</th>\n",
       "      <td>i know a lot but i feel so stupid because i ca...</td>\n",
       "      <td>sadness</td>\n",
       "    </tr>\n",
       "  </tbody>\n",
       "</table>\n",
       "<p>16000 rows × 2 columns</p>\n",
       "</div>"
      ],
      "text/plain": [
       "                                                sentence  emotion\n",
       "0                                i didnt feel humiliated  sadness\n",
       "1      i can go from feeling so hopeless to so damned...  sadness\n",
       "2       im grabbing a minute to post i feel greedy wrong    anger\n",
       "3      i am ever feeling nostalgic about the fireplac...     love\n",
       "4                                   i am feeling grouchy    anger\n",
       "...                                                  ...      ...\n",
       "15995  i just had a very brief time in the beanbag an...  sadness\n",
       "15996  i am now turning and i feel pathetic that i am...  sadness\n",
       "15997                     i feel strong and good overall      joy\n",
       "15998  i feel like this was such a rude comment and i...    anger\n",
       "15999  i know a lot but i feel so stupid because i ca...  sadness\n",
       "\n",
       "[16000 rows x 2 columns]"
      ]
     },
     "execution_count": 7,
     "metadata": {},
     "output_type": "execute_result"
    }
   ],
   "source": [
    "df"
   ]
  },
  {
   "cell_type": "code",
   "execution_count": 8,
   "metadata": {
    "execution": {
     "iopub.execute_input": "2020-09-17T08:53:55.902929Z",
     "iopub.status.busy": "2020-09-17T08:53:55.901942Z",
     "iopub.status.idle": "2020-09-17T08:53:55.905762Z",
     "shell.execute_reply": "2020-09-17T08:53:55.906389Z"
    },
    "executionInfo": {
     "elapsed": 3057,
     "status": "ok",
     "timestamp": 1599668207674,
     "user": {
      "displayName": "Bharath the youtuber",
      "photoUrl": "https://lh3.googleusercontent.com/a-/AOh14GhoNycuaXoMjIU_xbcNA9sqS5-LlnV79OYA-3LH=s64",
      "userId": "09913346759728416579"
     },
     "user_tz": -330
    },
    "id": "c1PXDHprEqPu",
    "outputId": "b95c583b-9501-4cff-c3a7-8cb8181ba6c3",
    "papermill": {
     "duration": 0.044941,
     "end_time": "2020-09-17T08:53:55.906531",
     "exception": false,
     "start_time": "2020-09-17T08:53:55.861590",
     "status": "completed"
    },
    "tags": []
   },
   "outputs": [
    {
     "data": {
      "text/plain": [
       "joy         5362\n",
       "sadness     4666\n",
       "anger       2159\n",
       "fear        1937\n",
       "love        1304\n",
       "surprise     572\n",
       "Name: emotion, dtype: int64"
      ]
     },
     "execution_count": 8,
     "metadata": {},
     "output_type": "execute_result"
    }
   ],
   "source": [
    "df.emotion.value_counts()"
   ]
  },
  {
   "cell_type": "code",
   "execution_count": 9,
   "metadata": {
    "execution": {
     "iopub.execute_input": "2020-09-17T08:53:55.967285Z",
     "iopub.status.busy": "2020-09-17T08:53:55.966243Z",
     "iopub.status.idle": "2020-09-17T08:53:55.978033Z",
     "shell.execute_reply": "2020-09-17T08:53:55.978610Z"
    },
    "executionInfo": {
     "elapsed": 2980,
     "status": "ok",
     "timestamp": 1599668207675,
     "user": {
      "displayName": "Bharath the youtuber",
      "photoUrl": "https://lh3.googleusercontent.com/a-/AOh14GhoNycuaXoMjIU_xbcNA9sqS5-LlnV79OYA-3LH=s64",
      "userId": "09913346759728416579"
     },
     "user_tz": -330
    },
    "id": "YazYi_kdxpAX",
    "outputId": "3153a6af-f3bb-4b73-98ad-01ca55ea2b40",
    "papermill": {
     "duration": 0.04349,
     "end_time": "2020-09-17T08:53:55.978750",
     "exception": false,
     "start_time": "2020-09-17T08:53:55.935260",
     "status": "completed"
    },
    "tags": []
   },
   "outputs": [
    {
     "data": {
      "text/plain": [
       "sentence    0\n",
       "emotion     0\n",
       "dtype: int64"
      ]
     },
     "execution_count": 9,
     "metadata": {},
     "output_type": "execute_result"
    }
   ],
   "source": [
    "df.isnull().sum()"
   ]
  },
  {
   "cell_type": "markdown",
   "metadata": {
    "id": "RiW4eFUuQTrY",
    "papermill": {
     "duration": 0.028642,
     "end_time": "2020-09-17T08:53:56.036093",
     "exception": false,
     "start_time": "2020-09-17T08:53:56.007451",
     "status": "completed"
    },
    "tags": []
   },
   "source": [
    "##text preprocessing\n",
    "####stopwords\n",
    "####lematization\n",
    "####count vectorizer\n"
   ]
  },
  {
   "cell_type": "code",
   "execution_count": 10,
   "metadata": {
    "execution": {
     "iopub.execute_input": "2020-09-17T08:53:56.096624Z",
     "iopub.status.busy": "2020-09-17T08:53:56.095598Z",
     "iopub.status.idle": "2020-09-17T08:53:58.032993Z",
     "shell.execute_reply": "2020-09-17T08:53:58.032379Z"
    },
    "executionInfo": {
     "elapsed": 4067,
     "status": "ok",
     "timestamp": 1599668208816,
     "user": {
      "displayName": "Bharath the youtuber",
      "photoUrl": "https://lh3.googleusercontent.com/a-/AOh14GhoNycuaXoMjIU_xbcNA9sqS5-LlnV79OYA-3LH=s64",
      "userId": "09913346759728416579"
     },
     "user_tz": -330
    },
    "id": "168CCWP0ShVA",
    "outputId": "a4537871-94ca-4e22-e334-c5dddb9c6458",
    "papermill": {
     "duration": 1.968942,
     "end_time": "2020-09-17T08:53:58.033124",
     "exception": false,
     "start_time": "2020-09-17T08:53:56.064182",
     "status": "completed"
    },
    "tags": []
   },
   "outputs": [
    {
     "name": "stdout",
     "output_type": "stream",
     "text": [
      "[nltk_data] Downloading package wordnet to /usr/share/nltk_data...\n",
      "[nltk_data]   Package wordnet is already up-to-date!\n",
      "[nltk_data] Downloading package stopwords to /usr/share/nltk_data...\n",
      "[nltk_data]   Package stopwords is already up-to-date!\n"
     ]
    }
   ],
   "source": [
    "import nltk\n",
    "nltk.download('wordnet')\n",
    "nltk.download('stopwords')\n",
    "from nltk.stem.wordnet import WordNetLemmatizer\n",
    "from nltk.corpus import stopwords"
   ]
  },
  {
   "cell_type": "code",
   "execution_count": 11,
   "metadata": {
    "execution": {
     "iopub.execute_input": "2020-09-17T08:53:58.101759Z",
     "iopub.status.busy": "2020-09-17T08:53:58.100073Z",
     "iopub.status.idle": "2020-09-17T08:53:58.104633Z",
     "shell.execute_reply": "2020-09-17T08:53:58.103974Z"
    },
    "id": "GMaj69krUMbw",
    "papermill": {
     "duration": 0.042349,
     "end_time": "2020-09-17T08:53:58.104753",
     "exception": false,
     "start_time": "2020-09-17T08:53:58.062404",
     "status": "completed"
    },
    "tags": []
   },
   "outputs": [],
   "source": [
    "wn = WordNetLemmatizer()"
   ]
  },
  {
   "cell_type": "code",
   "execution_count": 12,
   "metadata": {
    "execution": {
     "iopub.execute_input": "2020-09-17T08:53:58.167957Z",
     "iopub.status.busy": "2020-09-17T08:53:58.167257Z",
     "iopub.status.idle": "2020-09-17T08:54:42.037691Z",
     "shell.execute_reply": "2020-09-17T08:54:42.038482Z"
    },
    "id": "jNBKR1KDQJas",
    "papermill": {
     "duration": 43.904111,
     "end_time": "2020-09-17T08:54:42.038639",
     "exception": false,
     "start_time": "2020-09-17T08:53:58.134528",
     "status": "completed"
    },
    "tags": []
   },
   "outputs": [],
   "source": [
    "def lem(x):\n",
    "  corpus = []\n",
    "  i=1\n",
    "  for words in x:\n",
    "    words = words.split()\n",
    "    y = [wn.lemmatize(word) for word in words if not word in stopwords.words('english')]\n",
    "    y =  ' '.join(y)\n",
    "    corpus.append(y)\n",
    "  return corpus\n",
    "x = lem(df['sentence'])"
   ]
  },
  {
   "cell_type": "code",
   "execution_count": 13,
   "metadata": {
    "execution": {
     "iopub.execute_input": "2020-09-17T08:54:42.102469Z",
     "iopub.status.busy": "2020-09-17T08:54:42.100454Z",
     "iopub.status.idle": "2020-09-17T08:54:42.106753Z",
     "shell.execute_reply": "2020-09-17T08:54:42.106224Z"
    },
    "executionInfo": {
     "elapsed": 33159,
     "status": "ok",
     "timestamp": 1599668237979,
     "user": {
      "displayName": "Bharath the youtuber",
      "photoUrl": "https://lh3.googleusercontent.com/a-/AOh14GhoNycuaXoMjIU_xbcNA9sqS5-LlnV79OYA-3LH=s64",
      "userId": "09913346759728416579"
     },
     "user_tz": -330
    },
    "id": "7U3X_ocnUnVY",
    "outputId": "21d76e3d-0417-4514-dd72-a6f756473ead",
    "papermill": {
     "duration": 0.038547,
     "end_time": "2020-09-17T08:54:42.106865",
     "exception": false,
     "start_time": "2020-09-17T08:54:42.068318",
     "status": "completed"
    },
    "tags": []
   },
   "outputs": [
    {
     "data": {
      "text/plain": [
       "['didnt feel humiliated',\n",
       " 'go feeling hopeless damned hopeful around someone care awake',\n",
       " 'im grabbing minute post feel greedy wrong',\n",
       " 'ever feeling nostalgic fireplace know still property',\n",
       " 'feeling grouchy']"
      ]
     },
     "execution_count": 13,
     "metadata": {},
     "output_type": "execute_result"
    }
   ],
   "source": [
    "x[:5]"
   ]
  },
  {
   "cell_type": "markdown",
   "metadata": {
    "id": "gn4nFP4p5koH",
    "papermill": {
     "duration": 0.029572,
     "end_time": "2020-09-17T08:54:42.167645",
     "exception": false,
     "start_time": "2020-09-17T08:54:42.138073",
     "status": "completed"
    },
    "tags": []
   },
   "source": [
    "##handling text data"
   ]
  },
  {
   "cell_type": "code",
   "execution_count": 14,
   "metadata": {
    "execution": {
     "iopub.execute_input": "2020-09-17T08:54:42.233541Z",
     "iopub.status.busy": "2020-09-17T08:54:42.232441Z",
     "iopub.status.idle": "2020-09-17T08:54:42.243935Z",
     "shell.execute_reply": "2020-09-17T08:54:42.243317Z"
    },
    "id": "R0sT9VUP5pg7",
    "papermill": {
     "duration": 0.045637,
     "end_time": "2020-09-17T08:54:42.244054",
     "exception": false,
     "start_time": "2020-09-17T08:54:42.198417",
     "status": "completed"
    },
    "tags": []
   },
   "outputs": [],
   "source": [
    "test_line = fff('../input/emotions-dataset-for-nlp/train.txt') "
   ]
  },
  {
   "cell_type": "code",
   "execution_count": 15,
   "metadata": {
    "execution": {
     "iopub.execute_input": "2020-09-17T08:54:42.326226Z",
     "iopub.status.busy": "2020-09-17T08:54:42.325191Z",
     "iopub.status.idle": "2020-09-17T08:54:42.334478Z",
     "shell.execute_reply": "2020-09-17T08:54:42.333784Z"
    },
    "id": "TdzuGiT35por",
    "papermill": {
     "duration": 0.059991,
     "end_time": "2020-09-17T08:54:42.334592",
     "exception": false,
     "start_time": "2020-09-17T08:54:42.274601",
     "status": "completed"
    },
    "tags": []
   },
   "outputs": [],
   "source": [
    "test_df = csv(test_line)"
   ]
  },
  {
   "cell_type": "code",
   "execution_count": 16,
   "metadata": {
    "execution": {
     "iopub.execute_input": "2020-09-17T08:54:42.406028Z",
     "iopub.status.busy": "2020-09-17T08:54:42.405320Z",
     "iopub.status.idle": "2020-09-17T08:54:42.409528Z",
     "shell.execute_reply": "2020-09-17T08:54:42.408883Z"
    },
    "executionInfo": {
     "elapsed": 34544,
     "status": "ok",
     "timestamp": 1599668239436,
     "user": {
      "displayName": "Bharath the youtuber",
      "photoUrl": "https://lh3.googleusercontent.com/a-/AOh14GhoNycuaXoMjIU_xbcNA9sqS5-LlnV79OYA-3LH=s64",
      "userId": "09913346759728416579"
     },
     "user_tz": -330
    },
    "id": "9v6ZnBbX5qPa",
    "outputId": "b114455f-b2c1-4576-805a-c897f7a8f1fb",
    "papermill": {
     "duration": 0.044832,
     "end_time": "2020-09-17T08:54:42.409642",
     "exception": false,
     "start_time": "2020-09-17T08:54:42.364810",
     "status": "completed"
    },
    "tags": []
   },
   "outputs": [
    {
     "data": {
      "text/html": [
       "<div>\n",
       "<style scoped>\n",
       "    .dataframe tbody tr th:only-of-type {\n",
       "        vertical-align: middle;\n",
       "    }\n",
       "\n",
       "    .dataframe tbody tr th {\n",
       "        vertical-align: top;\n",
       "    }\n",
       "\n",
       "    .dataframe thead th {\n",
       "        text-align: right;\n",
       "    }\n",
       "</style>\n",
       "<table border=\"1\" class=\"dataframe\">\n",
       "  <thead>\n",
       "    <tr style=\"text-align: right;\">\n",
       "      <th></th>\n",
       "      <th>sentence</th>\n",
       "      <th>emotion</th>\n",
       "    </tr>\n",
       "  </thead>\n",
       "  <tbody>\n",
       "    <tr>\n",
       "      <th>0</th>\n",
       "      <td>i didnt feel humiliated</td>\n",
       "      <td>sadness</td>\n",
       "    </tr>\n",
       "    <tr>\n",
       "      <th>1</th>\n",
       "      <td>i can go from feeling so hopeless to so damned...</td>\n",
       "      <td>sadness</td>\n",
       "    </tr>\n",
       "    <tr>\n",
       "      <th>2</th>\n",
       "      <td>im grabbing a minute to post i feel greedy wrong</td>\n",
       "      <td>anger</td>\n",
       "    </tr>\n",
       "    <tr>\n",
       "      <th>3</th>\n",
       "      <td>i am ever feeling nostalgic about the fireplac...</td>\n",
       "      <td>love</td>\n",
       "    </tr>\n",
       "    <tr>\n",
       "      <th>4</th>\n",
       "      <td>i am feeling grouchy</td>\n",
       "      <td>anger</td>\n",
       "    </tr>\n",
       "  </tbody>\n",
       "</table>\n",
       "</div>"
      ],
      "text/plain": [
       "                                            sentence  emotion\n",
       "0                            i didnt feel humiliated  sadness\n",
       "1  i can go from feeling so hopeless to so damned...  sadness\n",
       "2   im grabbing a minute to post i feel greedy wrong    anger\n",
       "3  i am ever feeling nostalgic about the fireplac...     love\n",
       "4                               i am feeling grouchy    anger"
      ]
     },
     "execution_count": 16,
     "metadata": {},
     "output_type": "execute_result"
    }
   ],
   "source": [
    "test_df[:5]"
   ]
  },
  {
   "cell_type": "code",
   "execution_count": 17,
   "metadata": {
    "execution": {
     "iopub.execute_input": "2020-09-17T08:54:42.474588Z",
     "iopub.status.busy": "2020-09-17T08:54:42.473968Z",
     "iopub.status.idle": "2020-09-17T08:55:24.197965Z",
     "shell.execute_reply": "2020-09-17T08:55:24.197328Z"
    },
    "id": "Bc-iBtgR5qUa",
    "papermill": {
     "duration": 41.757678,
     "end_time": "2020-09-17T08:55:24.198088",
     "exception": false,
     "start_time": "2020-09-17T08:54:42.440410",
     "status": "completed"
    },
    "tags": []
   },
   "outputs": [],
   "source": [
    "x_test = lem(test_df['sentence'])"
   ]
  },
  {
   "cell_type": "code",
   "execution_count": 18,
   "metadata": {
    "execution": {
     "iopub.execute_input": "2020-09-17T08:55:24.264966Z",
     "iopub.status.busy": "2020-09-17T08:55:24.264305Z",
     "iopub.status.idle": "2020-09-17T08:55:24.266654Z",
     "shell.execute_reply": "2020-09-17T08:55:24.267115Z"
    },
    "id": "MP6ZDmubCGcr",
    "papermill": {
     "duration": 0.038289,
     "end_time": "2020-09-17T08:55:24.267254",
     "exception": false,
     "start_time": "2020-09-17T08:55:24.228965",
     "status": "completed"
    },
    "tags": []
   },
   "outputs": [],
   "source": [
    "all = x + x_test"
   ]
  },
  {
   "cell_type": "code",
   "execution_count": 19,
   "metadata": {
    "execution": {
     "iopub.execute_input": "2020-09-17T08:55:24.334302Z",
     "iopub.status.busy": "2020-09-17T08:55:24.333241Z",
     "iopub.status.idle": "2020-09-17T08:55:24.338546Z",
     "shell.execute_reply": "2020-09-17T08:55:24.339090Z"
    },
    "executionInfo": {
     "elapsed": 36688,
     "status": "ok",
     "timestamp": 1599668241643,
     "user": {
      "displayName": "Bharath the youtuber",
      "photoUrl": "https://lh3.googleusercontent.com/a-/AOh14GhoNycuaXoMjIU_xbcNA9sqS5-LlnV79OYA-3LH=s64",
      "userId": "09913346759728416579"
     },
     "user_tz": -330
    },
    "id": "A-FqdSfeClEi",
    "outputId": "785e63b2-645b-49a8-a03a-e9c289577fdf",
    "papermill": {
     "duration": 0.040911,
     "end_time": "2020-09-17T08:55:24.339220",
     "exception": false,
     "start_time": "2020-09-17T08:55:24.298309",
     "status": "completed"
    },
    "tags": []
   },
   "outputs": [
    {
     "data": {
      "text/plain": [
       "32000"
      ]
     },
     "execution_count": 19,
     "metadata": {},
     "output_type": "execute_result"
    }
   ],
   "source": [
    "len(all)"
   ]
  },
  {
   "cell_type": "markdown",
   "metadata": {
    "id": "gDlhKgKiBsPE",
    "papermill": {
     "duration": 0.031215,
     "end_time": "2020-09-17T08:55:24.401528",
     "exception": false,
     "start_time": "2020-09-17T08:55:24.370313",
     "status": "completed"
    },
    "tags": []
   },
   "source": [
    "labelling test and train data"
   ]
  },
  {
   "cell_type": "code",
   "execution_count": 20,
   "metadata": {
    "execution": {
     "iopub.execute_input": "2020-09-17T08:55:24.468984Z",
     "iopub.status.busy": "2020-09-17T08:55:24.467975Z",
     "iopub.status.idle": "2020-09-17T08:55:24.472297Z",
     "shell.execute_reply": "2020-09-17T08:55:24.472824Z"
    },
    "id": "ydDw9l154pQ-",
    "papermill": {
     "duration": 0.039301,
     "end_time": "2020-09-17T08:55:24.472966",
     "exception": false,
     "start_time": "2020-09-17T08:55:24.433665",
     "status": "completed"
    },
    "tags": []
   },
   "outputs": [],
   "source": [
    "y = df.iloc[:,1].values"
   ]
  },
  {
   "cell_type": "code",
   "execution_count": 21,
   "metadata": {
    "execution": {
     "iopub.execute_input": "2020-09-17T08:55:24.540546Z",
     "iopub.status.busy": "2020-09-17T08:55:24.539528Z",
     "iopub.status.idle": "2020-09-17T08:55:24.544930Z",
     "shell.execute_reply": "2020-09-17T08:55:24.545446Z"
    },
    "executionInfo": {
     "elapsed": 37992,
     "status": "ok",
     "timestamp": 1599668243089,
     "user": {
      "displayName": "Bharath the youtuber",
      "photoUrl": "https://lh3.googleusercontent.com/a-/AOh14GhoNycuaXoMjIU_xbcNA9sqS5-LlnV79OYA-3LH=s64",
      "userId": "09913346759728416579"
     },
     "user_tz": -330
    },
    "id": "jM2UhCAY45r-",
    "outputId": "c93c2a2d-5d99-4c3e-e55b-bd37ae367b2b",
    "papermill": {
     "duration": 0.041064,
     "end_time": "2020-09-17T08:55:24.545578",
     "exception": false,
     "start_time": "2020-09-17T08:55:24.504514",
     "status": "completed"
    },
    "tags": []
   },
   "outputs": [
    {
     "data": {
      "text/plain": [
       "(16000,)"
      ]
     },
     "execution_count": 21,
     "metadata": {},
     "output_type": "execute_result"
    }
   ],
   "source": [
    "y.shape"
   ]
  },
  {
   "cell_type": "code",
   "execution_count": 22,
   "metadata": {
    "execution": {
     "iopub.execute_input": "2020-09-17T08:55:24.613188Z",
     "iopub.status.busy": "2020-09-17T08:55:24.612193Z",
     "iopub.status.idle": "2020-09-17T08:55:24.616475Z",
     "shell.execute_reply": "2020-09-17T08:55:24.616975Z"
    },
    "id": "vxBu0dV16vC6",
    "papermill": {
     "duration": 0.039688,
     "end_time": "2020-09-17T08:55:24.617106",
     "exception": false,
     "start_time": "2020-09-17T08:55:24.577418",
     "status": "completed"
    },
    "tags": []
   },
   "outputs": [],
   "source": [
    "y_test = test_df.iloc[:,1].values"
   ]
  },
  {
   "cell_type": "code",
   "execution_count": 23,
   "metadata": {
    "execution": {
     "iopub.execute_input": "2020-09-17T08:55:24.686312Z",
     "iopub.status.busy": "2020-09-17T08:55:24.685333Z",
     "iopub.status.idle": "2020-09-17T08:55:24.690528Z",
     "shell.execute_reply": "2020-09-17T08:55:24.691055Z"
    },
    "executionInfo": {
     "elapsed": 37899,
     "status": "ok",
     "timestamp": 1599668243093,
     "user": {
      "displayName": "Bharath the youtuber",
      "photoUrl": "https://lh3.googleusercontent.com/a-/AOh14GhoNycuaXoMjIU_xbcNA9sqS5-LlnV79OYA-3LH=s64",
      "userId": "09913346759728416579"
     },
     "user_tz": -330
    },
    "id": "vO-Yb_wG6vAG",
    "outputId": "e8633aa0-9667-4c5d-df43-e91d1e0f6028",
    "papermill": {
     "duration": 0.040711,
     "end_time": "2020-09-17T08:55:24.691183",
     "exception": false,
     "start_time": "2020-09-17T08:55:24.650472",
     "status": "completed"
    },
    "tags": []
   },
   "outputs": [
    {
     "data": {
      "text/plain": [
       "(16000,)"
      ]
     },
     "execution_count": 23,
     "metadata": {},
     "output_type": "execute_result"
    }
   ],
   "source": [
    "y_test.shape"
   ]
  },
  {
   "cell_type": "markdown",
   "metadata": {
    "id": "PRsylFJk7sHR",
    "papermill": {
     "duration": 0.032803,
     "end_time": "2020-09-17T08:55:24.756320",
     "exception": false,
     "start_time": "2020-09-17T08:55:24.723517",
     "status": "completed"
    },
    "tags": []
   },
   "source": [
    "###building and training the model"
   ]
  },
  {
   "cell_type": "markdown",
   "metadata": {
    "id": "uYOy9lI5l9jg",
    "papermill": {
     "duration": 0.032951,
     "end_time": "2020-09-17T08:55:24.822162",
     "exception": false,
     "start_time": "2020-09-17T08:55:24.789211",
     "status": "completed"
    },
    "tags": []
   },
   "source": [
    "building an lstm model"
   ]
  },
  {
   "cell_type": "code",
   "execution_count": 24,
   "metadata": {
    "execution": {
     "iopub.execute_input": "2020-09-17T08:55:24.891765Z",
     "iopub.status.busy": "2020-09-17T08:55:24.890760Z",
     "iopub.status.idle": "2020-09-17T08:55:30.344769Z",
     "shell.execute_reply": "2020-09-17T08:55:30.344138Z"
    },
    "id": "yAAU00bAM_bH",
    "papermill": {
     "duration": 5.490004,
     "end_time": "2020-09-17T08:55:30.344896",
     "exception": false,
     "start_time": "2020-09-17T08:55:24.854892",
     "status": "completed"
    },
    "tags": []
   },
   "outputs": [],
   "source": [
    "from tensorflow.keras.layers import Embedding,LSTM,Dense\n",
    "from keras.preprocessing.text import Tokenizer\n",
    "from keras.preprocessing.sequence import pad_sequences\n",
    "from keras.models import Sequential"
   ]
  },
  {
   "cell_type": "code",
   "execution_count": 25,
   "metadata": {
    "execution": {
     "iopub.execute_input": "2020-09-17T08:55:30.417597Z",
     "iopub.status.busy": "2020-09-17T08:55:30.416549Z",
     "iopub.status.idle": "2020-09-17T08:55:30.419733Z",
     "shell.execute_reply": "2020-09-17T08:55:30.419138Z"
    },
    "id": "S8D8MNPtnXNd",
    "papermill": {
     "duration": 0.040397,
     "end_time": "2020-09-17T08:55:30.419850",
     "exception": false,
     "start_time": "2020-09-17T08:55:30.379453",
     "status": "completed"
    },
    "tags": []
   },
   "outputs": [],
   "source": [
    "y_train = pd.DataFrame(y)"
   ]
  },
  {
   "cell_type": "code",
   "execution_count": 26,
   "metadata": {
    "execution": {
     "iopub.execute_input": "2020-09-17T08:55:30.491945Z",
     "iopub.status.busy": "2020-09-17T08:55:30.491160Z",
     "iopub.status.idle": "2020-09-17T08:55:31.805313Z",
     "shell.execute_reply": "2020-09-17T08:55:31.804624Z"
    },
    "executionInfo": {
     "elapsed": 55734,
     "status": "ok",
     "timestamp": 1599668261096,
     "user": {
      "displayName": "Bharath the youtuber",
      "photoUrl": "https://lh3.googleusercontent.com/a-/AOh14GhoNycuaXoMjIU_xbcNA9sqS5-LlnV79OYA-3LH=s64",
      "userId": "09913346759728416579"
     },
     "user_tz": -330
    },
    "id": "-TwSD1FTmkbN",
    "outputId": "82c86b40-cf9f-423f-8a78-1955d9319f78",
    "papermill": {
     "duration": 1.352659,
     "end_time": "2020-09-17T08:55:31.805454",
     "exception": false,
     "start_time": "2020-09-17T08:55:30.452795",
     "status": "completed"
    },
    "tags": []
   },
   "outputs": [
    {
     "name": "stderr",
     "output_type": "stream",
     "text": [
      "/opt/conda/lib/python3.7/site-packages/keras_preprocessing/text.py:180: UserWarning: The `nb_words` argument in `Tokenizer` has been renamed `num_words`.\n",
      "  warnings.warn('The `nb_words` argument in `Tokenizer` '\n"
     ]
    }
   ],
   "source": [
    "tokenizer = Tokenizer(nb_words=10000, split=' ')\n",
    "tokenizer.fit_on_texts(all)\n",
    "X1 = tokenizer.texts_to_sequences(all)\n",
    "X1 = pad_sequences(X1,maxlen=20,padding='post',truncating='post')\n",
    "Y1 = pd.get_dummies(y_train).values"
   ]
  },
  {
   "cell_type": "code",
   "execution_count": 27,
   "metadata": {
    "execution": {
     "iopub.execute_input": "2020-09-17T08:55:31.879237Z",
     "iopub.status.busy": "2020-09-17T08:55:31.878567Z",
     "iopub.status.idle": "2020-09-17T08:55:31.881783Z",
     "shell.execute_reply": "2020-09-17T08:55:31.881255Z"
    },
    "id": "v3waN-minpyO",
    "papermill": {
     "duration": 0.042269,
     "end_time": "2020-09-17T08:55:31.881896",
     "exception": false,
     "start_time": "2020-09-17T08:55:31.839627",
     "status": "completed"
    },
    "tags": []
   },
   "outputs": [],
   "source": [
    "X_train = X1[:16000]\n",
    "X_test = X1[16000:]"
   ]
  },
  {
   "cell_type": "code",
   "execution_count": 28,
   "metadata": {
    "execution": {
     "iopub.execute_input": "2020-09-17T08:55:31.955124Z",
     "iopub.status.busy": "2020-09-17T08:55:31.954375Z",
     "iopub.status.idle": "2020-09-17T08:55:31.957292Z",
     "shell.execute_reply": "2020-09-17T08:55:31.956779Z"
    },
    "id": "dFuE5ICroTeZ",
    "papermill": {
     "duration": 0.041537,
     "end_time": "2020-09-17T08:55:31.957423",
     "exception": false,
     "start_time": "2020-09-17T08:55:31.915886",
     "status": "completed"
    },
    "tags": []
   },
   "outputs": [],
   "source": [
    "Y_train = Y1"
   ]
  },
  {
   "cell_type": "code",
   "execution_count": 29,
   "metadata": {
    "execution": {
     "iopub.execute_input": "2020-09-17T08:55:32.031342Z",
     "iopub.status.busy": "2020-09-17T08:55:32.030507Z",
     "iopub.status.idle": "2020-09-17T08:55:32.036463Z",
     "shell.execute_reply": "2020-09-17T08:55:32.035860Z"
    },
    "id": "afMfqVDipChj",
    "papermill": {
     "duration": 0.045006,
     "end_time": "2020-09-17T08:55:32.036576",
     "exception": false,
     "start_time": "2020-09-17T08:55:31.991570",
     "status": "completed"
    },
    "tags": []
   },
   "outputs": [],
   "source": [
    "Y_test = pd.get_dummies(y_test).values"
   ]
  },
  {
   "cell_type": "code",
   "execution_count": 30,
   "metadata": {
    "execution": {
     "iopub.execute_input": "2020-09-17T08:55:32.111986Z",
     "iopub.status.busy": "2020-09-17T08:55:32.111294Z",
     "iopub.status.idle": "2020-09-17T08:55:32.543947Z",
     "shell.execute_reply": "2020-09-17T08:55:32.543249Z"
    },
    "id": "pQILWKNtpLWK",
    "papermill": {
     "duration": 0.473401,
     "end_time": "2020-09-17T08:55:32.544064",
     "exception": false,
     "start_time": "2020-09-17T08:55:32.070663",
     "status": "completed"
    },
    "tags": []
   },
   "outputs": [],
   "source": [
    "model = Sequential()\n",
    "model.add(Embedding(input_dim=10000,output_dim = 64,input_length=20))\n",
    "model.add(LSTM(64))\n",
    "model.add(Dense(6,activation='softmax'))"
   ]
  },
  {
   "cell_type": "code",
   "execution_count": 31,
   "metadata": {
    "execution": {
     "iopub.execute_input": "2020-09-17T08:55:32.619977Z",
     "iopub.status.busy": "2020-09-17T08:55:32.619238Z",
     "iopub.status.idle": "2020-09-17T08:55:32.623875Z",
     "shell.execute_reply": "2020-09-17T08:55:32.623165Z"
    },
    "executionInfo": {
     "elapsed": 3664,
     "status": "ok",
     "timestamp": 1599670043232,
     "user": {
      "displayName": "Bharath the youtuber",
      "photoUrl": "https://lh3.googleusercontent.com/a-/AOh14GhoNycuaXoMjIU_xbcNA9sqS5-LlnV79OYA-3LH=s64",
      "userId": "09913346759728416579"
     },
     "user_tz": -330
    },
    "id": "2QKJ1tydqLvt",
    "outputId": "30c8f075-af3c-47bb-d6ff-554db3fad8cf",
    "papermill": {
     "duration": 0.04443,
     "end_time": "2020-09-17T08:55:32.623984",
     "exception": false,
     "start_time": "2020-09-17T08:55:32.579554",
     "status": "completed"
    },
    "tags": []
   },
   "outputs": [
    {
     "name": "stdout",
     "output_type": "stream",
     "text": [
      "Model: \"sequential\"\n",
      "_________________________________________________________________\n",
      "Layer (type)                 Output Shape              Param #   \n",
      "=================================================================\n",
      "embedding (Embedding)        (None, 20, 64)            640000    \n",
      "_________________________________________________________________\n",
      "lstm (LSTM)                  (None, 64)                33024     \n",
      "_________________________________________________________________\n",
      "dense (Dense)                (None, 6)                 390       \n",
      "=================================================================\n",
      "Total params: 673,414\n",
      "Trainable params: 673,414\n",
      "Non-trainable params: 0\n",
      "_________________________________________________________________\n"
     ]
    }
   ],
   "source": [
    "model.summary()"
   ]
  },
  {
   "cell_type": "code",
   "execution_count": 32,
   "metadata": {
    "execution": {
     "iopub.execute_input": "2020-09-17T08:55:32.697384Z",
     "iopub.status.busy": "2020-09-17T08:55:32.696725Z",
     "iopub.status.idle": "2020-09-17T08:55:32.711665Z",
     "shell.execute_reply": "2020-09-17T08:55:32.712175Z"
    },
    "id": "88HZ6kezrtDQ",
    "papermill": {
     "duration": 0.052647,
     "end_time": "2020-09-17T08:55:32.712367",
     "exception": false,
     "start_time": "2020-09-17T08:55:32.659720",
     "status": "completed"
    },
    "tags": []
   },
   "outputs": [],
   "source": [
    "model.compile(optimizer='rmsprop',loss='mse',metrics=['accuracy'])"
   ]
  },
  {
   "cell_type": "code",
   "execution_count": 33,
   "metadata": {
    "execution": {
     "iopub.execute_input": "2020-09-17T08:55:32.790309Z",
     "iopub.status.busy": "2020-09-17T08:55:32.789234Z",
     "iopub.status.idle": "2020-09-17T08:56:29.069254Z",
     "shell.execute_reply": "2020-09-17T08:56:29.068705Z"
    },
    "executionInfo": {
     "elapsed": 25151,
     "status": "ok",
     "timestamp": 1599670300650,
     "user": {
      "displayName": "Bharath the youtuber",
      "photoUrl": "https://lh3.googleusercontent.com/a-/AOh14GhoNycuaXoMjIU_xbcNA9sqS5-LlnV79OYA-3LH=s64",
      "userId": "09913346759728416579"
     },
     "user_tz": -330
    },
    "id": "Qge6j-d6q-iH",
    "outputId": "40c3ae0b-85a9-4e20-a351-360677ea67a3",
    "papermill": {
     "duration": 56.321717,
     "end_time": "2020-09-17T08:56:29.069392",
     "exception": false,
     "start_time": "2020-09-17T08:55:32.747675",
     "status": "completed"
    },
    "tags": []
   },
   "outputs": [
    {
     "name": "stdout",
     "output_type": "stream",
     "text": [
      "Epoch 1/10\n",
      "400/400 - 5s - loss: 0.1067 - accuracy: 0.4714 - val_loss: 0.0803 - val_accuracy: 0.6231\n",
      "Epoch 2/10\n",
      "400/400 - 5s - loss: 0.0606 - accuracy: 0.7268 - val_loss: 0.0492 - val_accuracy: 0.7981\n",
      "Epoch 3/10\n",
      "400/400 - 5s - loss: 0.0371 - accuracy: 0.8473 - val_loss: 0.0406 - val_accuracy: 0.8391\n",
      "Epoch 4/10\n",
      "400/400 - 5s - loss: 0.0279 - accuracy: 0.8888 - val_loss: 0.0342 - val_accuracy: 0.8653\n",
      "Epoch 5/10\n",
      "400/400 - 5s - loss: 0.0217 - accuracy: 0.9149 - val_loss: 0.0331 - val_accuracy: 0.8647\n",
      "Epoch 6/10\n",
      "400/400 - 5s - loss: 0.0183 - accuracy: 0.9273 - val_loss: 0.0260 - val_accuracy: 0.8906\n",
      "Epoch 7/10\n",
      "400/400 - 5s - loss: 0.0148 - accuracy: 0.9421 - val_loss: 0.0254 - val_accuracy: 0.9003\n",
      "Epoch 8/10\n",
      "400/400 - 8s - loss: 0.0123 - accuracy: 0.9538 - val_loss: 0.0285 - val_accuracy: 0.8906\n",
      "Epoch 9/10\n",
      "400/400 - 8s - loss: 0.0104 - accuracy: 0.9606 - val_loss: 0.0267 - val_accuracy: 0.8944\n",
      "Epoch 10/10\n",
      "400/400 - 5s - loss: 0.0092 - accuracy: 0.9654 - val_loss: 0.0249 - val_accuracy: 0.9034\n"
     ]
    },
    {
     "data": {
      "text/plain": [
       "<tensorflow.python.keras.callbacks.History at 0x7fbc91135810>"
      ]
     },
     "execution_count": 33,
     "metadata": {},
     "output_type": "execute_result"
    }
   ],
   "source": [
    "model.fit(X_train,Y_train,batch_size=32,epochs=10,verbose=2,validation_split=0.2)"
   ]
  },
  {
   "cell_type": "code",
   "execution_count": 34,
   "metadata": {
    "execution": {
     "iopub.execute_input": "2020-09-17T08:56:29.161023Z",
     "iopub.status.busy": "2020-09-17T08:56:29.160369Z",
     "iopub.status.idle": "2020-09-17T08:56:30.819019Z",
     "shell.execute_reply": "2020-09-17T08:56:30.818474Z"
    },
    "executionInfo": {
     "elapsed": 1492,
     "status": "ok",
     "timestamp": 1599670303249,
     "user": {
      "displayName": "Bharath the youtuber",
      "photoUrl": "https://lh3.googleusercontent.com/a-/AOh14GhoNycuaXoMjIU_xbcNA9sqS5-LlnV79OYA-3LH=s64",
      "userId": "09913346759728416579"
     },
     "user_tz": -330
    },
    "id": "nUZibGExtai4",
    "outputId": "0e94ac97-fbd7-4138-902e-2d6cd94feb9a",
    "papermill": {
     "duration": 1.706677,
     "end_time": "2020-09-17T08:56:30.819134",
     "exception": false,
     "start_time": "2020-09-17T08:56:29.112457",
     "status": "completed"
    },
    "tags": []
   },
   "outputs": [
    {
     "name": "stdout",
     "output_type": "stream",
     "text": [
      "500/500 [==============================] - 2s 3ms/step - loss: 0.0101 - accuracy: 0.9623\n"
     ]
    }
   ],
   "source": [
    "loss,acc = model.evaluate(X_test,Y_test)"
   ]
  },
  {
   "cell_type": "code",
   "execution_count": 35,
   "metadata": {
    "execution": {
     "iopub.execute_input": "2020-09-17T08:56:30.932768Z",
     "iopub.status.busy": "2020-09-17T08:56:30.932125Z",
     "iopub.status.idle": "2020-09-17T08:56:31.300629Z",
     "shell.execute_reply": "2020-09-17T08:56:31.299905Z"
    },
    "papermill": {
     "duration": 0.42799,
     "end_time": "2020-09-17T08:56:31.300813",
     "exception": false,
     "start_time": "2020-09-17T08:56:30.872823",
     "status": "completed"
    },
    "tags": []
   },
   "outputs": [
    {
     "ename": "ValueError",
     "evalue": "The truth value of an array with more than one element is ambiguous. Use a.any() or a.all()",
     "output_type": "error",
     "traceback": [
      "\u001b[0;31m---------------------------------------------------------------------------\u001b[0m",
      "\u001b[0;31mValueError\u001b[0m                                Traceback (most recent call last)",
      "\u001b[0;32m<ipython-input-35-b6dff9be8951>\u001b[0m in \u001b[0;36m<module>\u001b[0;34m\u001b[0m\n\u001b[0;32m----> 1\u001b[0;31m \u001b[0mpreds\u001b[0m \u001b[0;34m=\u001b[0m \u001b[0mmodel\u001b[0m\u001b[0;34m.\u001b[0m\u001b[0mpredict\u001b[0m\u001b[0;34m(\u001b[0m\u001b[0mX_test\u001b[0m\u001b[0;34m,\u001b[0m\u001b[0mY_test\u001b[0m\u001b[0;34m)\u001b[0m\u001b[0;34m\u001b[0m\u001b[0;34m\u001b[0m\u001b[0m\n\u001b[0m",
      "\u001b[0;32m/opt/conda/lib/python3.7/site-packages/tensorflow/python/keras/engine/training.py\u001b[0m in \u001b[0;36m_method_wrapper\u001b[0;34m(self, *args, **kwargs)\u001b[0m\n\u001b[1;32m    128\u001b[0m       raise ValueError('{} is not supported in multi-worker mode.'.format(\n\u001b[1;32m    129\u001b[0m           method.__name__))\n\u001b[0;32m--> 130\u001b[0;31m     \u001b[0;32mreturn\u001b[0m \u001b[0mmethod\u001b[0m\u001b[0;34m(\u001b[0m\u001b[0mself\u001b[0m\u001b[0;34m,\u001b[0m \u001b[0;34m*\u001b[0m\u001b[0margs\u001b[0m\u001b[0;34m,\u001b[0m \u001b[0;34m**\u001b[0m\u001b[0mkwargs\u001b[0m\u001b[0;34m)\u001b[0m\u001b[0;34m\u001b[0m\u001b[0;34m\u001b[0m\u001b[0m\n\u001b[0m\u001b[1;32m    131\u001b[0m \u001b[0;34m\u001b[0m\u001b[0m\n\u001b[1;32m    132\u001b[0m   return tf_decorator.make_decorator(\n",
      "\u001b[0;32m/opt/conda/lib/python3.7/site-packages/tensorflow/python/keras/engine/training.py\u001b[0m in \u001b[0;36mpredict\u001b[0;34m(self, x, batch_size, verbose, steps, callbacks, max_queue_size, workers, use_multiprocessing)\u001b[0m\n\u001b[1;32m   1577\u001b[0m           \u001b[0muse_multiprocessing\u001b[0m\u001b[0;34m=\u001b[0m\u001b[0muse_multiprocessing\u001b[0m\u001b[0;34m,\u001b[0m\u001b[0;34m\u001b[0m\u001b[0;34m\u001b[0m\u001b[0m\n\u001b[1;32m   1578\u001b[0m           \u001b[0mmodel\u001b[0m\u001b[0;34m=\u001b[0m\u001b[0mself\u001b[0m\u001b[0;34m,\u001b[0m\u001b[0;34m\u001b[0m\u001b[0;34m\u001b[0m\u001b[0m\n\u001b[0;32m-> 1579\u001b[0;31m           steps_per_execution=self._steps_per_execution)\n\u001b[0m\u001b[1;32m   1580\u001b[0m \u001b[0;34m\u001b[0m\u001b[0m\n\u001b[1;32m   1581\u001b[0m       \u001b[0;31m# Container that configures and calls `tf.keras.Callback`s.\u001b[0m\u001b[0;34m\u001b[0m\u001b[0;34m\u001b[0m\u001b[0;34m\u001b[0m\u001b[0m\n",
      "\u001b[0;32m/opt/conda/lib/python3.7/site-packages/tensorflow/python/keras/engine/data_adapter.py\u001b[0m in \u001b[0;36m__init__\u001b[0;34m(self, x, y, sample_weight, batch_size, steps_per_epoch, initial_epoch, epochs, shuffle, class_weight, max_queue_size, workers, use_multiprocessing, model, steps_per_execution)\u001b[0m\n\u001b[1;32m   1115\u001b[0m         \u001b[0muse_multiprocessing\u001b[0m\u001b[0;34m=\u001b[0m\u001b[0muse_multiprocessing\u001b[0m\u001b[0;34m,\u001b[0m\u001b[0;34m\u001b[0m\u001b[0;34m\u001b[0m\u001b[0m\n\u001b[1;32m   1116\u001b[0m         \u001b[0mdistribution_strategy\u001b[0m\u001b[0;34m=\u001b[0m\u001b[0mds_context\u001b[0m\u001b[0;34m.\u001b[0m\u001b[0mget_strategy\u001b[0m\u001b[0;34m(\u001b[0m\u001b[0;34m)\u001b[0m\u001b[0;34m,\u001b[0m\u001b[0;34m\u001b[0m\u001b[0;34m\u001b[0m\u001b[0m\n\u001b[0;32m-> 1117\u001b[0;31m         model=model)\n\u001b[0m\u001b[1;32m   1118\u001b[0m \u001b[0;34m\u001b[0m\u001b[0m\n\u001b[1;32m   1119\u001b[0m     \u001b[0mstrategy\u001b[0m \u001b[0;34m=\u001b[0m \u001b[0mds_context\u001b[0m\u001b[0;34m.\u001b[0m\u001b[0mget_strategy\u001b[0m\u001b[0;34m(\u001b[0m\u001b[0;34m)\u001b[0m\u001b[0;34m\u001b[0m\u001b[0;34m\u001b[0m\u001b[0m\n",
      "\u001b[0;32m/opt/conda/lib/python3.7/site-packages/tensorflow/python/keras/engine/data_adapter.py\u001b[0m in \u001b[0;36m__init__\u001b[0;34m(self, x, y, sample_weights, sample_weight_modes, batch_size, epochs, steps, shuffle, **kwargs)\u001b[0m\n\u001b[1;32m    285\u001b[0m     \u001b[0;31m# If batch_size is not passed but steps is, calculate from the input data.\u001b[0m\u001b[0;34m\u001b[0m\u001b[0;34m\u001b[0m\u001b[0;34m\u001b[0m\u001b[0m\n\u001b[1;32m    286\u001b[0m     \u001b[0;31m# Default to 32 for backwards compat.\u001b[0m\u001b[0;34m\u001b[0m\u001b[0;34m\u001b[0m\u001b[0;34m\u001b[0m\u001b[0m\n\u001b[0;32m--> 287\u001b[0;31m     \u001b[0;32mif\u001b[0m \u001b[0;32mnot\u001b[0m \u001b[0mbatch_size\u001b[0m\u001b[0;34m:\u001b[0m\u001b[0;34m\u001b[0m\u001b[0;34m\u001b[0m\u001b[0m\n\u001b[0m\u001b[1;32m    288\u001b[0m       \u001b[0mbatch_size\u001b[0m \u001b[0;34m=\u001b[0m \u001b[0mint\u001b[0m\u001b[0;34m(\u001b[0m\u001b[0mmath\u001b[0m\u001b[0;34m.\u001b[0m\u001b[0mceil\u001b[0m\u001b[0;34m(\u001b[0m\u001b[0mnum_samples\u001b[0m \u001b[0;34m/\u001b[0m \u001b[0msteps\u001b[0m\u001b[0;34m)\u001b[0m\u001b[0;34m)\u001b[0m \u001b[0;32mif\u001b[0m \u001b[0msteps\u001b[0m \u001b[0;32melse\u001b[0m \u001b[0;36m32\u001b[0m\u001b[0;34m\u001b[0m\u001b[0;34m\u001b[0m\u001b[0m\n\u001b[1;32m    289\u001b[0m \u001b[0;34m\u001b[0m\u001b[0m\n",
      "\u001b[0;31mValueError\u001b[0m: The truth value of an array with more than one element is ambiguous. Use a.any() or a.all()"
     ]
    }
   ],
   "source": [
    "preds = model.predict(X_test,Y_test)"
   ]
  }
 ],
 "metadata": {
  "kernelspec": {
   "display_name": "Python 3",
   "language": "python",
   "name": "python3"
  },
  "language_info": {
   "codemirror_mode": {
    "name": "ipython",
    "version": 3
   },
   "file_extension": ".py",
   "mimetype": "text/x-python",
   "name": "python",
   "nbconvert_exporter": "python",
   "pygments_lexer": "ipython3",
   "version": "3.8.5"
  },
  "papermill": {
   "duration": 160.664952,
   "end_time": "2020-09-17T08:56:31.464858",
   "environment_variables": {},
   "exception": null,
   "input_path": "__notebook__.ipynb",
   "output_path": "__notebook__.ipynb",
   "parameters": {},
   "start_time": "2020-09-17T08:53:50.799906",
   "version": "2.1.0"
  }
 },
 "nbformat": 4,
 "nbformat_minor": 4
}
