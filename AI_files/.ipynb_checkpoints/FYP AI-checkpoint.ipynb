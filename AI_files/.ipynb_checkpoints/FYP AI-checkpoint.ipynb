{
 "cells": [
  {
   "cell_type": "code",
   "execution_count": 65,
   "metadata": {},
   "outputs": [],
   "source": [
    "import tensorflow.keras as keras\n",
    "from tensorflow.keras.models import Sequential\n",
    "from tensorflow.keras.layers import LSTM\n",
    "from tensorflow.keras.layers import Dense\n",
    "from tensorflow.keras.layers import TimeDistributed\n",
    "from tensorflow.keras.layers import Bidirectional,Embedding\n",
    "from tensorflow.keras.preprocessing.text import Tokenizer\n",
    "from tensorflow.keras.preprocessing.sequence import pad_sequences\n",
    "from tensorflow.python.keras.layers.core import Activation, Flatten\n",
    "\n",
    "\n",
    "\n",
    "import numpy as np\n",
    "from numpy import array\n",
    "import pandas as pd\n",
    "\n",
    "import matplotlib.pyplot as plt\n",
    "\n",
    "\n",
    "from sklearn.preprocessing import LabelEncoder\n",
    "from sklearn.preprocessing import OneHotEncoder\n",
    "from tensorflow.keras.utils import to_categorical\n",
    "\n",
    "from tensorflow.keras.models import load_model\n",
    "\n"
   ]
  },
  {
   "cell_type": "raw",
   "metadata": {},
   "source": [
    "Read dataset"
   ]
  },
  {
   "cell_type": "code",
   "execution_count": 66,
   "metadata": {},
   "outputs": [],
   "source": [
    "dr_train = pd.read_csv('train.txt', header =None, sep =';', names = ['Texts','Emotions'], encoding='utf-8')\n",
    "df_test = pd.read_csv('test.txt', header = None, sep =';', names = ['Texts','Emotions'],encoding='utf-8')\n",
    "df_val = pd.read_csv('val.txt', header = None, sep =';', names = ['Texts','Emotions'],encoding='utf-8')\n",
    "# frames = [dr_train,df_test,df_val]\n",
    "frames = [dr_train]\n",
    "df_train =pd.concat(frames)"
   ]
  },
  {
   "cell_type": "code",
   "execution_count": 67,
   "metadata": {
    "scrolled": true
   },
   "outputs": [
    {
     "data": {
      "text/plain": [
       "joy         5362\n",
       "sadness     4666\n",
       "anger       2159\n",
       "fear        1937\n",
       "love        1304\n",
       "surprise     572\n",
       "Name: Emotions, dtype: int64"
      ]
     },
     "execution_count": 67,
     "metadata": {},
     "output_type": "execute_result"
    }
   ],
   "source": [
    "df_train.Emotions.value_counts()\n"
   ]
  },
  {
   "cell_type": "code",
   "execution_count": 68,
   "metadata": {},
   "outputs": [
    {
     "data": {
      "text/html": [
       "<div>\n",
       "<style scoped>\n",
       "    .dataframe tbody tr th:only-of-type {\n",
       "        vertical-align: middle;\n",
       "    }\n",
       "\n",
       "    .dataframe tbody tr th {\n",
       "        vertical-align: top;\n",
       "    }\n",
       "\n",
       "    .dataframe thead th {\n",
       "        text-align: right;\n",
       "    }\n",
       "</style>\n",
       "<table border=\"1\" class=\"dataframe\">\n",
       "  <thead>\n",
       "    <tr style=\"text-align: right;\">\n",
       "      <th></th>\n",
       "      <th>Texts</th>\n",
       "      <th>Emotions</th>\n",
       "    </tr>\n",
       "  </thead>\n",
       "  <tbody>\n",
       "    <tr>\n",
       "      <th>0</th>\n",
       "      <td>i didnt feel humiliated</td>\n",
       "      <td>sadness</td>\n",
       "    </tr>\n",
       "    <tr>\n",
       "      <th>1</th>\n",
       "      <td>i can go from feeling so hopeless to so damned...</td>\n",
       "      <td>sadness</td>\n",
       "    </tr>\n",
       "    <tr>\n",
       "      <th>2</th>\n",
       "      <td>im grabbing a minute to post i feel greedy wrong</td>\n",
       "      <td>anger</td>\n",
       "    </tr>\n",
       "    <tr>\n",
       "      <th>3</th>\n",
       "      <td>i am ever feeling nostalgic about the fireplac...</td>\n",
       "      <td>love</td>\n",
       "    </tr>\n",
       "    <tr>\n",
       "      <th>4</th>\n",
       "      <td>i am feeling grouchy</td>\n",
       "      <td>anger</td>\n",
       "    </tr>\n",
       "  </tbody>\n",
       "</table>\n",
       "</div>"
      ],
      "text/plain": [
       "                                               Texts Emotions\n",
       "0                            i didnt feel humiliated  sadness\n",
       "1  i can go from feeling so hopeless to so damned...  sadness\n",
       "2   im grabbing a minute to post i feel greedy wrong    anger\n",
       "3  i am ever feeling nostalgic about the fireplac...     love\n",
       "4                               i am feeling grouchy    anger"
      ]
     },
     "execution_count": 68,
     "metadata": {},
     "output_type": "execute_result"
    }
   ],
   "source": [
    "df_train.head()"
   ]
  },
  {
   "cell_type": "raw",
   "metadata": {},
   "source": [
    "Preprocessing and data cleaning"
   ]
  },
  {
   "cell_type": "code",
   "execution_count": 69,
   "metadata": {},
   "outputs": [
    {
     "name": "stdout",
     "output_type": "stream",
     "text": [
      "Wall time: 1.25 s\n"
     ]
    }
   ],
   "source": [
    "%%time\n",
    "import re \n",
    "text = ' '.join(df_train['Texts'])\n",
    "text =text.split()\n",
    "common = pd.Series(text).value_counts()\n",
    "rare =common[common.values == 1]\n",
    "\n",
    "def clean(x):\n",
    "    if type(x) is str:\n",
    "        x=x.lower()\n",
    "        x = re.sub(r'([a-zA-Z0-9+._-]+@[a-zA-Z0-9._-]+\\.[a-zA-Z0-9_-]+)', '', x) \n",
    "        #regex to remove to emails\n",
    "        x = re.sub(r'(http|ftp|https)://([\\w_-]+(?:(?:\\.[\\w_-]+)+))([\\w.,@?^=%&:/~+#-]*[\\w@?^=%&/~+#-])?', '', x)\n",
    "        #regex to remove URLs\n",
    "        x = re.sub('[^A-Z a-z]+', '', x)\n",
    "        x = ' '.join([t for t in x.split() if t not in rare])\n",
    "        return x\n",
    "    else:\n",
    "        return x\n",
    "    \n",
    "df_train['Texts'] = df_train['Texts'].apply(lambda x: clean(x)) "
   ]
  },
  {
   "cell_type": "code",
   "execution_count": 70,
   "metadata": {},
   "outputs": [
    {
     "data": {
      "text/plain": [
       "['i didnt feel humiliated',\n",
       " 'i can go from feeling so hopeless to so damned hopeful just from being around someone who cares and is awake',\n",
       " 'im grabbing a minute to post i feel greedy wrong',\n",
       " 'i am ever feeling nostalgic about the fireplace i will know that it is still on the property',\n",
       " 'i am feeling grouchy',\n",
       " 'ive been feeling a little burdened lately wasnt sure why that was',\n",
       " 'ive been taking or or times amount and ive fallen asleep a lot faster but i also feel like so funny',\n",
       " 'i feel as confused about life as a teenager or as jaded as a year old man',\n",
       " 'i have been with petronas for years i feel that petronas has performed well and made a huge profit',\n",
       " 'i feel romantic too']"
      ]
     },
     "execution_count": 70,
     "metadata": {},
     "output_type": "execute_result"
    }
   ],
   "source": [
    "x =df_train['Texts'].tolist()\n",
    "tv = df_val['Texts'].tolist()\n",
    "x[:10]"
   ]
  },
  {
   "cell_type": "code",
   "execution_count": 71,
   "metadata": {},
   "outputs": [],
   "source": [
    "y= df_train['Emotions']\n",
    "ty= df_test['Emotions']"
   ]
  },
  {
   "cell_type": "code",
   "execution_count": 72,
   "metadata": {},
   "outputs": [],
   "source": [
    "token =Tokenizer()\n",
    "token.fit_on_texts(x)\n",
    "encoded_text = token.texts_to_sequences(x)\n",
    "# token.fit_on_texts(tx)\n",
    "# encoded_text1 = token.texts_to_sequences(tx)"
   ]
  },
  {
   "cell_type": "code",
   "execution_count": 73,
   "metadata": {},
   "outputs": [
    {
     "data": {
      "text/plain": [
       "7399"
      ]
     },
     "execution_count": 73,
     "metadata": {},
     "output_type": "execute_result"
    }
   ],
   "source": [
    "len(token.word_index)"
   ]
  },
  {
   "cell_type": "code",
   "execution_count": 74,
   "metadata": {},
   "outputs": [
    {
     "data": {
      "text/plain": [
       "7400"
      ]
     },
     "execution_count": 74,
     "metadata": {},
     "output_type": "execute_result"
    }
   ],
   "source": [
    "size =len(token.word_index)+1\n",
    "size"
   ]
  },
  {
   "cell_type": "code",
   "execution_count": 75,
   "metadata": {},
   "outputs": [
    {
     "name": "stdout",
     "output_type": "stream",
     "text": [
      "{1: 'i', 2: 'feel', 3: 'and', 4: 'to', 5: 'the', 6: 'a', 7: 'feeling', 8: 'that', 9: 'of', 10: 'my', 11: 'in', 12: 'it', 13: 'like', 14: 'so', 15: 'for', 16: 'im', 17: 'me', 18: 'but', 19: 'was', 20: 'have', 21: 'is', 22: 'this', 23: 'am', 24: 'with', 25: 'not', 26: 'about', 27: 'be', 28: 'as', 29: 'on', 30: 'you', 31: 'just', 32: 'at', 33: 'when', 34: 'or', 35: 'all', 36: 'because', 37: 'more', 38: 'do', 39: 'can', 40: 'really', 41: 'up', 42: 't', 43: 'are', 44: 'by', 45: 'very', 46: 'know', 47: 'been', 48: 'if', 49: 'out', 50: 'myself', 51: 'time', 52: 'how', 53: 'what', 54: 'get', 55: 'little', 56: 'had', 57: 'now', 58: 'will', 59: 'from', 60: 'being', 61: 'they', 62: 'people', 63: 'them', 64: 'would', 65: 'he', 66: 'want', 67: 'her', 68: 'some', 69: 'think', 70: 'one', 71: 'still', 72: 'ive', 73: 'him', 74: 'even', 75: 'who', 76: 'an', 77: 'life', 78: 'its', 79: 'make', 80: 'there', 81: 'we', 82: 'bit', 83: 'something', 84: 'love', 85: 'much', 86: 'going', 87: 'dont', 88: 'things', 89: 's', 90: 'way', 91: 'could', 92: 'm', 93: 'too', 94: 'than', 95: 'no', 96: 'day', 97: 'she', 98: 'has', 99: 'back', 100: 'go', 101: 'good', 102: 'pretty', 103: 'don', 104: 'need', 105: 'into', 106: 'his', 107: 'which', 108: 'these', 109: 'your', 110: 'their', 111: 'always', 112: 'see', 113: 'right', 114: 'feelings', 115: 'over', 116: 'also', 117: 'only', 118: 'say', 119: 'other', 120: 'should', 121: 'today', 122: 'feels', 123: 'work', 124: 'then', 125: 'after', 126: 'did', 127: 'around', 128: 'again', 129: 'were', 130: 'cant', 131: 'made', 132: 'our', 133: 'most', 134: 'well', 135: 'here', 136: 'though', 137: 'through', 138: 'didnt', 139: 'help', 140: 'got', 141: 'down', 142: 'those', 143: 'felt', 144: 'never', 145: 'any', 146: 'every', 147: 'someone', 148: 'days', 149: 'having', 150: 'less', 151: 'makes', 152: 'where', 153: 'happy', 154: 'doing', 155: 'enough', 156: 'quite', 157: 'sure', 158: 'lot', 159: 'many', 160: 'why', 161: 'away', 162: 'look', 163: 'find', 164: 'ever', 165: 'anything', 166: 'home', 167: 'kind', 168: 'off', 169: 'better', 170: 'person', 171: 'left', 172: 'friends', 173: 'without', 174: 'own', 175: 'before', 176: 'everything', 177: 'actually', 178: 'last', 179: 'getting', 180: 'such', 181: 'come', 182: 'take', 183: 'world', 184: 'new', 185: 'sometimes', 186: 'while', 187: 'http', 188: 'thing', 189: 'remember', 190: 'trying', 191: 'few', 192: 'year', 193: 'thought', 194: 'first', 195: 'times', 196: 'family', 197: 'started', 198: 'able', 199: 'said', 200: 'alone', 201: 'week', 202: 'rather', 203: 'try', 204: 'making', 205: 'long', 206: 'let', 207: 'already', 208: 'keep', 209: 'href', 210: 'bad', 211: 'ill', 212: 'start', 213: 'us', 214: 'years', 215: 'read', 216: 'others', 217: 'yet', 218: 'two', 219: 'give', 220: 'tell', 221: 'may', 222: 'place', 223: 'same', 224: 'write', 225: 'since', 226: 'nothing', 227: 'end', 228: 'heart', 229: 'part', 230: 'often', 231: 'hate', 232: 'stressed', 233: 'strange', 234: 'sweet', 235: 'moment', 236: 'morning', 237: 'overwhelmed', 238: 'hope', 239: 'might', 240: 'school', 241: 'god', 242: 'blog', 243: 'anyone', 244: 'didn', 245: 'night', 246: 'weird', 247: 'put', 248: 'id', 249: 'hard', 250: 'friend', 251: 'guess', 252: 'looking', 253: 'stop', 254: 'wanted', 255: 'everyone', 256: 'once', 257: 'whole', 258: 'point', 259: 'sad', 260: 'pain', 261: 'does', 262: 'thinking', 263: 'angry', 264: 'another', 265: 'loved', 266: 'old', 267: 'excited', 268: 'went', 269: 'lost', 270: 'hurt', 271: 'amazing', 272: 'blessed', 273: 'done', 274: 'each', 275: 'writing', 276: 'passionate', 277: 'understand', 278: 'body', 279: 'talk', 280: 'important', 281: 'maybe', 282: 'stupid', 283: 'almost', 284: 'completely', 285: 'post', 286: 'self', 287: 'tired', 288: 'least', 289: 've', 290: 'especially', 291: 'next', 292: 'helpless', 293: 'accepted', 294: 'free', 295: 'must', 296: 'use', 297: 'past', 298: 'best', 299: 'leave', 300: 'afraid', 301: 'face', 302: 'hated', 303: 'mean', 304: 'great', 305: 'used', 306: 'sense', 307: 'agitated', 308: 'cold', 309: 'fact', 310: 'thats', 311: 'care', 312: 'job', 313: 'real', 314: 'mind', 315: 'starting', 316: 'believe', 317: 'inside', 318: 'lately', 319: 'else', 320: 'girl', 321: 'towards', 322: 'found', 323: 'sleep', 324: 'totally', 325: 'reason', 326: 'strong', 327: 'wasnt', 328: 'taking', 329: 'book', 330: 'live', 331: 'until', 332: 'supporting', 333: 'thankful', 334: 'anxious', 335: 'class', 336: 'nervous', 337: 'probably', 338: 'low', 339: 'glad', 340: 'ok', 341: 'generous', 342: 'sorry', 343: 'sort', 344: 'become', 345: 'share', 346: 'loving', 347: 'told', 348: 'words', 349: 'months', 350: 'slightly', 351: 'far', 352: 'wonderful', 353: 'head', 354: 'saying', 355: 'perfect', 356: 'reading', 357: 'kids', 358: 'house', 359: 'came', 360: 'depressed', 361: 'wish', 362: 'safe', 363: 'lonely', 364: 'cool', 365: 'frustrated', 366: 'special', 367: 'show', 368: 'particularly', 369: 'working', 370: 'comfortable', 371: 're', 372: 'scared', 373: 'man', 374: 'coming', 375: 'extremely', 376: 'hear', 377: 'guilty', 378: 'child', 379: 'horrible', 380: 'fine', 381: 'positive', 382: 'bed', 383: 'big', 384: 'emotional', 385: 'children', 386: 'during', 387: 'call', 388: 'confident', 389: 'run', 390: 'amp', 391: 'beloved', 392: 'miserable', 393: 'stuff', 394: 'truly', 395: 'hot', 396: 'terrified', 397: 'thoughts', 398: 'exhausted', 399: 'missed', 400: 'cannot', 401: 'eyes', 402: 'lovely', 403: 'proud', 404: 'tortured', 405: 'ashamed', 406: 'living', 407: 'finally', 408: 'woke', 409: 'control', 410: 'liked', 411: 'irritable', 412: 'hours', 413: 'mother', 414: 'satisfied', 415: 'room', 416: 'anymore', 417: 'havent', 418: 'future', 419: 'awkward', 420: 'walk', 421: 'admit', 422: 'together', 423: 'mad', 424: 'close', 425: 'content', 426: 'selfish', 427: 'seem', 428: 'change', 429: 'usually', 430: 'story', 431: 'lucky', 432: 'successful', 433: 'doesnt', 434: 'disappointed', 435: 'caring', 436: 'spent', 437: 'wrong', 438: 'confused', 439: 'experience', 440: 'unsure', 441: 'woman', 442: 'miss', 443: 'decided', 444: 'wont', 445: 'lethargic', 446: 'amazed', 447: 'super', 448: 'fun', 449: 'matter', 450: 'somehow', 451: 'instead', 452: 'unhappy', 453: 'bothered', 454: 'funny', 455: 'energy', 456: 'longer', 457: 'creative', 458: 'inspired', 459: 'mom', 460: 'popular', 461: 'knew', 462: 'baby', 463: 'seems', 464: 'couldnt', 465: 'side', 466: 'embarrassed', 467: 'small', 468: 'shitty', 469: 'vulnerable', 470: 'annoyed', 471: 'cute', 472: 'full', 473: 'somewhat', 474: 'brave', 475: 'talented', 476: 'situation', 477: 'enjoy', 478: 'move', 479: 'weeks', 480: 'between', 481: 'rest', 482: 'running', 483: 'ask', 484: 'calm', 485: 'idea', 486: 'awful', 487: 'rich', 488: 'terrible', 489: 'knowing', 490: 'ago', 491: 'convinced', 492: 'both', 493: 'hopeless', 494: 'greedy', 495: 'surprised', 496: 'shaken', 497: 'uncomfortable', 498: 'punished', 499: 'absolutely', 500: 'needed', 501: 'empty', 502: 'uncertain', 503: 'precious', 504: 'irritated', 505: 'fucked', 506: 'hes', 507: 'sit', 508: 'money', 509: 'comes', 510: 'insecure', 511: 'melancholy', 512: 'impressed', 513: 'discouraged', 514: 'aching', 515: 'wear', 516: 'offended', 517: 'happen', 518: 'food', 519: 'devastated', 520: 'burdened', 521: 'rejected', 522: 'support', 523: 'eat', 524: 'asked', 525: 'useful', 526: 'hair', 527: 'jealous', 528: 'resentful', 529: 'divine', 530: 'violent', 531: 'talking', 532: 'soon', 533: 'homesick', 534: 'nice', 535: 'sitting', 536: 'wonder', 537: 'simply', 538: 'reluctant', 539: 'dull', 540: 'll', 541: 'husband', 542: 'pleasant', 543: 'seeing', 544: 'different', 545: 'giving', 546: 'watch', 547: 'isolated', 548: 'turn', 549: 'women', 550: 'open', 551: 'happened', 552: 'hopeful', 553: 'however', 554: 'beautiful', 555: 'whether', 556: 'cause', 557: 'music', 558: 'cranky', 559: 'respected', 560: 'youre', 561: 'hand', 562: 'paranoid', 563: 'tonight', 564: 'useless', 565: 'began', 566: 'kinda', 567: 'rude', 568: 'mine', 569: 'gorgeous', 570: 'rushed', 571: 'apprehensive', 572: 'assured', 573: 'curious', 574: 'stay', 575: 'ways', 576: 'theres', 577: 'beaten', 578: 'wanting', 579: 'insulted', 580: 'determined', 581: 'pressured', 582: 'honored', 583: 'relaxed', 584: 'ugly', 585: 'sick', 586: 'pissed', 587: 'groggy', 588: 'innocent', 589: 'gloomy', 590: 'valuable', 591: 'guy', 592: 'unwelcome', 593: 'parents', 594: 'took', 595: 'ready', 596: 'wronged', 597: 'either', 598: 'valued', 599: 'gone', 600: 'certain', 601: 'dangerous', 602: 'incredibly', 603: 'honestly', 604: 'watching', 605: 'wake', 606: 'numb', 607: 'optimistic', 608: 'set', 609: 'dissatisfied', 610: 'pathetic', 611: 'needs', 612: 'couple', 613: 'faithful', 614: 'against', 615: 'intimidated', 616: 'shy', 617: 'blank', 618: 'sympathetic', 619: 'ignored', 620: 'crappy', 621: 'friendly', 622: 'dumb', 623: 'books', 624: 'joyful', 625: 'heartbroken', 626: 'dirty', 627: 'song', 628: 'bitter', 629: 'superior', 630: 'worthless', 631: 'cry', 632: 'three', 633: 'shes', 634: 'relationship', 635: 'disheartened', 636: 'sincere', 637: 'longing', 638: 'smart', 639: 'weekend', 640: 'threatened', 641: 'pleased', 642: 'festive', 643: 'realize', 644: 'high', 645: 'definitely', 646: 'called', 647: 'regretful', 648: 'front', 649: 'hesitant', 650: 'lousy', 651: 'www', 652: 'listen', 653: 'vain', 654: 'mellow', 655: 'trust', 656: 'weight', 657: 'delicious', 658: 'joy', 659: 'disturbed', 660: 'clever', 661: 'broke', 662: 'naughty', 663: 'upset', 664: 'nostalgic', 665: 'romantic', 666: 'fake', 667: 'supportive', 668: 'd', 669: 'shocked', 670: 'bitchy', 671: 'productive', 672: 'damaged', 673: 'ones', 674: 'yesterday', 675: 'eating', 676: 'waiting', 677: 'guys', 678: 'humiliated', 679: 'lives', 680: 'etc', 681: 'spend', 682: 'fearful', 683: 'fantastic', 684: 'outside', 685: 'resolved', 686: 'distracted', 687: 'true', 688: 'drained', 689: 'half', 690: 'troubled', 691: 'inadequate', 692: 'hour', 693: 'defeated', 694: 'course', 695: 'given', 696: 'energetic', 697: 'disgusted', 698: 'whatever', 699: 'tried', 700: 'intelligent', 701: 'suddenly', 702: 'shaky', 703: 'petty', 704: 'listless', 705: 'gentle', 706: 'unimportant', 707: 'trusting', 708: 'fabulous', 709: 'carefree', 710: 'boring', 711: 'second', 712: 'whenever', 713: 'relieved', 714: 'rotten', 715: 'welcomed', 716: 'lame', 717: 'skin', 718: 'behind', 719: 'generally', 720: 'christmas', 721: 'supposed', 722: 'eager', 723: 'deprived', 724: 'needy', 725: 'isnt', 726: 'exactly', 727: 'continue', 728: 'single', 729: 'deep', 730: 'unfortunate', 731: 'summer', 732: 'suffering', 733: 'list', 734: 'grateful', 735: 'under', 736: 'buy', 737: 'horny', 738: 'rebellious', 739: 'hold', 740: 'impatient', 741: 'play', 742: 'adventurous', 743: 'although', 744: 'realized', 745: 'doomed', 746: 'plan', 747: 'young', 748: 'worthwhile', 749: 'country', 750: 'word', 751: 'restless', 752: 'toward', 753: 'loyal', 754: 'tender', 755: 'thrilled', 756: 'peaceful', 757: 'order', 758: 'virtuous', 759: 'jaded', 760: 'smile', 761: 'girls', 762: 'car', 763: 'artistic', 764: 'taken', 765: 'deal', 766: 'ungrateful', 767: 'learned', 768: 'mood', 769: 'honoured', 770: 'fear', 771: 'invigorated', 772: 'normal', 773: 'students', 774: 'using', 775: 'forward', 776: 'wasn', 777: 'along', 778: 'game', 779: 'lack', 780: 'frightened', 781: 'boy', 782: 'problems', 783: 'movie', 784: 'men', 785: 'foolish', 786: 'later', 787: 'acceptable', 788: 'saw', 789: 'name', 790: 'contented', 791: 'abused', 792: 'within', 793: 'break', 794: 'constantly', 795: 'grumpy', 796: 'sat', 797: 'discontent', 798: 'stand', 799: 'telling', 800: 'learn', 801: 'seen', 802: 'moving', 803: 'emotions', 804: 'smug', 805: 'vital', 806: 'beginning', 807: 'lose', 808: 'dream', 809: 'moments', 810: 'art', 811: 'stomach', 812: 'oh', 813: 'triumphant', 814: 'opportunity', 815: 'delicate', 816: 'fall', 817: 'doesn', 818: 'fond', 819: 'desire', 820: 'privileged', 821: 'putting', 822: 'learning', 823: 'terrific', 824: 'minutes', 825: 'stubborn', 826: 'hands', 827: 'meet', 828: 'easy', 829: 'unloved', 830: 'upon', 831: 'submissive', 832: 'age', 833: 'casual', 834: 'team', 835: 'means', 836: 'ecstatic', 837: 'deeply', 838: 'walked', 839: 'type', 840: 'reassured', 841: 'begin', 842: 'goes', 843: 'piece', 844: 'shit', 845: 'wouldnt', 846: 'src', 847: 'worked', 848: 'peace', 849: 'human', 850: 'bring', 851: 'frantic', 852: 'focus', 853: 'worried', 854: 'gets', 855: 'looks', 856: 'healthy', 857: 'kept', 858: 'worth', 859: 'met', 860: 'speak', 861: 'imagine', 862: 'won', 863: 'yes', 864: 'despite', 865: 'group', 866: 'touch', 867: 'personal', 868: 'walking', 869: 'air', 870: 'wearing', 871: 'wants', 872: 'red', 873: 'possibly', 874: 'loss', 875: 'leaving', 876: 'suppose', 877: 'seriously', 878: 'late', 879: 'father', 880: 'space', 881: 'utterly', 882: 'chance', 883: 'phone', 884: 'month', 885: 'comments', 886: 'appreciative', 887: 'amount', 888: 'possible', 889: 'sentimental', 890: 'skeptical', 891: 'stories', 892: 'strongly', 893: 'finished', 894: 'arms', 895: 'across', 896: 'attention', 897: 'envious', 898: 'due', 899: 'tragic', 900: 'damn', 901: 'news', 902: 'amused', 903: 'heard', 904: 'short', 905: 'son', 906: 'tears', 907: 'perhaps', 908: 'quickly', 909: 'style', 910: 'known', 911: 'add', 912: 'spending', 913: 'recently', 914: 'brain', 915: 'questions', 916: 'fucking', 917: 'state', 918: 'community', 919: 'expect', 920: 'unpleasant', 921: 'truth', 922: 'theyre', 923: 'college', 924: 'img', 925: 'line', 926: 'wondering', 927: 'water', 928: 'gave', 929: 'keeping', 930: 'worse', 931: 'doubtful', 932: 'personally', 933: 'dazed', 934: 'finish', 935: 'crazy', 936: 'top', 937: 'disillusioned', 938: 'delighted', 939: 'picture', 940: 'emotionally', 941: 'pay', 942: 'level', 943: 'crying', 944: 'themselves', 945: 'sleeping', 946: 'race', 947: 'cut', 948: 'act', 949: 'voice', 950: 'managed', 951: 'party', 952: 'sadness', 953: 'spirit', 954: 'decision', 955: 'lots', 956: 'messy', 957: 'photos', 958: 'four', 959: 'usual', 960: 'reasons', 961: 'explain', 962: 'distressed', 963: 'everyday', 964: 'trip', 965: 'u', 966: 'effort', 967: 'stress', 968: 'hostile', 969: 'missing', 970: 'physically', 971: 'tomorrow', 972: 'light', 973: 'anger', 974: 'death', 975: 'decide', 976: 'lazy', 977: 'choice', 978: 'wait', 979: 'fairly', 980: 'weather', 981: 'hit', 982: 'remorseful', 983: 'listening', 984: 'anyway', 985: 'early', 986: 'church', 987: 'general', 988: 'step', 989: 'mostly', 990: 'passed', 991: 'tend', 992: 'glamorous', 993: 'please', 994: 'keen', 995: 'looked', 996: 'gotten', 997: 'forget', 998: 'asking', 999: 'issues', 1000: 'blogging', 1001: 'throw', 1002: 'suspicious', 1003: 'readers', 1004: 'sound', 1005: 'helping', 1006: 'express', 1007: 'wanna', 1008: 'sister', 1009: 'playful', 1010: 'worry', 1011: 'warm', 1012: 'complete', 1013: 'posting', 1014: 'black', 1015: 'pressure', 1016: 'door', 1017: 'happiness', 1018: 'hell', 1019: 'presence', 1020: 'die', 1021: 'pick', 1022: 'reach', 1023: 'social', 1024: 'sharing', 1025: 'knowledge', 1026: 'says', 1027: 'allowed', 1028: 'ended', 1029: 'health', 1030: 'characters', 1031: 'number', 1032: 'idiotic', 1033: 'hateful', 1034: 'enjoyed', 1035: 'describe', 1036: 'except', 1037: 'huge', 1038: 'anxiety', 1039: 'sun', 1040: 'several', 1041: 'finding', 1042: 'fully', 1043: 'dark', 1044: 'indecisive', 1045: 'results', 1046: 'fit', 1047: 'complacent', 1048: 'simple', 1049: 'ahead', 1050: 'case', 1051: 'busy', 1052: 'songs', 1053: 'create', 1054: 'happens', 1055: 'evening', 1056: 'gonna', 1057: 'computer', 1058: 'drink', 1059: 'chest', 1060: 'respect', 1061: 'strength', 1062: 'soul', 1063: 'film', 1064: 'grouchy', 1065: 'five', 1066: 'inhibited', 1067: 'physical', 1068: 'sex', 1069: 'somewhere', 1070: 'letting', 1071: 'certainly', 1072: 'whats', 1073: 'push', 1074: 'ability', 1075: 'kid', 1076: 'honest', 1077: 'title', 1078: 'consider', 1079: 'boyfriend', 1080: 'gift', 1081: 'memories', 1082: 'losing', 1083: 'nor', 1084: 'onto', 1085: 'shouldnt', 1086: 'allow', 1087: 'training', 1088: 'further', 1089: 'guilt', 1090: 'project', 1091: 'meeting', 1092: 'mention', 1093: 'negative', 1094: 'answer', 1095: 'dad', 1096: 'issue', 1097: 'entirely', 1098: 'expected', 1099: 'season', 1100: 'wrote', 1101: 'doubt', 1102: 'entire', 1103: 'paper', 1104: 'couldn', 1105: 'terribly', 1106: 'written', 1107: 'career', 1108: 'distraught', 1109: 'playing', 1110: 'conversation', 1111: 'connection', 1112: 'lie', 1113: 'beyond', 1114: 'crap', 1115: 'ground', 1116: 'company', 1117: 'thank', 1118: 'weepy', 1119: 'stopped', 1120: 'deserve', 1121: 'middle', 1122: 'changes', 1123: 'lol', 1124: 'comfort', 1125: 'process', 1126: 'area', 1127: 'beauty', 1128: 'easily', 1129: 'series', 1130: 'brought', 1131: 'lively', 1132: 'assaulted', 1133: 'pregnant', 1134: 'gracious', 1135: 'breath', 1136: 'media', 1137: 'offer', 1138: 'problem', 1139: 'fuck', 1140: 'clothes', 1141: 'extra', 1142: 'difficult', 1143: 'happening', 1144: 'talked', 1145: 'slowly', 1146: 'daughter', 1147: 'yourself', 1148: 'minute', 1149: 'elegant', 1150: 'situations', 1151: 'throughout', 1152: 'pictures', 1153: 'itself', 1154: 'works', 1155: 'hoping', 1156: 'whom', 1157: 'near', 1158: 'relationships', 1159: 'date', 1160: 'color', 1161: 'entertained', 1162: 'himself', 1163: 'daily', 1164: 'feet', 1165: 'b', 1166: 'character', 1167: 'boys', 1168: 'dinner', 1169: 'remind', 1170: 'thanks', 1171: 'kiss', 1172: 'spot', 1173: 'appreciate', 1174: 'white', 1175: 'enjoying', 1176: 'dead', 1177: 'posts', 1178: 'figure', 1179: 'struggling', 1180: 'heartless', 1181: 'return', 1182: 'office', 1183: 'holiday', 1184: 'earlier', 1185: 'visit', 1186: 'eye', 1187: 'dreams', 1188: 'non', 1189: 'compassionate', 1190: 'afternoon', 1191: 'shoes', 1192: 'pass', 1193: 'leaves', 1194: 'devoted', 1195: 'choose', 1196: 'older', 1197: 'sarcastic', 1198: 'uptight', 1199: 'fault', 1200: 'sociable', 1201: 'drive', 1202: 'ideas', 1203: 'aware', 1204: 'straight', 1205: 'silly', 1206: 'attempt', 1207: 'confidence', 1208: 'stuck', 1209: 'lived', 1210: 'struggle', 1211: 'gives', 1212: 'blamed', 1213: 'involved', 1214: 'turning', 1215: 'dance', 1216: 'friday', 1217: 'understanding', 1218: 'badly', 1219: 'question', 1220: 'view', 1221: 'arent', 1222: 'current', 1223: 'shake', 1224: 'favorite', 1225: 'city', 1226: 'purpose', 1227: 'pull', 1228: 'lord', 1229: 'betrayed', 1230: 'society', 1231: 'large', 1232: 'staying', 1233: 'exercise', 1234: 'comment', 1235: 'clear', 1236: 'haven', 1237: 'public', 1238: 'fans', 1239: 'currently', 1240: 'awesome', 1241: 'birthday', 1242: 'win', 1243: 'wife', 1244: 'challenge', 1245: 'tv', 1246: 'event', 1247: 'charming', 1248: 'depression', 1249: 'mentally', 1250: 'system', 1251: 'immediately', 1252: 'shamed', 1253: 'considerate', 1254: 'awake', 1255: 'faith', 1256: 'quiet', 1257: 'bitch', 1258: 'tree', 1259: 'above', 1260: 'forever', 1261: 'projects', 1262: 'died', 1263: 'watched', 1264: 'falling', 1265: 'fat', 1266: 'rel', 1267: 'notice', 1268: 'sunday', 1269: 'obnoxious', 1270: 'neglectful', 1271: 'progress', 1272: 'business', 1273: 'treat', 1274: 'pray', 1275: 'path', 1276: 'winter', 1277: 'subject', 1278: 'hide', 1279: 'posted', 1280: 'sore', 1281: 'reality', 1282: 'difference', 1283: 'treated', 1284: 'hurts', 1285: 'final', 1286: 'facebook', 1287: 'calling', 1288: 'following', 1289: 'blah', 1290: 'turned', 1291: 'nearly', 1292: 'bought', 1293: 'result', 1294: 'dress', 1295: 'lets', 1296: 'bouncy', 1297: 'okay', 1298: 'legs', 1299: 'takes', 1300: 'created', 1301: 'outraged', 1302: 'movies', 1303: 'fight', 1304: 'stunned', 1305: 'experiences', 1306: 'unless', 1307: 'clean', 1308: 'audience', 1309: 'environment', 1310: 'fix', 1311: 'th', 1312: 'blue', 1313: 'belong', 1314: 'based', 1315: 'girlfriend', 1316: 'genuinely', 1317: 'smell', 1318: 'received', 1319: 'journey', 1320: 'partner', 1321: 'hearing', 1322: 'laugh', 1323: 'universe', 1324: 'window', 1325: 'lead', 1326: 'follow', 1327: 'members', 1328: 'goal', 1329: 'choices', 1330: 'lips', 1331: 'overall', 1332: 'brother', 1333: 'alive', 1334: 'street', 1335: 'becoming', 1336: 'cat', 1337: 'repressed', 1338: 'wall', 1339: 'nature', 1340: 'practice', 1341: 'miles', 1342: 'reaction', 1343: 'equally', 1344: 'edge', 1345: 'main', 1346: 'six', 1347: 'video', 1348: 'became', 1349: 'teacher', 1350: 'folks', 1351: 'changed', 1352: 'blood', 1353: 'accept', 1354: 'freedom', 1355: 'studying', 1356: 'growing', 1357: 'events', 1358: 'culture', 1359: 'breathe', 1360: 'truthful', 1361: 'experienced', 1362: 'fail', 1363: 'internet', 1364: 'jolly', 1365: 'yeah', 1366: 'caught', 1367: 'filled', 1368: 'search', 1369: 'meant', 1370: 'weak', 1371: 'power', 1372: 'catch', 1373: 'service', 1374: 'knows', 1375: 'helped', 1376: 'interesting', 1377: 'mental', 1378: 'effects', 1379: 'ice', 1380: 'information', 1381: 'target', 1382: 'episode', 1383: 'asleep', 1384: 'letter', 1385: 'ate', 1386: 'becomes', 1387: 'earth', 1388: 'present', 1389: 'online', 1390: 'rain', 1391: 'seemed', 1392: 'coffee', 1393: 'appreciated', 1394: 'unable', 1395: 'fan', 1396: 'decisions', 1397: 'blogs', 1398: 'particular', 1399: 'fill', 1400: 'weve', 1401: 'road', 1402: 'total', 1403: 'taste', 1404: 'constant', 1405: 'bike', 1406: 'pop', 1407: 'size', 1408: 'harder', 1409: 'standing', 1410: 'heat', 1411: 'ache', 1412: 'holidays', 1413: 'emotion', 1414: 'chocolate', 1415: 'avoid', 1416: 'resigned', 1417: 'pieces', 1418: 'fingers', 1419: 'tad', 1420: 'provide', 1421: 'products', 1422: 'keeps', 1423: 'artist', 1424: 'skills', 1425: 'beside', 1426: 'jesus', 1427: 'grow', 1428: 'history', 1429: 'brush', 1430: 'basically', 1431: 'ease', 1432: 'sounds', 1433: 'victimized', 1434: 'town', 1435: 'dog', 1436: 'soft', 1437: 'bus', 1438: 'anywhere', 1439: 'ride', 1440: 'site', 1441: 'games', 1442: 'sensitive', 1443: 'normally', 1444: 'till', 1445: 'test', 1446: 'position', 1447: 'held', 1448: 'link', 1449: 'meaning', 1450: 'success', 1451: 'ass', 1452: 'otherwise', 1453: 'considering', 1454: 'cover', 1455: 'realise', 1456: 'shopping', 1457: 'handle', 1458: 'likely', 1459: 'direction', 1460: 'study', 1461: 'afterwards', 1462: 'distance', 1463: 'gain', 1464: 'poor', 1465: 'hopefully', 1466: 'save', 1467: 'pregnancy', 1468: 'broken', 1469: 'saturday', 1470: 'regret', 1471: 'headache', 1472: 'similar', 1473: 'review', 1474: 'moved', 1475: 'mess', 1476: 'sing', 1477: 'muscles', 1478: 'noticed', 1479: 'cares', 1480: 'form', 1481: 'kitchen', 1482: 'perfectly', 1483: 'sexual', 1484: 'shared', 1485: 'furious', 1486: 'hey', 1487: 'helps', 1488: 'workout', 1489: 'shall', 1490: 'gym', 1491: 'memory', 1492: 'mark', 1493: 'odd', 1494: 'added', 1495: 'kick', 1496: 'cos', 1497: 'obviously', 1498: 'pride', 1499: 'babies', 1500: 'lessons', 1501: 'continued', 1502: 'perspective', 1503: 'hungry', 1504: 'gods', 1505: 'fast', 1506: 'photo', 1507: 'speaking', 1508: 'dealing', 1509: 'message', 1510: 'period', 1511: 'version', 1512: 'therefore', 1513: 'drop', 1514: 'shop', 1515: 'failure', 1516: 'hadnt', 1517: 'arm', 1518: 'lady', 1519: 'brown', 1520: 'english', 1521: 'accomplished', 1522: 'instantly', 1523: 'idiot', 1524: 'married', 1525: 'passing', 1526: 'club', 1527: 'embrace', 1528: 'local', 1529: 'planning', 1530: 'attitude', 1531: 'terms', 1532: 'mentioned', 1533: 'annoying', 1534: 'wimpy', 1535: 'showing', 1536: 'contact', 1537: 'bag', 1538: 'graceful', 1539: 'clearly', 1540: 'c', 1541: 'angered', 1542: 'pair', 1543: 'foot', 1544: 'remain', 1545: 'shut', 1546: 'tiny', 1547: 'families', 1548: 'key', 1549: 'e', 1550: 'america', 1551: 'vacation', 1552: 'wouldn', 1553: 'socially', 1554: 'plus', 1555: 'price', 1556: 'breathing', 1557: 'dismayed', 1558: 'potential', 1559: 'interested', 1560: 'highly', 1561: 'conversations', 1562: 'slow', 1563: 'lifestyle', 1564: 'actions', 1565: 'parent', 1566: 'language', 1567: 'tough', 1568: 'worst', 1569: 'isn', 1570: 'heavy', 1571: 'shouldn', 1572: 'stage', 1573: 'ran', 1574: 'leg', 1575: 'victim', 1576: 'points', 1577: 'design', 1578: 'suffer', 1579: 'fresh', 1580: 'gained', 1581: 'neurotic', 1582: 'core', 1583: 'fearless', 1584: 'focused', 1585: 'driving', 1586: 'album', 1587: 'count', 1588: 'thanksgiving', 1589: 'approach', 1590: 'herself', 1591: 'forgive', 1592: 'brings', 1593: 'properly', 1594: 'mouth', 1595: 'grown', 1596: 'author', 1597: 'chosen', 1598: 'none', 1599: 'reader', 1600: 'balance', 1601: 'overly', 1602: 'fab', 1603: 'eventually', 1604: 'somebody', 1605: 'north', 1606: 'timid', 1607: 'image', 1608: 'table', 1609: 'neither', 1610: 'wind', 1611: 'x', 1612: 'writer', 1613: 'parts', 1614: 'mum', 1615: 'manage', 1616: 'bother', 1617: 'classes', 1618: 'routine', 1619: 'typing', 1620: 'cards', 1621: 'places', 1622: 'freaking', 1623: 'build', 1624: 'text', 1625: 'unworthy', 1626: 'personality', 1627: 'burden', 1628: 'outfit', 1629: 'loneliness', 1630: 'emo', 1631: 'agree', 1632: 'cried', 1633: 'building', 1634: 'sake', 1635: 'google', 1636: 'activities', 1637: 'touched', 1638: 'wedding', 1639: 'easier', 1640: 'bored', 1641: 'areas', 1642: 'buying', 1643: 'extent', 1644: 'hearts', 1645: 'diet', 1646: 'train', 1647: 'bookmark', 1648: 'childhood', 1649: 'nobody', 1650: 'natural', 1651: 'needing', 1652: 'lesson', 1653: 'thus', 1654: 'complaining', 1655: 'barely', 1656: 'sexy', 1657: 'program', 1658: 'escape', 1659: 'caused', 1660: 'government', 1661: 'advice', 1662: 'anybody', 1663: 'challenges', 1664: 'cup', 1665: 'yoga', 1666: 'aggravated', 1667: 'scene', 1668: 'pretend', 1669: 'concerned', 1670: 'neck', 1671: 'beat', 1672: 'rock', 1673: 'professional', 1674: 'swear', 1675: 'wasted', 1676: 'cleaning', 1677: 'serious', 1678: 'action', 1679: 'bunch', 1680: 'tea', 1681: 'response', 1682: 'prefer', 1683: 'cream', 1684: 'alarmed', 1685: 'teenager', 1686: 'sympathy', 1687: 'effect', 1688: 'trees', 1689: 'law', 1690: 'thin', 1691: 'images', 1692: 'motivated', 1693: 'sky', 1694: 'pulled', 1695: 'draw', 1696: 'example', 1697: 'exam', 1698: 'apart', 1699: 'american', 1700: 'london', 1701: 'views', 1702: 'monday', 1703: 'energized', 1704: 'waking', 1705: 'student', 1706: 'thinks', 1707: 'headed', 1708: 'allowing', 1709: 'novel', 1710: 'topic', 1711: 'actual', 1712: 'treasured', 1713: 'couch', 1714: 'product', 1715: 'research', 1716: 'horribly', 1717: 'vision', 1718: 'quality', 1719: 'among', 1720: 'recognize', 1721: 'tells', 1722: 'interest', 1723: 'christian', 1724: 'yours', 1725: 'n', 1726: 'regular', 1727: 'feed', 1728: 'email', 1729: 'common', 1730: 'goals', 1731: 'starts', 1732: 'green', 1733: 'partly', 1734: 'hoped', 1735: 'education', 1736: 'doctor', 1737: 'efforts', 1738: 'chose', 1739: 'morose', 1740: 'mothers', 1741: 'values', 1742: 'struggled', 1743: 'note', 1744: 'repeat', 1745: 'recommend', 1746: 'statement', 1747: 'ourselves', 1748: 'settle', 1749: 'laughing', 1750: 'treatment', 1751: 'stood', 1752: 'hardly', 1753: 'haha', 1754: 'hang', 1755: 'apartment', 1756: 'willing', 1757: 'stayed', 1758: 'played', 1759: 'adventure', 1760: 'check', 1761: 'safety', 1762: 'solution', 1763: 'fashion', 1764: 'holding', 1765: 'pace', 1766: 'craving', 1767: 'medicine', 1768: 'desperately', 1769: 'dear', 1770: 'sign', 1771: 'journal', 1772: 'appalled', 1773: 'gifts', 1774: 'loves', 1775: 'drove', 1776: 'shows', 1777: 'lay', 1778: 'accident', 1779: 'bringing', 1780: 'exams', 1781: 'flying', 1782: 'unsuccessful', 1783: 'begun', 1784: 'shower', 1785: 'bigger', 1786: 'beating', 1787: 'pics', 1788: 'scent', 1789: 'beach', 1790: 'recipe', 1791: 'whose', 1792: 'sand', 1793: 'r', 1794: 'store', 1795: 'compare', 1796: 'receiving', 1797: 'blessings', 1798: 'lyrics', 1799: 'sugar', 1800: 'surgery', 1801: 'brand', 1802: 'recent', 1803: 'throat', 1804: 'twitter', 1805: 'mistake', 1806: 'breakfast', 1807: 'ought', 1808: 'desperate', 1809: 'radio', 1810: 'christ', 1811: 'picked', 1812: 'spiteful', 1813: 'shape', 1814: 'writers', 1815: 'flawless', 1816: 'dancing', 1817: 'garden', 1818: 'dating', 1819: 'behavior', 1820: 'degree', 1821: 'unwanted', 1822: 'greater', 1823: 'excitement', 1824: 'experiencing', 1825: 'passion', 1826: 'below', 1827: 'specific', 1828: 'pink', 1829: 'travel', 1830: 'teaching', 1831: 'achieve', 1832: 'frustration', 1833: 'gratitude', 1834: 'button', 1835: 'strangely', 1836: 'active', 1837: 'closed', 1838: 'develop', 1839: 'born', 1840: 'quote', 1841: 'details', 1842: 'teachers', 1843: 'performance', 1844: 'ending', 1845: 'literally', 1846: 'role', 1847: 'whos', 1848: 'wave', 1849: 'increasingly', 1850: 'flight', 1851: 'powerful', 1852: 'hug', 1853: 'smiling', 1854: 'walls', 1855: 'forced', 1856: 'possibility', 1857: 'university', 1858: 'admired', 1859: 'plans', 1860: 'pages', 1861: 'reminder', 1862: 'opinion', 1863: 'rise', 1864: 'drama', 1865: 'scream', 1866: 'political', 1867: 'cross', 1868: 'whilst', 1869: 'reflect', 1870: 'p', 1871: 'discovered', 1872: 'maintain', 1873: 'gut', 1874: 'shame', 1875: 'birth', 1876: 'hitting', 1877: 'glass', 1878: 'stronger', 1879: 'relief', 1880: 'secret', 1881: 'giggly', 1882: 'card', 1883: 'mix', 1884: 'faster', 1885: 'spiritual', 1886: 'splendid', 1887: 'heal', 1888: 'enraged', 1889: 'necessary', 1890: 'rarely', 1891: 'stick', 1892: 'therapy', 1893: 'worthy', 1894: 'receive', 1895: 'benefit', 1896: 'master', 1897: 'shift', 1898: 'gay', 1899: 'plot', 1900: 'recall', 1901: 'familiar', 1902: 'session', 1903: 'quit', 1904: 'pity', 1905: 'field', 1906: 'teach', 1907: 'reached', 1908: 'closer', 1909: 'page', 1910: 'player', 1911: 'industry', 1912: 'charmed', 1913: 'meal', 1914: 'answers', 1915: 'workers', 1916: 'conscious', 1917: 'height', 1918: 'celebrate', 1919: 'relax', 1920: 'fellow', 1921: 'term', 1922: 'painful', 1923: 'peers', 1924: 'enter', 1925: 'join', 1926: 'improve', 1927: 'intended', 1928: 'youve', 1929: 'previous', 1930: 'pool', 1931: 'drinking', 1932: 'wine', 1933: 'colors', 1934: 'bright', 1935: 'fears', 1936: 'refuse', 1937: 'coz', 1938: 'affectionate', 1939: 'nights', 1940: 'produce', 1941: 'sudden', 1942: 'random', 1943: 'surprise', 1944: 'abilities', 1945: 'convince', 1946: 'runs', 1947: 'duty', 1948: 'forgot', 1949: 'rare', 1950: 'poetry', 1951: 'jealousy', 1952: 'lighter', 1953: 'roll', 1954: 'screaming', 1955: 'expectations', 1956: 'la', 1957: 'ears', 1958: 'send', 1959: 'average', 1960: 'startled', 1961: 'remembered', 1962: 'fighting', 1963: 'awhile', 1964: 'plenty', 1965: 'basis', 1966: 'trouble', 1967: 'warmth', 1968: 'available', 1969: 'cuz', 1970: 'illness', 1971: 'incredible', 1972: 'arrived', 1973: 'creating', 1974: 'inspiration', 1975: 'realised', 1976: 'pained', 1977: 'financial', 1978: 'paint', 1979: 'vote', 1980: 'everywhere', 1981: 'tone', 1982: 'facing', 1983: 'finger', 1984: 'creativity', 1985: 'report', 1986: 'bet', 1987: 'spring', 1988: 'match', 1989: 'cycle', 1990: 'collection', 1991: 'value', 1992: 'companies', 1993: 'causing', 1994: 'pleasantly', 1995: 'butt', 1996: 'f', 1997: 'dogs', 1998: 'overwhelming', 1999: 'stranger', 2000: 'prepared', 2001: 'lunch', 2002: 'groups', 2003: 'release', 2004: 'mountain', 2005: 'youd', 2006: 'third', 2007: 'w', 2008: 'bird', 2009: 'manner', 2010: 'motivation', 2011: 'younger', 2012: 'paying', 2013: 'block', 2014: 'tool', 2015: 'box', 2016: 'rid', 2017: 'round', 2018: 'states', 2019: 'including', 2020: 'grade', 2021: 'likes', 2022: 'entered', 2023: 'artists', 2024: 'meat', 2025: 'market', 2026: 'uk', 2027: 'soo', 2028: 'opinions', 2029: 'exciting', 2030: 'tongue', 2031: 'wise', 2032: 'adding', 2033: 'band', 2034: 'fly', 2035: 'settled', 2036: 'magic', 2037: 'kill', 2038: 'bloggers', 2039: 'admire', 2040: 'flowers', 2041: 'bottom', 2042: 'sea', 2043: 'patient', 2044: 'record', 2045: 'motion', 2046: 'hopes', 2047: 'hiding', 2048: 'press', 2049: 'belly', 2050: 'dare', 2051: 'anticipation', 2052: 'occasionally', 2053: 'male', 2054: 'suck', 2055: 'ex', 2056: 'background', 2057: 'homework', 2058: 'aside', 2059: 'wound', 2060: 'unnecessary', 2061: 'acting', 2062: 'marathon', 2063: 'kicked', 2064: 'kinds', 2065: 'awfully', 2066: 'vicious', 2067: 'opening', 2068: 'lies', 2069: 'talks', 2070: 'higher', 2071: 'achieved', 2072: 'intensely', 2073: 'option', 2074: 'mistakes', 2075: 'tasks', 2076: 'bashful', 2077: 'dr', 2078: 'unique', 2079: 'sunshine', 2080: 'ignore', 2081: 'flat', 2082: 'ridiculous', 2083: 'range', 2084: 'peoples', 2085: 'breaking', 2086: 'abandoned', 2087: 'zone', 2088: 'grand', 2089: 'responsibility', 2090: 'sigh', 2091: 'fair', 2092: 'photography', 2093: 'reminded', 2094: 'finishing', 2095: 'awareness', 2096: 'hasnt', 2097: 'lying', 2098: 'calls', 2099: 'camera', 2100: 'confess', 2101: 'status', 2102: 'obvious', 2103: 'ordinary', 2104: 'whiney', 2105: 'suicide', 2106: 'cake', 2107: 'puppy', 2108: 'cook', 2109: 'animals', 2110: 'pulling', 2111: 'acts', 2112: 'grew', 2113: 'football', 2114: 'mission', 2115: 'flower', 2116: 'grief', 2117: 'pleasure', 2118: 'vintage', 2119: 'grounded', 2120: 'chicken', 2121: 'worn', 2122: 'unkind', 2123: 'providing', 2124: 'considered', 2125: 'corner', 2126: 'ton', 2127: 'member', 2128: 'rule', 2129: 'raising', 2130: 'protect', 2131: 'bread', 2132: 'reply', 2133: 'wednesday', 2134: 'cancer', 2135: 'outcome', 2136: 'majority', 2137: 'aspects', 2138: 'secure', 2139: 'supported', 2140: 'battle', 2141: 'pattern', 2142: 'judged', 2143: 'cast', 2144: 'font', 2145: 'checking', 2146: 'learnt', 2147: 'responsibilities', 2148: 'tranquil', 2149: 'toes', 2150: 'jobs', 2151: 'chair', 2152: 'kicks', 2153: 'hurting', 2154: 'holy', 2155: 'responsible', 2156: 'fitness', 2157: 'nap', 2158: 'discussions', 2159: 'modern', 2160: 'lacking', 2161: 'drunk', 2162: 'matters', 2163: 'urge', 2164: 'compared', 2165: 'ladies', 2166: 'bear', 2167: 'differently', 2168: 'loud', 2169: 'sorts', 2170: 'park', 2171: 'semester', 2172: 'co', 2173: 'oil', 2174: 'interests', 2175: 'compassion', 2176: 'joke', 2177: 'cheated', 2178: 'puts', 2179: 'freak', 2180: 'major', 2181: 'classroom', 2182: 'million', 2183: 'pm', 2184: 'aren', 2185: 'schedule', 2186: 'sell', 2187: 'unknown', 2188: 'expensive', 2189: 'nasty', 2190: 'library', 2191: 'humans', 2192: 'swim', 2193: 'violence', 2194: 'material', 2195: 'jump', 2196: 'flow', 2197: 'failing', 2198: 'cheeks', 2199: 'sent', 2200: 'ridiculously', 2201: 'nauseous', 2202: 'laundry', 2203: 'alot', 2204: 'continues', 2205: 'tuesday', 2206: 'wet', 2207: 'petrified', 2208: 'related', 2209: 'sight', 2210: 'surrounded', 2211: 'relate', 2212: 'bones', 2213: 'friendship', 2214: 'ends', 2215: 'development', 2216: 'radiant', 2217: 'moms', 2218: 'bank', 2219: 'hadn', 2220: 'coat', 2221: 'bedroom', 2222: 'identify', 2223: 'score', 2224: 'luck', 2225: 'darling', 2226: 'complain', 2227: 'speed', 2228: 'o', 2229: 'update', 2230: 'indeed', 2231: 'despised', 2232: 'website', 2233: 'returned', 2234: 'justice', 2235: 'individual', 2236: 'outgoing', 2237: 'inner', 2238: 'plane', 2239: 'beer', 2240: 'attending', 2241: 'international', 2242: 'minds', 2243: 'sorrow', 2244: 'nicely', 2245: 'packing', 2246: 'tension', 2247: 'religion', 2248: 'yell', 2249: 'wondered', 2250: 'ludicrous', 2251: 'dunno', 2252: 'subjects', 2253: 'cough', 2254: 'items', 2255: 'cope', 2256: 'planet', 2257: 'bags', 2258: 'fell', 2259: 'clothing', 2260: 'granted', 2261: 'scary', 2262: 'hospital', 2263: 'symptoms', 2264: 'uncle', 2265: 'altogether', 2266: 'letters', 2267: 'vibe', 2268: 'sweat', 2269: 'presented', 2270: 'marriage', 2271: 'shoulder', 2272: 'mr', 2273: 'mode', 2274: 'marks', 2275: 'growth', 2276: 'elses', 2277: 'painting', 2278: 'wide', 2279: 'hill', 2280: 'connected', 2281: 'protected', 2282: 'feelin', 2283: 'sisters', 2284: 'fiction', 2285: 'depending', 2286: 'former', 2287: 'makeup', 2288: 'print', 2289: 'airport', 2290: 'bodies', 2291: 'combination', 2292: 'pains', 2293: 'boost', 2294: 'companion', 2295: 'questioning', 2296: 'movement', 2297: 'burst', 2298: 'figured', 2299: 'circle', 2300: 'st', 2301: 'specifically', 2302: 'opposite', 2303: 'slept', 2304: 'lightly', 2305: 'succeed', 2306: 'breeze', 2307: 'gear', 2308: 'driven', 2309: 'smiled', 2310: 'goods', 2311: 'security', 2312: 'shed', 2313: 'slutty', 2314: 'ordered', 2315: 'hence', 2316: 'eaten', 2317: 'crowd', 2318: 'waste', 2319: 'apologize', 2320: 'suspect', 2321: 'tips', 2322: 'attack', 2323: 'snow', 2324: 'shirt', 2325: 'humorous', 2326: 'tight', 2327: 'importance', 2328: 'grey', 2329: 'lashes', 2330: 'dizzy', 2331: 'fulfilled', 2332: 'mixture', 2333: 'youll', 2334: 'faces', 2335: 'various', 2336: 'accidentally', 2337: 'pursue', 2338: 'glasses', 2339: 'participate', 2340: 'welcome', 2341: 'someones', 2342: 'prepare', 2343: 'article', 2344: 'hole', 2345: 'believed', 2346: 'damage', 2347: 'consistently', 2348: 'blogger', 2349: 'stars', 2350: 'steps', 2351: 'moral', 2352: 'obligation', 2353: 'machine', 2354: 'concern', 2355: 'killed', 2356: 'expressed', 2357: 'forgotten', 2358: 'streets', 2359: 'mile', 2360: 'pounds', 2361: 'reminds', 2362: 'log', 2363: 'guests', 2364: 'utter', 2365: 'function', 2366: 'cared', 2367: 'closet', 2368: 'pre', 2369: 'seemingly', 2370: 'scale', 2371: 'lil', 2372: 'reaching', 2373: 'adult', 2374: 'taught', 2375: 'hanging', 2376: 'conclusion', 2377: 'aunt', 2378: 'boss', 2379: 'players', 2380: 'smoke', 2381: 'names', 2382: 'intense', 2383: 'respond', 2384: 'threw', 2385: 'mass', 2386: 'teeth', 2387: 'defective', 2388: 'nd', 2389: 'ten', 2390: 'patients', 2391: 'ring', 2392: 'friendships', 2393: 'serve', 2394: 'lift', 2395: 'remove', 2396: 'capable', 2397: 'conference', 2398: 'judge', 2399: 'thoroughly', 2400: 'unmotivated', 2401: 'hat', 2402: 'silence', 2403: 'bastard', 2404: 'dread', 2405: 'sheer', 2406: 'ya', 2407: 'naked', 2408: 'surface', 2409: 'ultimately', 2410: 'affected', 2411: 'laid', 2412: 'laying', 2413: 'prove', 2414: 'track', 2415: 'bar', 2416: 'shots', 2417: 'feature', 2418: 'mixed', 2419: 'china', 2420: 'york', 2421: 'string', 2422: 'british', 2423: 'listened', 2424: 'deserves', 2425: 'attracted', 2426: 'twice', 2427: 'cheap', 2428: 'followed', 2429: 'expecting', 2430: 'waited', 2431: 'forth', 2432: 'equal', 2433: 'connections', 2434: 'context', 2435: 'appointment', 2436: 'prevent', 2437: 'changing', 2438: 'entry', 2439: 'david', 2440: 'giant', 2441: 'decent', 2442: 'sides', 2443: 'raised', 2444: 'opened', 2445: 'endless', 2446: 'admitting', 2447: 'cousin', 2448: 'cheer', 2449: 'realization', 2450: 'seat', 2451: 'circumstances', 2452: 'oddly', 2453: 'regarding', 2454: 'fever', 2455: 'apply', 2456: 'discussing', 2457: 'overcome', 2458: 'refreshed', 2459: 'killing', 2460: 'pushing', 2461: 'concentrate', 2462: 'options', 2463: 'k', 2464: 'mommy', 2465: 'nofollow', 2466: 'struggles', 2467: 'minor', 2468: 'setting', 2469: 'nose', 2470: 'happily', 2471: 'drugs', 2472: 'wishing', 2473: 'surely', 2474: 'fallen', 2475: 'publishing', 2476: 'pour', 2477: 'mild', 2478: 'traveling', 2479: 'peter', 2480: 'dads', 2481: 'excuse', 2482: 'vigorous', 2483: 'prayers', 2484: 'answered', 2485: 'hellip', 2486: 'handled', 2487: 'frequently', 2488: 'catching', 2489: 'heels', 2490: 'thick', 2491: 'clouds', 2492: 'poem', 2493: 'land', 2494: 'habit', 2495: 'wash', 2496: 'laughed', 2497: 'wished', 2498: 'lit', 2499: 'fabric', 2500: 'headaches', 2501: 'praise', 2502: 'staring', 2503: 'suggestions', 2504: 'financially', 2505: 'customers', 2506: 'exceptionally', 2507: 'disappointment', 2508: 'perverse', 2509: 'aspect', 2510: 'brighter', 2511: 'anti', 2512: 'boots', 2513: 'width', 2514: 'px', 2515: 'venture', 2516: 'tools', 2517: 'dishes', 2518: 'hah', 2519: 'theyd', 2520: 'trail', 2521: 'fool', 2522: 'disadvantaged', 2523: 'chemo', 2524: 'cringe', 2525: 'display', 2526: 'doctors', 2527: 'female', 2528: 'everytime', 2529: 'jubilant', 2530: 'ball', 2531: 'seek', 2532: 'en', 2533: 'silent', 2534: 'crossed', 2535: 'exact', 2536: 'deny', 2537: 'shoulders', 2538: 'nowhere', 2539: 'rights', 2540: 'fulfill', 2541: 'shell', 2542: 'finds', 2543: 'promise', 2544: 'contribute', 2545: 'critical', 2546: 'intention', 2547: 'attend', 2548: 'reveal', 2549: 'bath', 2550: 'invest', 2551: 'ocean', 2552: 'transition', 2553: 'shot', 2554: 'engage', 2555: 'benevolent', 2556: 'nine', 2557: 'biggest', 2558: 'injury', 2559: 'moon', 2560: 'explore', 2561: 'admitted', 2562: 'searching', 2563: 'april', 2564: 'eight', 2565: 'intensity', 2566: 'director', 2567: 'ignoring', 2568: 'customer', 2569: 'section', 2570: 'sentence', 2571: 'favourite', 2572: 'sexually', 2573: 'frankly', 2574: 'prayer', 2575: 'pie', 2576: 'plain', 2577: 'junk', 2578: 'amazingly', 2579: 'feedback', 2580: 'craft', 2581: 'advantage', 2582: 'yay', 2583: 'led', 2584: 'army', 2585: 'glimpse', 2586: 'spin', 2587: 'lock', 2588: 'religious', 2589: 'appearance', 2590: 'mike', 2591: 'prayed', 2592: 'desk', 2593: 'handsome', 2594: 'seeking', 2595: 'acceptance', 2596: 'perceive', 2597: 'saving', 2598: 'desires', 2599: 'sucks', 2600: 'curl', 2601: 'lbs', 2602: 'previously', 2603: 'comparison', 2604: 'liking', 2605: 'dislike', 2606: 'y', 2607: 'grandmother', 2608: 'worrying', 2609: 'sites', 2610: 'definition', 2611: 'depths', 2612: 'bathroom', 2613: 'pen', 2614: 'vaguely', 2615: 'blow', 2616: 'tiger', 2617: 'continuing', 2618: 'cash', 2619: 'gas', 2620: 'un', 2621: 'classic', 2622: 'dying', 2623: 'communicate', 2624: 'fate', 2625: 'consequences', 2626: 'depth', 2627: 'ur', 2628: 'stepped', 2629: 'ad', 2630: 'foundation', 2631: 'designers', 2632: 'temperature', 2633: 'tip', 2634: 'apparently', 2635: 'causes', 2636: 'levels', 2637: 'lover', 2638: 'goodness', 2639: 'understood', 2640: 'hop', 2641: 'standards', 2642: 'caffeine', 2643: 'hits', 2644: 'october', 2645: 'nutrition', 2646: 'lenses', 2647: 'merely', 2648: 'sessions', 2649: 'expression', 2650: 'beliefs', 2651: 'offensive', 2652: 'antsy', 2653: 'wisdom', 2654: 'nostalgia', 2655: 'silently', 2656: 'unprotected', 2657: 'cafe', 2658: 'west', 2659: 'tear', 2660: 'plant', 2661: 'presents', 2662: 'structure', 2663: 'loads', 2664: 'carry', 2665: 'heck', 2666: 'dreaming', 2667: 'horse', 2668: 'vile', 2669: 'connect', 2670: 'centered', 2671: 'officially', 2672: 'parties', 2673: 'medical', 2674: 'entries', 2675: 'fortunate', 2676: 'jewelry', 2677: 'offering', 2678: 'initial', 2679: 'dignified', 2680: 'capacity', 2681: 'mirror', 2682: 'nails', 2683: 'carried', 2684: 'habits', 2685: 'homes', 2686: 'wild', 2687: 'base', 2688: 'restaurant', 2689: 'everybody', 2690: 'sport', 2691: 'gt', 2692: 'ear', 2693: 'billy', 2694: 'thrown', 2695: 'phase', 2696: 'pagetitle', 2697: 'speech', 2698: 'competition', 2699: 'panic', 2700: 'rely', 2701: 'drawing', 2702: 'rising', 2703: 'woken', 2704: 'youth', 2705: 'code', 2706: 'exist', 2707: 'pants', 2708: 'strategy', 2709: 'visited', 2710: 'sensation', 2711: 'turns', 2712: 'feeding', 2713: 'risks', 2714: 'creature', 2715: 'floor', 2716: 'closure', 2717: 'concerns', 2718: 'remembering', 2719: 'gotta', 2720: 'dollars', 2721: 'encourage', 2722: 'disgusting', 2723: 'per', 2724: 'sooo', 2725: 'generation', 2726: 'bottle', 2727: 'individuals', 2728: 'atmosphere', 2729: 'carrying', 2730: 'seasons', 2731: 'werent', 2732: 'veins', 2733: 'bill', 2734: 'repeatedly', 2735: 'https', 2736: 'morally', 2737: 'boat', 2738: 'science', 2739: 'activity', 2740: 'uncertainty', 2741: 'chris', 2742: 'canvas', 2743: 'throwing', 2744: 'manager', 2745: 'opportunities', 2746: 'fitting', 2747: 'alright', 2748: 'quilting', 2749: 'storm', 2750: 'humor', 2751: 'impossible', 2752: 'regularly', 2753: 'afterward', 2754: 'youtube', 2755: 'president', 2756: 'conservative', 2757: 'parenting', 2758: 'sewing', 2759: 'original', 2760: 'traditional', 2761: 'unfair', 2762: 'satisfaction', 2763: 'clinic', 2764: 'truths', 2765: 'discover', 2766: 'loser', 2767: 'teenagers', 2768: 'rubbish', 2769: 'roots', 2770: 'immature', 2771: 'positively', 2772: 'mainly', 2773: 'defend', 2774: 'anime', 2775: 'sorrowful', 2776: 'private', 2777: 'relatively', 2778: 'accomplish', 2779: 'largely', 2780: 'hidden', 2781: 'dvd', 2782: 'limited', 2783: 'steve', 2784: 'witness', 2785: 'grocery', 2786: 'risk', 2787: 'substance', 2788: 'lines', 2789: 'paris', 2790: 'skip', 2791: 'require', 2792: 'rules', 2793: 'guide', 2794: 'fits', 2795: 'latest', 2796: 'amongst', 2797: 'belief', 2798: 'washing', 2799: 'dramatic', 2800: 'prize', 2801: 'expectation', 2802: 'sandwich', 2803: 'false', 2804: 'periods', 2805: 'expressing', 2806: 'discovering', 2807: 'checked', 2808: 'leaders', 2809: 'patience', 2810: 'wonderfully', 2811: 'attached', 2812: 'debt', 2813: 'breast', 2814: 'actively', 2815: 'blessing', 2816: 'shoot', 2817: 'tempted', 2818: 'japanese', 2819: 'planned', 2820: 'warning', 2821: 'zero', 2822: 'existed', 2823: 'irate', 2824: 'moronic', 2825: 'war', 2826: 'prior', 2827: 'california', 2828: 'ness', 2829: 'permanently', 2830: 'neighborhood', 2831: 'assume', 2832: 'amorous', 2833: 'inspiring', 2834: 'races', 2835: 'wishes', 2836: 'punch', 2837: 'fire', 2838: 'folk', 2839: 'wee', 2840: 'rate', 2841: 'snobbish', 2842: 'favor', 2843: 'disappear', 2844: 'network', 2845: 'prom', 2846: 'mask', 2847: 'chill', 2848: 'spite', 2849: 'stairs', 2850: 'holds', 2851: 'visiting', 2852: 'rainy', 2853: 'screen', 2854: 'surround', 2855: 'heavenly', 2856: 'jumped', 2857: 'award', 2858: 'pound', 2859: 'loose', 2860: 'emails', 2861: 'scott', 2862: 'twenty', 2863: 'foggy', 2864: 'secretly', 2865: 'hero', 2866: 'survived', 2867: 'hardcore', 2868: 'beneath', 2869: 'rooms', 2870: 'trauma', 2871: 'sinking', 2872: 'challenged', 2873: 'saddened', 2874: 'teen', 2875: 'boundaries', 2876: 'purchase', 2877: 'trusted', 2878: 'brothers', 2879: 'info', 2880: 'vent', 2881: 'roommate', 2882: 'essence', 2883: 'allows', 2884: 'lied', 2885: 'shock', 2886: 'showed', 2887: 'soup', 2888: 'butterflies', 2889: 'forum', 2890: 'canada', 2891: 'hundreds', 2892: 'include', 2893: 'attacks', 2894: 'excellent', 2895: 'attempting', 2896: 'perform', 2897: 'darn', 2898: 'grandfather', 2899: 'humbled', 2900: 'naturally', 2901: 'angel', 2902: 'phrase', 2903: 'powerless', 2904: 'resentment', 2905: 'quick', 2906: 'guessing', 2907: 'included', 2908: 'papers', 2909: 'swimming', 2910: 'multiple', 2911: 'despair', 2912: 'blame', 2913: 'unexpected', 2914: 'introduce', 2915: 'lower', 2916: 'foreign', 2917: 'island', 2918: 'begging', 2919: 'raw', 2920: 'strangers', 2921: 'magical', 2922: 'moody', 2923: 'childish', 2924: 'skinny', 2925: 'catholic', 2926: 'switch', 2927: 'experiment', 2928: 'julia', 2929: 'santa', 2930: 'potentially', 2931: 'discuss', 2932: 'collar', 2933: 'sooner', 2934: 'apologise', 2935: 'behaviors', 2936: 'luckily', 2937: 'stash', 2938: 'colleagues', 2939: 'intentions', 2940: 'uses', 2941: 'center', 2942: 'meals', 2943: 'belonging', 2944: 'nursing', 2945: 'upcoming', 2946: 'chinese', 2947: 'squeeze', 2948: 'scenes', 2949: 'nail', 2950: 'alternative', 2951: 'g', 2952: 'proper', 2953: 'floating', 2954: 'temple', 2955: 'seconds', 2956: 'ppl', 2957: 'believing', 2958: 'rush', 2959: 'resources', 2960: 'wrapped', 2961: 'solid', 2962: 'perception', 2963: 'studio', 2964: 'practical', 2965: 'cherished', 2966: 'burnt', 2967: 'tightly', 2968: 'hello', 2969: 'dig', 2970: 'separate', 2971: 'leading', 2972: 'grasp', 2973: 'charity', 2974: 'heading', 2975: 'refer', 2976: 'accomplishment', 2977: 'avoiding', 2978: 'recipes', 2979: 'em', 2980: 'credit', 2981: 'impact', 2982: 'simultaneously', 2983: 'regardless', 2984: 'beings', 2985: 'grabbed', 2986: 'lights', 2987: 'misunderstood', 2988: 'stores', 2989: 'crack', 2990: 'singapore', 2991: 'sink', 2992: 'sin', 2993: 'england', 2994: 'empowered', 2995: 'neutral', 2996: 'choir', 2997: 'cleaned', 2998: 'staff', 2999: 'theme', 3000: 'hundred', 3001: 'guitar', 3002: 'wore', 3003: 'curiosity', 3004: 'rice', 3005: 'hatred', 3006: 'juice', 3007: 'followers', 3008: 'bonus', 3009: 'regards', 3010: 'arrive', 3011: 'savage', 3012: 'length', 3013: 'dry', 3014: 'creep', 3015: 'famous', 3016: 'musical', 3017: 'unlike', 3018: 'presentation', 3019: 'trips', 3020: 'endeavors', 3021: 'outsider', 3022: 'paid', 3023: 'greatest', 3024: 'accepting', 3025: 'flowing', 3026: 'chances', 3027: 'incident', 3028: 'expense', 3029: 'jim', 3030: 'films', 3031: 'force', 3032: 'stroke', 3033: 'significant', 3034: 'freaked', 3035: 'dresses', 3036: 'file', 3037: 'explaining', 3038: 'immensely', 3039: 'complex', 3040: 'committed', 3041: 'toilet', 3042: 'reacting', 3043: 'depend', 3044: 'temper', 3045: 'calories', 3046: 'notes', 3047: 'countless', 3048: 'theory', 3049: 'ah', 3050: 'millions', 3051: 'comforted', 3052: 'bothering', 3053: 'midst', 3054: 'saved', 3055: 'whoever', 3056: 'spread', 3057: 'cutting', 3058: 'sorta', 3059: 'grabbing', 3060: 'encounter', 3061: 'corners', 3062: 'tolerate', 3063: 'giddy', 3064: 'climbed', 3065: 'cow', 3066: 'afford', 3067: 'sam', 3068: 'fed', 3069: 'daddy', 3070: 'roof', 3071: 'healing', 3072: 'necessarily', 3073: 'horses', 3074: 'december', 3075: 'colours', 3076: 'comedy', 3077: 'goodbye', 3078: 'skill', 3079: 'performances', 3080: 'tiredness', 3081: 'esteem', 3082: 'cramps', 3083: 'genre', 3084: 'directly', 3085: 'butter', 3086: 'neglected', 3087: 'relaxing', 3088: 'heres', 3089: 'danger', 3090: 'wood', 3091: 'contributing', 3092: 'pang', 3093: 'sickness', 3094: 'mindset', 3095: 'practically', 3096: 'tube', 3097: 'neglecting', 3098: 'item', 3099: 'windows', 3100: 'drag', 3101: 'proved', 3102: 'capture', 3103: 'bite', 3104: 'sounding', 3105: 'official', 3106: 'finances', 3107: 'dose', 3108: 'bits', 3109: 'diverse', 3110: 'consciously', 3111: 'glamourous', 3112: 'designer', 3113: 'outfits', 3114: 'honor', 3115: 'cigarettes', 3116: 'sensations', 3117: 'lettuce', 3118: 'burn', 3119: 'row', 3120: 'motor', 3121: 'fulfilling', 3122: 'trapped', 3123: 'episodes', 3124: 'regard', 3125: 'needle', 3126: 'thereby', 3127: 'throbbing', 3128: 'completed', 3129: 'porn', 3130: 'tune', 3131: 'authors', 3132: 'importantly', 3133: 'mini', 3134: 'dessert', 3135: 'application', 3136: 'darkness', 3137: 'conflicts', 3138: 'kissing', 3139: 'surprisingly', 3140: 'pressing', 3141: 'kindness', 3142: 'designed', 3143: 'contain', 3144: 'conflicted', 3145: 'comparing', 3146: 'countries', 3147: 'forgetting', 3148: 'mid', 3149: 'milk', 3150: 'inability', 3151: 'tug', 3152: 'anyways', 3153: 'smells', 3154: 'slowing', 3155: 'discussion', 3156: 'meds', 3157: 'according', 3158: 'traitor', 3159: 'thighs', 3160: 'predictable', 3161: 'torture', 3162: 'guest', 3163: 'torn', 3164: 'pretending', 3165: 'cheerful', 3166: 'village', 3167: 'doll', 3168: 'tense', 3169: 'observing', 3170: 'newborn', 3171: 'lake', 3172: 'combined', 3173: 'click', 3174: 'entitled', 3175: 'larger', 3176: 'adore', 3177: 'url', 3178: 'account', 3179: 'murder', 3180: 'convenience', 3181: 'praying', 3182: 'dressed', 3183: 'steal', 3184: 'trash', 3185: 'slightest', 3186: 'stare', 3187: 'hopelessness', 3188: 'rhythm', 3189: 'sons', 3190: 'bible', 3191: 'leader', 3192: 'category', 3193: 'depends', 3194: 'drinks', 3195: 'keys', 3196: 'remarks', 3197: 'failed', 3198: 'disliked', 3199: 'balls', 3200: 'sending', 3201: 'survive', 3202: 'singing', 3203: 'todays', 3204: 'condition', 3205: 'paranoia', 3206: 'insignificant', 3207: 'settling', 3208: 'bat', 3209: 'television', 3210: 'romance', 3211: 'enemy', 3212: 'logic', 3213: 'tour', 3214: 'contractions', 3215: 'address', 3216: 'begins', 3217: 'chasing', 3218: 'positions', 3219: 'enthralled', 3220: 'independent', 3221: 'gun', 3222: 'nowadays', 3223: 'socks', 3224: 'sensible', 3225: 'hating', 3226: 'sticking', 3227: 'blowing', 3228: 'fish', 3229: 'grin', 3230: 'verge', 3231: 'engaged', 3232: 'spiritually', 3233: 'crashing', 3234: 'downright', 3235: 'dun', 3236: 'worries', 3237: 'task', 3238: 'whining', 3239: 'everyones', 3240: 'sequel', 3241: 'instance', 3242: 'worker', 3243: 'spray', 3244: 'climb', 3245: 'numerous', 3246: 'courage', 3247: 'upside', 3248: 'links', 3249: 'speaks', 3250: 'worlds', 3251: 'sharp', 3252: 'objects', 3253: 'readings', 3254: 'enjoyable', 3255: 'insane', 3256: 'julie', 3257: 'binge', 3258: 'slide', 3259: 'heaven', 3260: 'watches', 3261: 'grab', 3262: 'screwed', 3263: 'cheaper', 3264: 'replace', 3265: 'economy', 3266: 'stressful', 3267: 'notebook', 3268: 'unfortunately', 3269: 'informed', 3270: 'marketing', 3271: 'organization', 3272: 'nicer', 3273: 'wonders', 3274: 'alcohol', 3275: 'pot', 3276: 'unhealthy', 3277: 'treats', 3278: 'contrast', 3279: 'indulge', 3280: 'lee', 3281: 'explained', 3282: 'pub', 3283: 'argument', 3284: 'demands', 3285: 'clock', 3286: 'disrespect', 3287: 'wrestling', 3288: 'talent', 3289: 'adjust', 3290: 'confusion', 3291: 'weakness', 3292: 'measure', 3293: 'bah', 3294: 'serenity', 3295: 'resent', 3296: 'deeper', 3297: 'labor', 3298: 'circles', 3299: 'arriving', 3300: 'disaster', 3301: 'lungs', 3302: 'besides', 3303: 'nonsense', 3304: 'gladly', 3305: 'freedoms', 3306: 'soooo', 3307: 'income', 3308: 'christians', 3309: 'drawn', 3310: 'cd', 3311: 'ward', 3312: 'police', 3313: 'yall', 3314: 'conflict', 3315: 'someday', 3316: 'wasting', 3317: 'frozen', 3318: 'unfolding', 3319: 'wings', 3320: 'resist', 3321: 'tossing', 3322: 'production', 3323: 'shout', 3324: 'knitting', 3325: 'fields', 3326: 'unusual', 3327: 'packed', 3328: 'magazine', 3329: 'crisis', 3330: 'xd', 3331: 'officer', 3332: 'centre', 3333: 'potatoes', 3334: 'handed', 3335: 'souls', 3336: 'crawl', 3337: 'v', 3338: 'flash', 3339: 'affects', 3340: 'flaws', 3341: 'insist', 3342: 'boyfriends', 3343: 'discovery', 3344: 'appear', 3345: 'population', 3346: 'camp', 3347: 'lj', 3348: 'elated', 3349: 'addition', 3350: 'walks', 3351: 'reactions', 3352: 'resting', 3353: 'guts', 3354: 'rough', 3355: 'spreading', 3356: 'empathy', 3357: 'techniques', 3358: 'expert', 3359: 'powder', 3360: 'impression', 3361: 'extended', 3362: 'aint', 3363: 'cost', 3364: 'noticing', 3365: 'exposed', 3366: 'recover', 3367: 'deciding', 3368: 'muse', 3369: 'reflection', 3370: 'sunny', 3371: 'philosophy', 3372: 'infuriated', 3373: 'viewing', 3374: 'yelling', 3375: 'rejection', 3376: 'gross', 3377: 'blind', 3378: 'burger', 3379: 'extreme', 3380: 'kicking', 3381: 'dreaded', 3382: 'lend', 3383: 'extraordinarily', 3384: 'january', 3385: 'abuse', 3386: 'dropping', 3387: 'apple', 3388: 'century', 3389: 'misery', 3390: 'demanding', 3391: 'shadow', 3392: 'sold', 3393: 'apology', 3394: 'suggest', 3395: 'messed', 3396: 'latter', 3397: 'supply', 3398: 'workouts', 3399: 'quest', 3400: 'investing', 3401: 'answering', 3402: 'subconscious', 3403: 'lists', 3404: 'campaign', 3405: 'source', 3406: 'double', 3407: 'web', 3408: 'shops', 3409: 'dish', 3410: 'citizen', 3411: 'model', 3412: 'cyber', 3413: 'gathering', 3414: 'stepping', 3415: 'overload', 3416: 'moods', 3417: 'helpful', 3418: 'evil', 3419: 'dump', 3420: 'treadmill', 3421: 'appreciation', 3422: 'theyve', 3423: 'ol', 3424: 'span', 3425: 'grandparents', 3426: 'infection', 3427: 'foods', 3428: 'november', 3429: 'xmas', 3430: 'budget', 3431: 'advance', 3432: 'asks', 3433: 'traffic', 3434: 'vegan', 3435: 'therapist', 3436: 'apathetic', 3437: 'refreshing', 3438: 'disrespected', 3439: 'absolute', 3440: 'tied', 3441: 'ticket', 3442: 'washed', 3443: 'developed', 3444: 'remaining', 3445: 'bi', 3446: 'movements', 3447: 'copy', 3448: 'harry', 3449: 'americans', 3450: 'prospect', 3451: 'flashback', 3452: 'serving', 3453: 'suggested', 3454: 'coupled', 3455: 'wow', 3456: 'horror', 3457: 'acted', 3458: 'todd', 3459: 'focusing', 3460: 'norm', 3461: 'identity', 3462: 'frustrating', 3463: 'taylor', 3464: 'represent', 3465: 'fog', 3466: 'bare', 3467: 'plate', 3468: 'fb', 3469: 'lifetime', 3470: 'masters', 3471: 'method', 3472: 'weekends', 3473: 'educated', 3474: 'draft', 3475: 'touching', 3476: 'determine', 3477: 'celebrating', 3478: 'jumping', 3479: 'ha', 3480: 'offers', 3481: 'affect', 3482: 'whereas', 3483: 'avoided', 3484: 'realizing', 3485: 'blonde', 3486: 'adds', 3487: 'tackle', 3488: 'dealt', 3489: 'strikes', 3490: 'lore', 3491: 'spoke', 3492: 'cube', 3493: 'india', 3494: 'cricket', 3495: 'damned', 3496: 'property', 3497: 'agent', 3498: 'contract', 3499: 'compromised', 3500: 'unit', 3501: 'encouragement', 3502: 'factor', 3503: 'greed', 3504: 'creations', 3505: 'pale', 3506: 'paul', 3507: 'stiff', 3508: 'tingle', 3509: 'rejuvenated', 3510: 'figures', 3511: 'stretch', 3512: 'achievement', 3513: 'influence', 3514: 'garbage', 3515: 'inclined', 3516: 'stated', 3517: 'unsafe', 3518: 'disappoint', 3519: 'devastating', 3520: 'spice', 3521: 'openly', 3522: 'questioned', 3523: 'hunt', 3524: 'spanish', 3525: 'emily', 3526: 'semi', 3527: 'claim', 3528: 'concept', 3529: 'awe', 3530: 'cooped', 3531: 'alex', 3532: 'matt', 3533: 'fragrance', 3534: 'anticipating', 3535: 'retrospect', 3536: 'eggs', 3537: 'amsterdam', 3538: 'hopped', 3539: 'uni', 3540: 'politicians', 3541: 'interview', 3542: 'plants', 3543: 'hesitate', 3544: 'remains', 3545: 'tablets', 3546: 'spoken', 3547: 'civil', 3548: 'complimented', 3549: 'funds', 3550: 'spare', 3551: 'document', 3552: 'loyalty', 3553: 'pictured', 3554: 'crave', 3555: 'quarter', 3556: 'mud', 3557: 'thousand', 3558: 'virginia', 3559: 'handful', 3560: 'cherish', 3561: 'wed', 3562: 'landed', 3563: 'abdomen', 3564: 'knit', 3565: 'smaller', 3566: 'applying', 3567: 'seldom', 3568: 'er', 3569: 'sweaty', 3570: 'stolen', 3571: 'cell', 3572: 'wrap', 3573: 'thyroid', 3574: 'whiny', 3575: 'massage', 3576: 'stock', 3577: 'limit', 3578: 'happier', 3579: 'impending', 3580: 'forgiveness', 3581: 'backing', 3582: 'facts', 3583: 'hike', 3584: 'mainstream', 3585: 'portray', 3586: 'conditions', 3587: 'moisturizer', 3588: 'crush', 3589: 'closing', 3590: 'uncles', 3591: 'follower', 3592: 'pills', 3593: 'grammar', 3594: 'explanation', 3595: 'sometime', 3596: 'severely', 3597: 'formula', 3598: 'feminist', 3599: 'leads', 3600: 'yearning', 3601: 'appears', 3602: 'brew', 3603: 'permanent', 3604: 'intellectual', 3605: 'passes', 3606: 'celebration', 3607: 'military', 3608: 'smarter', 3609: 'noted', 3610: 'chapters', 3611: 'captured', 3612: 'fandom', 3613: 'disoriented', 3614: 'sale', 3615: 'crew', 3616: 'terror', 3617: 'released', 3618: 'uneasy', 3619: 'detail', 3620: 'ignorance', 3621: 'debate', 3622: 'stressing', 3623: 'anna', 3624: 'tuck', 3625: 'cuddle', 3626: 'enjoyment', 3627: 'protein', 3628: 'stopping', 3629: 'sadly', 3630: 'essentially', 3631: 'paths', 3632: 'resolve', 3633: 'era', 3634: 'iphone', 3635: 'joined', 3636: 'increasing', 3637: 'covered', 3638: 'cases', 3639: 'disagree', 3640: 'agreed', 3641: 'temporarily', 3642: 'spaces', 3643: 'thursday', 3644: 'impressive', 3645: 'screw', 3646: 'weighing', 3647: 'access', 3648: 'sofa', 3649: 'separated', 3650: 'backed', 3651: 'mere', 3652: 'whisper', 3653: 'believes', 3654: 'wallet', 3655: 'brilliant', 3656: 'curtains', 3657: 'progressing', 3658: 'stands', 3659: 'ultimate', 3660: 'worship', 3661: 'achieving', 3662: 'baseball', 3663: 'description', 3664: 'overwhelmingly', 3665: 'dignity', 3666: 'doors', 3667: 'reduce', 3668: 'bay', 3669: 'powers', 3670: 'distress', 3671: 'pit', 3672: 'upper', 3673: 'harmful', 3674: 'wrongly', 3675: 'upload', 3676: 'angels', 3677: 'crossing', 3678: 'explode', 3679: 'lisa', 3680: 'massive', 3681: 'benefits', 3682: 'aggressive', 3683: 'dint', 3684: 'drops', 3685: 'prone', 3686: 'rescue', 3687: 'medium', 3688: 'intelligence', 3689: 'haze', 3690: 'portion', 3691: 'invite', 3692: 'tackling', 3693: 'initially', 3694: 'toys', 3695: 'exhausting', 3696: 'region', 3697: 'constructive', 3698: 'jack', 3699: 'february', 3700: 'paintings', 3701: 'envelope', 3702: 'earn', 3703: 'star', 3704: 'timing', 3705: 'spots', 3706: 'educate', 3707: 'trick', 3708: 'quietly', 3709: 'runner', 3710: 'specially', 3711: 'cheering', 3712: 'easter', 3713: 'covering', 3714: 'abit', 3715: 'nonetheless', 3716: 'soak', 3717: 'harsh', 3718: 'spirits', 3719: 'wrist', 3720: 'suffered', 3721: 'contribution', 3722: 'harm', 3723: 'suits', 3724: 'sets', 3725: 'cheered', 3726: 'visitor', 3727: 'remotely', 3728: 'profile', 3729: 'improved', 3730: 'stack', 3731: 'albeit', 3732: 'disorder', 3733: 'crushing', 3734: 'fantasy', 3735: 'pumped', 3736: 'anguish', 3737: 'relatives', 3738: 'replaced', 3739: 'bf', 3740: 'cramping', 3741: 'intellect', 3742: 'inevitably', 3743: 'accomplishing', 3744: 'cooking', 3745: 'uber', 3746: 'justify', 3747: 'curled', 3748: 'burned', 3749: 'idol', 3750: 'richard', 3751: 'offend', 3752: 'slight', 3753: 'goddamn', 3754: 'pro', 3755: 'recovery', 3756: 'divorce', 3757: 'lemon', 3758: 'assignments', 3759: 'distinct', 3760: 'retirement', 3761: 'served', 3762: 'neighbors', 3763: 'provided', 3764: 'enthusiasm', 3765: 'sports', 3766: 'anatomy', 3767: 'gamer', 3768: 'highest', 3769: 'cycling', 3770: 'named', 3771: 'types', 3772: 'medication', 3773: 'pack', 3774: 'cave', 3775: 'directions', 3776: 'native', 3777: 'bands', 3778: 'suit', 3779: 'disease', 3780: 'split', 3781: 'attribute', 3782: 'pairs', 3783: 'baking', 3784: 'annoyance', 3785: 'separation', 3786: 'chat', 3787: 'tinge', 3788: 'basic', 3789: 'jeremy', 3790: 'evenings', 3791: 'drank', 3792: 'recording', 3793: 'compliments', 3794: 'hubby', 3795: 'determination', 3796: 'hall', 3797: 'recognised', 3798: 'subconsciously', 3799: 'quicker', 3800: 'stole', 3801: 'panicky', 3802: 'bridge', 3803: 'cookies', 3804: 'lush', 3805: 'republic', 3806: 'decade', 3807: 'marvelous', 3808: 'endure', 3809: 'discomfort', 3810: 'shallow', 3811: 'strive', 3812: 'whim', 3813: 'relations', 3814: 'emoticons', 3815: 'obligated', 3816: 'evaluate', 3817: 'relaxation', 3818: 'destroyed', 3819: 'aussie', 3820: 'labour', 3821: 'waves', 3822: 'grieve', 3823: 'essential', 3824: 'foul', 3825: 'impolite', 3826: 'rant', 3827: 'partially', 3828: 'nurse', 3829: 'commit', 3830: 'targeted', 3831: 'hi', 3832: 'tech', 3833: 'possibilities', 3834: 'occupied', 3835: 'blanket', 3836: 'conscience', 3837: 'suspense', 3838: 'metal', 3839: 'wherever', 3840: 'loop', 3841: 'texted', 3842: 'temporary', 3843: 'credits', 3844: 'pulse', 3845: 'mercy', 3846: 'snack', 3847: 'presenting', 3848: 'opposed', 3849: 'shaking', 3850: 'touches', 3851: 'reacted', 3852: 'tests', 3853: 'bond', 3854: 'psychotic', 3855: 'delight', 3856: 'bummed', 3857: 'drug', 3858: 'assistant', 3859: 'joining', 3860: 'chick', 3861: 'hoo', 3862: 'ties', 3863: 'dining', 3864: 'fuel', 3865: 'alongside', 3866: 'imagined', 3867: 'services', 3868: 'entertainment', 3869: 'publish', 3870: 'revealed', 3871: 'tummy', 3872: 'linux', 3873: 'clue', 3874: 'clarity', 3875: 'releases', 3876: 'offered', 3877: 'load', 3878: 'inferior', 3879: 'motherhood', 3880: 'blush', 3881: 'stealing', 3882: 'jane', 3883: 'styles', 3884: 'fairy', 3885: 'cars', 3886: 'choke', 3887: 'suppressed', 3888: 'returning', 3889: 'stoned', 3890: 'hangover', 3891: 'massively', 3892: 'realistic', 3893: 'cigarette', 3894: 'starved', 3895: 'paused', 3896: 'dramatically', 3897: 'epic', 3898: 'ed', 3899: 'hurtful', 3900: 'birds', 3901: 'solutions', 3902: 'viewed', 3903: 'cozy', 3904: 'australia', 3905: 'mates', 3906: 'clay', 3907: 'sees', 3908: 'assistance', 3909: 'nations', 3910: 'gold', 3911: 'grass', 3912: 'mince', 3913: 'pasta', 3914: 'fruit', 3915: 'sis', 3916: 'balanced', 3917: 'significantly', 3918: 'kit', 3919: 'king', 3920: 'audiences', 3921: 'promotion', 3922: 'highschool', 3923: 'cuts', 3924: 'queen', 3925: 'wicked', 3926: 'acknowledge', 3927: 'addicted', 3928: 'cravings', 3929: 'performing', 3930: 'engineering', 3931: 'pushed', 3932: 'immediate', 3933: 'irrational', 3934: 'sarah', 3935: 'tourist', 3936: 'animal', 3937: 'fridge', 3938: 'pile', 3939: 'ministries', 3940: 'bold', 3941: 'continually', 3942: 'improving', 3943: 'sour', 3944: 'justified', 3945: 'farm', 3946: 'select', 3947: 'barrier', 3948: 'isolation', 3949: 'chaos', 3950: 'strokes', 3951: 'baptized', 3952: 'luggage', 3953: 'selling', 3954: 'nausea', 3955: 'consistent', 3956: 'graduating', 3957: 'technology', 3958: 'invitation', 3959: 'pressed', 3960: 'welling', 3961: 'september', 3962: 'occasion', 3963: 'michael', 3964: 'protection', 3965: 'theyll', 3966: 'argue', 3967: 'bum', 3968: 'dan', 3969: 'ignorant', 3970: 'african', 3971: 'politics', 3972: 'multitude', 3973: 'exposing', 3974: 'behalf', 3975: 'investment', 3976: 'comforting', 3977: 'manuscript', 3978: 'rested', 3979: 'dreamy', 3980: 'shades', 3981: 'board', 3982: 'demons', 3983: 'italian', 3984: 'revenge', 3985: 'colour', 3986: 'abc', 3987: 'sans', 3988: 'typical', 3989: 'apparent', 3990: 'dust', 3991: 'profoundly', 3992: 'mac', 3993: 'route', 3994: 'artwork', 3995: 'tale', 3996: 'regain', 3997: 'flattered', 3998: 'traditions', 3999: 'zealand', 4000: 'absence', 4001: 'imagination', 4002: 'mush', 4003: 'smooth', 4004: 'etsy', 4005: 'solo', 4006: 'bills', 4007: 'muscle', 4008: 'til', 4009: 'academic', 4010: 'deodorant', 4011: 'dressing', 4012: 'plays', 4013: 'ideal', 4014: 'necessity', 4015: 'junior', 4016: 'sting', 4017: 'laughter', 4018: 'responses', 4019: 'ages', 4020: 'arguments', 4021: 'advocate', 4022: 'object', 4023: 'daughters', 4024: 'stares', 4025: 'mornings', 4026: 'genius', 4027: 'unnatural', 4028: 'uncaring', 4029: 'south', 4030: 'freely', 4031: 'nerve', 4032: 'simplicity', 4033: 'whispered', 4034: 'spell', 4035: 'examples', 4036: 'steam', 4037: 'department', 4038: 'insecurities', 4039: 'costume', 4040: 'remarkably', 4041: 'attitudes', 4042: 'controlled', 4043: 'viewer', 4044: 'heap', 4045: 'kisses', 4046: 'existance', 4047: 'ego', 4048: 'wah', 4049: 'pressures', 4050: 'seven', 4051: 'comeback', 4052: 'ryan', 4053: 'scheme', 4054: 'jersey', 4055: 'permalink', 4056: 'pleasing', 4057: 'anniversary', 4058: 'emptiness', 4059: 'sleepy', 4060: 'interacting', 4061: 'empathize', 4062: 'indulging', 4063: 'rolls', 4064: 'preparation', 4065: 'thai', 4066: 'encouraging', 4067: 'intimacy', 4068: 'historical', 4069: 'deserved', 4070: 'bowl', 4071: 'graduated', 4072: 'strain', 4073: 'trained', 4074: 'accomplishments', 4075: 'aches', 4076: 'videos', 4077: 'privilege', 4078: 'extend', 4079: 'flip', 4080: 'teenage', 4081: 'safely', 4082: 'obama', 4083: 'sacrifice', 4084: 'solve', 4085: 'global', 4086: 'bitten', 4087: 'sucked', 4088: 'yarn', 4089: 'statements', 4090: 'twisted', 4091: 'justin', 4092: 'mentality', 4093: 'pursuing', 4094: 'fancy', 4095: 'french', 4096: 'articles', 4097: 'chicago', 4098: 'coworkers', 4099: 'schools', 4100: 'mama', 4101: 'empathetic', 4102: 'nerves', 4103: 'behave', 4104: 'deals', 4105: 'delivery', 4106: 'teary', 4107: 'ministry', 4108: 'wallpaper', 4109: 'authority', 4110: 'hip', 4111: 'negativity', 4112: 'beg', 4113: 'sip', 4114: 'requires', 4115: 'dreamed', 4116: 'cliff', 4117: 'organised', 4118: 'imposed', 4119: 'blur', 4120: 'writes', 4121: 'lifes', 4122: 'diy', 4123: 'grace', 4124: 'naive', 4125: 'quarrel', 4126: 'stops', 4127: 'preparing', 4128: 'loner', 4129: 'data', 4130: 'affair', 4131: 'heaviness', 4132: 'dreading', 4133: 'violated', 4134: 'gently', 4135: 'exhibit', 4136: 'cure', 4137: 'lovers', 4138: 'q', 4139: 'footing', 4140: 'indulgent', 4141: 'notion', 4142: 'returns', 4143: 'organized', 4144: 'cheese', 4145: 'methods', 4146: 'policy', 4147: 'iv', 4148: 'submit', 4149: 'humble', 4150: 'automatically', 4151: 'reference', 4152: 'truck', 4153: 'indian', 4154: 'assert', 4155: 'humility', 4156: 'slip', 4157: 'fireplace', 4158: 'profit', 4159: 'thirsty', 4160: 'immense', 4161: 'grieving', 4162: 'skirt', 4163: 'acutely', 4164: 'scenario', 4165: 'elderly', 4166: 'jerk', 4167: 'poke', 4168: 'guarantee', 4169: 'spoiled', 4170: 'roller', 4171: 'coaster', 4172: 'greeted', 4173: 'lily', 4174: 'obtain', 4175: 'heartedly', 4176: 'soothe', 4177: 'resulted', 4178: 'advances', 4179: 'disservice', 4180: 'dot', 4181: 'accent', 4182: 'influenced', 4183: 'tango', 4184: 'hers', 4185: 'verses', 4186: 'replies', 4187: 'appropriate', 4188: 'educating', 4189: 'corpse', 4190: 'obligations', 4191: 'define', 4192: 'cramp', 4193: 'examination', 4194: 'precise', 4195: 'gaining', 4196: 'oils', 4197: 'heads', 4198: 'conservatives', 4199: 'materials', 4200: 'prescribed', 4201: 'polish', 4202: 'nightmare', 4203: 'flesh', 4204: 'privacy', 4205: 'warming', 4206: 'continuously', 4207: 'homeless', 4208: 'thief', 4209: 'nov', 4210: 'curse', 4211: 'wax', 4212: 'olympic', 4213: 'runners', 4214: 'coaching', 4215: 'files', 4216: 'instincts', 4217: 'emerge', 4218: 'slumber', 4219: 'outdoors', 4220: 'cries', 4221: 'florida', 4222: 'swing', 4223: 'distinctly', 4224: 'finland', 4225: 'nothings', 4226: 'gallery', 4227: 'meantime', 4228: 'woods', 4229: 'knot', 4230: 'celebrated', 4231: 'mantra', 4232: 'contemplating', 4233: 'lump', 4234: 'cubicle', 4235: 'intentionally', 4236: 'gigantic', 4237: 'cock', 4238: 'rally', 4239: 'literature', 4240: 'solely', 4241: 'limitations', 4242: 'chapter', 4243: 'stem', 4244: 'alternate', 4245: 'instinct', 4246: 'resource', 4247: 'cheers', 4248: 'travelling', 4249: 'sparkle', 4250: 'definately', 4251: 'milestone', 4252: 'ingredients', 4253: 'spider', 4254: 'serif', 4255: 'weariness', 4256: 'feared', 4257: 'daycare', 4258: 'george', 4259: 'giggle', 4260: 'secretary', 4261: 'layer', 4262: 'graduate', 4263: 'faking', 4264: 'itll', 4265: 'theories', 4266: 'feeds', 4267: 'borne', 4268: 'displayed', 4269: 'fixed', 4270: 'trial', 4271: 'benign', 4272: 'heartbreak', 4273: 'thru', 4274: 'covers', 4275: 'honesty', 4276: 'preferably', 4277: 'generic', 4278: 'prep', 4279: 'sleepless', 4280: 'oscar', 4281: 'functions', 4282: 'twelve', 4283: 'via', 4284: 'washington', 4285: 'similarly', 4286: 'tables', 4287: 'blown', 4288: 'ironic', 4289: 'respectful', 4290: 'eric', 4291: 'shadows', 4292: 'cancel', 4293: 'stared', 4294: 'solace', 4295: 'reasonably', 4296: 'impacted', 4297: 'olds', 4298: 'publisher', 4299: 'vertigo', 4300: 'defeat', 4301: 'switched', 4302: 'imagining', 4303: 'interactions', 4304: 'supermarket', 4305: 'com', 4306: 'hauled', 4307: 'partners', 4308: 'fuckin', 4309: 'cookie', 4310: 'raging', 4311: 'pms', 4312: 'primer', 4313: 'hint', 4314: 'bracelet', 4315: 'bow', 4316: 'laced', 4317: 'adults', 4318: 'neglect', 4319: 'spouse', 4320: 'agony', 4321: 'literary', 4322: 'legitimate', 4323: 'sincerity', 4324: 'includes', 4325: 'lapse', 4326: 'sanity', 4327: 'scratch', 4328: 'describing', 4329: 'explains', 4330: 'ra', 4331: 'tries', 4332: 'attractive', 4333: 'thirty', 4334: 'meditating', 4335: 'greatness', 4336: 'backs', 4337: 'taiwan', 4338: 'shooting', 4339: 'rang', 4340: 'nominated', 4341: 'swings', 4342: 'desert', 4343: 'tick', 4344: 'keyboard', 4345: 'smoothly', 4346: 'casually', 4347: 'bottoms', 4348: 'denied', 4349: 'tag', 4350: 'moves', 4351: 'tissue', 4352: 'yelled', 4353: 'solved', 4354: 'notions', 4355: 'hollywood', 4356: 'layout', 4357: 'agreement', 4358: 'exchange', 4359: 'tall', 4360: 'stretches', 4361: 'virtual', 4362: 'bell', 4363: 'supremely', 4364: 'virgin', 4365: 'pet', 4366: 'exercising', 4367: 'angle', 4368: 'actor', 4369: 'homeschooling', 4370: 'dubai', 4371: 'esp', 4372: 'firmly', 4373: 'remorse', 4374: 'booth', 4375: 'sales', 4376: 'phrases', 4377: 'engine', 4378: 'netflix', 4379: 'vibrant', 4380: 'interviews', 4381: 'evolution', 4382: 'vast', 4383: 'finals', 4384: 'randomly', 4385: 'evident', 4386: 'profession', 4387: 'incapable', 4388: 'concert', 4389: 'dramas', 4390: 'spinning', 4391: 'ballet', 4392: 'pump', 4393: 'driver', 4394: 'electric', 4395: 'bless', 4396: 'oxygen', 4397: 'sloth', 4398: 'fought', 4399: 'rolled', 4400: 'glancing', 4401: 'cabin', 4402: 'charge', 4403: 'z', 4404: 'headphones', 4405: 'condemning', 4406: 'speaker', 4407: 'businesses', 4408: 'introduction', 4409: 'distract', 4410: 'contributed', 4411: 'visual', 4412: 'listed', 4413: 'machines', 4414: 'court', 4415: 'lab', 4416: 'rat', 4417: 'gown', 4418: 'plastic', 4419: 'fashioned', 4420: 'possession', 4421: 'insincere', 4422: 'virus', 4423: 'professors', 4424: 'jumps', 4425: 'limits', 4426: 'dieting', 4427: 'secrets', 4428: 'annoy', 4429: 'shirts', 4430: 'duties', 4431: 'anguished', 4432: 'remarkable', 4433: 'beneficial', 4434: 'rapidly', 4435: 'autumn', 4436: 'shiny', 4437: 'fifteen', 4438: 'strutting', 4439: 'consuming', 4440: 'underrated', 4441: 'hardships', 4442: 'sum', 4443: 'aid', 4444: 'effective', 4445: 'independence', 4446: 'immune', 4447: 'fascinated', 4448: 'chore', 4449: 'uninteresting', 4450: 'sidelines', 4451: 'ipod', 4452: 'rings', 4453: 'jewellery', 4454: 'bore', 4455: 'impressions', 4456: 'distant', 4457: 'deem', 4458: 'collective', 4459: 'unsettled', 4460: 'disconnected', 4461: 'bundle', 4462: 'layers', 4463: 'windy', 4464: 'bursting', 4465: 'visible', 4466: 'cops', 4467: 'rage', 4468: 'updates', 4469: 'racism', 4470: 'encountered', 4471: 'coke', 4472: 'factors', 4473: 'housewife', 4474: 'sue', 4475: 'despondent', 4476: 'incidents', 4477: 'compete', 4478: 'wholly', 4479: 'technique', 4480: 'upbeat', 4481: 'mournful', 4482: 'kg', 4483: 'brows', 4484: 'teasing', 4485: 'scrutiny', 4486: 'asian', 4487: 'vividly', 4488: 'destiny', 4489: 'dancer', 4490: 'recession', 4491: 'marie', 4492: 'comparatively', 4493: 'bars', 4494: 'shoe', 4495: 'allah', 4496: 'robin', 4497: 'trappings', 4498: 'underneath', 4499: 'smiles', 4500: 'factory', 4501: 'vomit', 4502: 'volunteer', 4503: 'crash', 4504: 'signed', 4505: 'disturb', 4506: 'equation', 4507: 'deadline', 4508: 'anyones', 4509: 'complaints', 4510: 'counter', 4511: 'boot', 4512: 'mi', 4513: 'hopelessly', 4514: 'cruz', 4515: 'greys', 4516: 'loathe', 4517: 'urgency', 4518: 'clients', 4519: 'allergies', 4520: 'aged', 4521: 'withdrawal', 4522: 'direct', 4523: 'yo', 4524: 'cam', 4525: 'disappeared', 4526: 'wierd', 4527: 'bounce', 4528: 'greg', 4529: 'graduation', 4530: 'destructive', 4531: 'weirdly', 4532: 'refusing', 4533: 'pushover', 4534: 'deliver', 4535: 'stats', 4536: 'jaw', 4537: 'thanked', 4538: 'piano', 4539: 'perfection', 4540: 'induced', 4541: 'injustice', 4542: 'syndrome', 4543: 'inches', 4544: 'discussed', 4545: 'twitchy', 4546: 'losses', 4547: 'glory', 4548: 'relating', 4549: 'commitment', 4550: 'actors', 4551: 'spine', 4552: 'energised', 4553: 'texture', 4554: 'mystery', 4555: 'yuuki', 4556: 'column', 4557: 'owe', 4558: 'shaming', 4559: 'necklace', 4560: 'weaker', 4561: 'digging', 4562: 'lick', 4563: 'tendency', 4564: 'represents', 4565: 'ray', 4566: 'inevitable', 4567: 'mildly', 4568: 'youthful', 4569: 'underground', 4570: 'chaotic', 4571: 'transferred', 4572: 'abroad', 4573: 'treating', 4574: 'league', 4575: 'trivial', 4576: 'adorable', 4577: 'garments', 4578: 'blake', 4579: 'surroundings', 4580: 'dialog', 4581: 'nagging', 4582: 'instructions', 4583: 'charlie', 4584: 'dragged', 4585: 'flew', 4586: 'increases', 4587: 'eternal', 4588: 'repetition', 4589: 'roast', 4590: 'tangible', 4591: 'kay', 4592: 'lemonade', 4593: 'backyard', 4594: 'pig', 4595: 'kingdom', 4596: 'adjustment', 4597: 'economic', 4598: 'productivity', 4599: 'drives', 4600: 'kissed', 4601: 'emotionless', 4602: 'studies', 4603: 'scripture', 4604: 'abandonment', 4605: 'lessen', 4606: 'attachment', 4607: 'teddy', 4608: 'nudge', 4609: 'references', 4610: 'programming', 4611: 'legend', 4612: 'messages', 4613: 'stages', 4614: 'coconut', 4615: 'capital', 4616: 'chase', 4617: 'dragon', 4618: 'senior', 4619: 'embracing', 4620: 'sums', 4621: 'pursuits', 4622: 'internally', 4623: 'wins', 4624: 'clearer', 4625: 'integrity', 4626: 'popped', 4627: 'psychologist', 4628: 'poo', 4629: 'km', 4630: 'ish', 4631: 'supporters', 4632: 'embarrassment', 4633: 'features', 4634: 'beginnings', 4635: 'reilly', 4636: 'deemed', 4637: 'plagued', 4638: 'adopt', 4639: 'ie', 4640: 'intent', 4641: 'exhibitions', 4642: 'recognition', 4643: 'persona', 4644: 'heartache', 4645: 'boo', 4646: 'cleansing', 4647: 'doom', 4648: 'unfit', 4649: 'fierce', 4650: 'defensive', 4651: 'defending', 4652: 'concerning', 4653: 'grows', 4654: 'contributions', 4655: 'attraction', 4656: 'admiration', 4657: 'perfume', 4658: 'confrontation', 4659: 'july', 4660: 'novels', 4661: 'laptop', 4662: 'shiver', 4663: 'user', 4664: 'platform', 4665: 'desiring', 4666: 'youngest', 4667: 'calming', 4668: 'host', 4669: 'plight', 4670: 'vet', 4671: 'sarcasm', 4672: 'typically', 4673: 'default', 4674: 'unease', 4675: 'france', 4676: 'bleeding', 4677: 'passport', 4678: 'combat', 4679: 'trainer', 4680: 'horrid', 4681: 'gap', 4682: 'collected', 4683: 'tribute', 4684: 'stretching', 4685: 'emphasize', 4686: 'pillow', 4687: 'indication', 4688: 'disability', 4689: 'explored', 4690: 'hardest', 4691: 'mindful', 4692: 'hmmm', 4693: 'cage', 4694: 'casting', 4695: 'reread', 4696: 'hears', 4697: 'relative', 4698: 'rocking', 4699: 'gates', 4700: 'btw', 4701: 'wines', 4702: 'zumba', 4703: 'disclaimer', 4704: 'hyper', 4705: 'enthusiastic', 4706: 'spain', 4707: 'sara', 4708: 'div', 4709: 'stellar', 4710: 'reputation', 4711: 'lifted', 4712: 'channel', 4713: 'resort', 4714: 'blues', 4715: 'adoring', 4716: 'legacy', 4717: 'sugary', 4718: 'repercussions', 4719: 'disregarded', 4720: 'script', 4721: 'melting', 4722: 'consumers', 4723: 'locked', 4724: 'secondary', 4725: 'warehouse', 4726: 'floral', 4727: 'accessories', 4728: 'marginalized', 4729: 'longed', 4730: 'station', 4731: 'central', 4732: 'singular', 4733: 'starring', 4734: 'teeny', 4735: 'honey', 4736: 'orange', 4737: 'moaning', 4738: 'spark', 4739: 'yearn', 4740: 'hats', 4741: 'doc', 4742: 'contest', 4743: 'skies', 4744: 'protest', 4745: 'quo', 4746: 'hire', 4747: 'atleast', 4748: 'freezing', 4749: 'stream', 4750: 'trade', 4751: 'joking', 4752: 'promised', 4753: 'cupcake', 4754: 'sacred', 4755: 'marry', 4756: 'someway', 4757: 'priority', 4758: 'commercial', 4759: 'sugars', 4760: 'fruits', 4761: 'geek', 4762: 'amy', 4763: 'picking', 4764: 'diary', 4765: 'ambulance', 4766: 'halfway', 4767: 'dam', 4768: 'jan', 4769: 'golden', 4770: 'disney', 4771: 'participants', 4772: 'bitches', 4773: 'effectively', 4774: 'nuts', 4775: 'stable', 4776: 'rolling', 4777: 'restricted', 4778: 'welcoming', 4779: 'difficulty', 4780: 'champagne', 4781: 'mexican', 4782: 'sympathize', 4783: 'hasn', 4784: 'wars', 4785: 'river', 4786: 'shorts', 4787: 'wipe', 4788: 'squad', 4789: 'earning', 4790: 'merry', 4791: 'abusive', 4792: 'excitment', 4793: 'paralysed', 4794: 'nuclear', 4795: 'subtle', 4796: 'shoots', 4797: 'flirty', 4798: 'lipsticks', 4799: 'themed', 4800: 'reception', 4801: 'seed', 4802: 'soil', 4803: 'addiction', 4804: 'morbid', 4805: 'usa', 4806: 'jason', 4807: 'insensitive', 4808: 'narrator', 4809: 'attacked', 4810: 'idk', 4811: 'fishing', 4812: 'unsavory', 4813: 'professor', 4814: 'generated', 4815: 'exhibition', 4816: 'lined', 4817: 'ancient', 4818: 'goddess', 4819: 'minimum', 4820: 'lean', 4821: 'bliss', 4822: 'persons', 4823: 'waits', 4824: 'shifting', 4825: 'invaded', 4826: 'boxes', 4827: 'improvement', 4828: 'awaken', 4829: 'musicians', 4830: 'yard', 4831: 'ain', 4832: 'slighted', 4833: 'drain', 4834: 'bruce', 4835: 'portrayal', 4836: 'spontaneous', 4837: 'jackson', 4838: 'sibling', 4839: 'passionately', 4840: 'validation', 4841: 'handing', 4842: 'flipped', 4843: 'shares', 4844: 'itd', 4845: 'snacks', 4846: 'euphoria', 4847: 'frustrations', 4848: 'pinterest', 4849: 'tomatoes', 4850: 'obsession', 4851: 'sleeps', 4852: 'association', 4853: 'occupy', 4854: 'hehe', 4855: 'advertising', 4856: 'hangs', 4857: 'appeared', 4858: 'soap', 4859: 'lb', 4860: 'comfortably', 4861: 'jones', 4862: 'raphael', 4863: 'exhaustion', 4864: 'increase', 4865: 'reporting', 4866: 'fellowship', 4867: 'italy', 4868: 'wheel', 4869: 'slut', 4870: 'throne', 4871: 'pointless', 4872: 'sundays', 4873: 'procedure', 4874: 'figuring', 4875: 'packet', 4876: 'miracles', 4877: 'korean', 4878: 'handling', 4879: 'relieve', 4880: 'sluggish', 4881: 'hunting', 4882: 'quirky', 4883: 'maternal', 4884: 'steady', 4885: 'tends', 4886: 'shine', 4887: 'superman', 4888: 'sources', 4889: 'apathy', 4890: 'awards', 4891: 'ms', 4892: 'sucker', 4893: 'mundane', 4894: 'stumped', 4895: 'saint', 4896: 'federal', 4897: 'auto', 4898: 'phoned', 4899: 'showered', 4900: 'tumblr', 4901: 'penn', 4902: 'gush', 4903: 'stupidity', 4904: 'yeast', 4905: 'earthquake', 4906: 'reserved', 4907: 'lighting', 4908: 'bam', 4909: 'ing', 4910: 'crystal', 4911: 'sounded', 4912: 'clip', 4913: 'roberts', 4914: 'condescending', 4915: 'sickening', 4916: 'patrick', 4917: 'likeable', 4918: 'digital', 4919: 'knee', 4920: 'everythings', 4921: 'colored', 4922: 'describes', 4923: 'roads', 4924: 'potter', 4925: 'snob', 4926: 'elder', 4927: 'muck', 4928: 'succeeded', 4929: 'rushing', 4930: 'refused', 4931: 'unattractive', 4932: 'falls', 4933: 'responding', 4934: 'ccs', 4935: 'racing', 4936: 'gel', 4937: 'lifting', 4938: 'heavier', 4939: 'optimism', 4940: 'fleeting', 4941: 'systems', 4942: 'numbers', 4943: 'dropped', 4944: 'entering', 4945: 'pee', 4946: 'wifes', 4947: 'weapons', 4948: 'continuous', 4949: 'raped', 4950: 'instagram', 4951: 'tomorrows', 4952: 'hotel', 4953: 'rape', 4954: 'campus', 4955: 'ailments', 4956: 'limbo', 4957: 'calmer', 4958: 'aftermath', 4959: 'whore', 4960: 'strolling', 4961: 'stereotype', 4962: 'dependent', 4963: 'learns', 4964: 'territory', 4965: 'attempts', 4966: 'crime', 4967: 'flavor', 4968: 'monster', 4969: 'disinterested', 4970: 'accustomed', 4971: 'guidance', 4972: 'dedicated', 4973: 'mummy', 4974: 'peak', 4975: 'attended', 4976: 'derby', 4977: 'raining', 4978: 'expressions', 4979: 'appropriately', 4980: 'faced', 4981: 'battles', 4982: 'tutor', 4983: 'reliable', 4984: 'disdain', 4985: 'toy', 4986: 'conducted', 4987: 'pizza', 4988: 'rhetoric', 4989: 'organic', 4990: 'buried', 4991: 'queasy', 4992: 'established', 4993: 'piling', 4994: 'decorate', 4995: 'ruin', 4996: 'twin', 4997: 'careful', 4998: 'strip', 4999: 'boil', 5000: 'stubbornly', 5001: 'sensory', 5002: 'tantrum', 5003: 'acne', 5004: 'haiku', 5005: 'gender', 5006: 'conducive', 5007: 'cautious', 5008: 'consumed', 5009: 'drowning', 5010: 'convey', 5011: 'mrs', 5012: 'ladder', 5013: 'victims', 5014: 'swallow', 5015: 'backward', 5016: 'unappreciated', 5017: 'meaningless', 5018: 'politely', 5019: 'shook', 5020: 'eve', 5021: 'inanimate', 5022: 'referring', 5023: 'surfacing', 5024: 'diamond', 5025: 'swift', 5026: 'aa', 5027: 'mediocre', 5028: 'recreate', 5029: 'wing', 5030: 'philippines', 5031: 'dwelling', 5032: 'pat', 5033: 'challenging', 5034: 'venting', 5035: 'choosing', 5036: 'luxury', 5037: 'siren', 5038: 'pakistan', 5039: 'sucking', 5040: 'illusion', 5041: 'rainbows', 5042: 'assist', 5043: 'tastes', 5044: 'mall', 5045: 'chunk', 5046: 'hum', 5047: 'subjected', 5048: 'creation', 5049: 'socializing', 5050: 'sole', 5051: 'march', 5052: 'measuring', 5053: 'wrapping', 5054: 'hunger', 5055: 'mentioning', 5056: 'destroying', 5057: 'cultures', 5058: 'cooler', 5059: 'ordeal', 5060: 'tap', 5061: 'chairs', 5062: 'bubble', 5063: 'pocket', 5064: 'uncharacteristically', 5065: 'unreasonable', 5066: 'chambers', 5067: 'homosexual', 5068: 'nod', 5069: 'enriched', 5070: 'peeps', 5071: 'nick', 5072: 'vanilla', 5073: 'owned', 5074: 'giveaway', 5075: 'celebrations', 5076: 'consideration', 5077: 'prince', 5078: 'wiggle', 5079: 'hurry', 5080: 'reviews', 5081: 'thrift', 5082: 'liberal', 5083: 'stirred', 5084: 'traumatic', 5085: 'owner', 5086: 'presentations', 5087: 'irrationally', 5088: 'painted', 5089: 'trans', 5090: 'directing', 5091: 'jordan', 5092: 'boob', 5093: 'increased', 5094: 'momentarily', 5095: 'bla', 5096: 'sober', 5097: 'upstairs', 5098: 'pounding', 5099: 'abandon', 5100: 'obstacles', 5101: 'photograph', 5102: 'noisy', 5103: 'lds', 5104: 'crowded', 5105: 'su', 5106: 'wen', 5107: 'madness', 5108: 'legitimately', 5109: 'oncologist', 5110: 'metaphor', 5111: 'hardship', 5112: 'stimulating', 5113: 'chuffed', 5114: 'spirituality', 5115: 'whatsoever', 5116: 'surprising', 5117: 'safer', 5118: 'belonged', 5119: 'classmates', 5120: 'stripped', 5121: 'lounge', 5122: 'quilts', 5123: 'benjamin', 5124: 'wig', 5125: 'tidying', 5126: 'robbed', 5127: 'pops', 5128: 'slice', 5129: 'mobile', 5130: 'radiation', 5131: 'narrow', 5132: 'administration', 5133: 'breaks', 5134: 'knock', 5135: 'wounded', 5136: 'insert', 5137: 'yash', 5138: 'panties', 5139: 'psycho', 5140: 'cuddling', 5141: 'input', 5142: 'consumer', 5143: 'toddler', 5144: 'sheet', 5145: 'turkey', 5146: 'signs', 5147: 'zombie', 5148: 'charged', 5149: 'trimester', 5150: 'aversion', 5151: 'license', 5152: 'reps', 5153: 'multi', 5154: 'bald', 5155: 'requests', 5156: 'authentic', 5157: 'corn', 5158: 'longest', 5159: 'confession', 5160: 'mattered', 5161: 'queer', 5162: 'immersed', 5163: 'concentrating', 5164: 'odds', 5165: 'sentences', 5166: 'assessment', 5167: 'polite', 5168: 'employers', 5169: 'awkwardness', 5170: 'selection', 5171: 'haircut', 5172: 'crunch', 5173: 'behaviour', 5174: 'invited', 5175: 'gradually', 5176: 'offense', 5177: 'twinges', 5178: 'infertility', 5179: 'christmassy', 5180: 'bloody', 5181: 'forcing', 5182: 'laurie', 5183: 'convoluted', 5184: 'fulfillment', 5185: 'thigh', 5186: 'james', 5187: 'iced', 5188: 'affirmation', 5189: 'pastor', 5190: 'communication', 5191: 'alice', 5192: 'blaming', 5193: 'penis', 5194: 'striking', 5195: 'hype', 5196: 'ethics', 5197: 'label', 5198: 'chip', 5199: 'mills', 5200: 'separately', 5201: 'riding', 5202: 'gaze', 5203: 'nyc', 5204: 'alarm', 5205: 'owls', 5206: 'destined', 5207: 'reminding', 5208: 'homophobic', 5209: 'outings', 5210: 'legions', 5211: 'devote', 5212: 'declined', 5213: 'eco', 5214: 'smack', 5215: 'heavily', 5216: 'breastfeeding', 5217: 'mail', 5218: 'borders', 5219: 'pointing', 5220: 'flick', 5221: 'zach', 5222: 'injured', 5223: 'ferocious', 5224: 'ipad', 5225: 'ugg', 5226: 'unrealistic', 5227: 'workplace', 5228: 'splash', 5229: 'blogosphere', 5230: 'abide', 5231: 'minority', 5232: 'carefully', 5233: 'relation', 5234: 'kindly', 5235: 'european', 5236: 'convention', 5237: 'signing', 5238: 'exceedingly', 5239: 'biofuels', 5240: 'marvel', 5241: 'bbq', 5242: 'flowy', 5243: 'medications', 5244: 'jumper', 5245: 'dip', 5246: 'flexible', 5247: 'bewildered', 5248: 'cherry', 5249: 'bubbling', 5250: 'generations', 5251: 'brief', 5252: 'june', 5253: 'shimmer', 5254: 'minimal', 5255: 'australians', 5256: 'treasure', 5257: 'console', 5258: 'shinobi', 5259: 'petronas', 5260: 'performed', 5261: 'easiest', 5262: 'dolls', 5263: 'barbie', 5264: 'lifeline', 5265: 'measures', 5266: 'pencil', 5267: 'paced', 5268: 'dent', 5269: 'prolonged', 5270: 'subsequently', 5271: 'adventures', 5272: 'handmade', 5273: 'sane', 5274: 'paragraph', 5275: 'skins', 5276: 'scissor', 5277: 'realm', 5278: 'asshole', 5279: 'nurture', 5280: 'trend', 5281: 'vibrations', 5282: 'detox', 5283: 'michelle', 5284: 'ballistic', 5285: 'journals', 5286: 'successfully', 5287: 'usage', 5288: 'owners', 5289: 'associations', 5290: 'lasted', 5291: 'wushu', 5292: 'spritz', 5293: 'required', 5294: 'goings', 5295: 'ons', 5296: 'grappling', 5297: 'ratty', 5298: 'jeans', 5299: 'sweatshirt', 5300: 'assuredly', 5301: 'brotherhood', 5302: 'stormed', 5303: 'tsa', 5304: 'croissants', 5305: 'talkative', 5306: 'ancestral', 5307: 'dumping', 5308: 'pumpkin', 5309: 'eid', 5310: 'nationality', 5311: 'bitterly', 5312: 'steep', 5313: 'hills', 5314: 'trails', 5315: 'mountains', 5316: 'dash', 5317: 'colons', 5318: 'enhance', 5319: 'redeem', 5320: 'failures', 5321: 'influences', 5322: 'trends', 5323: 'weigh', 5324: 'behaving', 5325: 'meditation', 5326: 'mamas', 5327: 'drawer', 5328: 'gorgeously', 5329: 'girly', 5330: 'underway', 5331: 'misunderstanding', 5332: 'visitors', 5333: 'harbor', 5334: 'lapping', 5335: 'hilarious', 5336: 'inarticulate', 5337: 'consumerism', 5338: 'revered', 5339: 'definitive', 5340: 'benedict', 5341: 'elements', 5342: 'cultural', 5343: 'arcade', 5344: 'befriending', 5345: 'hung', 5346: 'xxx', 5347: 'tastic', 5348: 'advise', 5349: 'offending', 5350: 'hoax', 5351: 'iron', 5352: 'bullet', 5353: 'nasal', 5354: 'sufferers', 5355: 'timetable', 5356: 'edgy', 5357: 'tempting', 5358: 'defiance', 5359: 'prominent', 5360: 'devotee', 5361: 'devotees', 5362: 'personalities', 5363: 'savings', 5364: 'maxs', 5365: 'yellow', 5366: 'shining', 5367: 'senses', 5368: 'faux', 5369: 'lighted', 5370: 'trimmings', 5371: 'warmly', 5372: 'studied', 5373: 'margin', 5374: 'gather', 5375: 'batch', 5376: 'newtown', 5377: 'mailman', 5378: 'clerk', 5379: 'willingness', 5380: 'insecurity', 5381: 'submission', 5382: 'wakes', 5383: 'sleeves', 5384: 'squeal', 5385: 'glee', 5386: 'stuffs', 5387: 'threads', 5388: 'pitiful', 5389: 'wailing', 5390: 'virtually', 5391: 'barrage', 5392: 'attract', 5393: 'adapt', 5394: 'misplaced', 5395: 'devoid', 5396: 'communion', 5397: 'tremendous', 5398: 'cities', 5399: 'strengthening', 5400: 'christianity', 5401: 'temples', 5402: 'excesses', 5403: 'huckleberry', 5404: 'laughs', 5405: 'recognizing', 5406: 'depressing', 5407: 'toxins', 5408: 'slate', 5409: 'forgiving', 5410: 'perceived', 5411: 'insults', 5412: 'bury', 5413: 'clumsy', 5414: 'sliding', 5415: 'judging', 5416: 'bucks', 5417: 'victory', 5418: 'relying', 5419: 'soccer', 5420: 'communities', 5421: 'baker', 5422: 'rex', 5423: 'ltr', 5424: 'atom', 5425: 'halloween', 5426: 'calves', 5427: 'tire', 5428: 'kidnapped', 5429: 'enemies', 5430: 'falsely', 5431: 'articulate', 5432: 'maria', 5433: 'torso', 5434: 'siwons', 5435: 'lifts', 5436: 'interact', 5437: 'oily', 5438: 'georgia', 5439: 'slipped', 5440: 'opposition', 5441: 'counselling', 5442: 'frugal', 5443: 'soundtrack', 5444: 'min', 5445: 'frames', 5446: 'rewrite', 5447: 'op', 5448: 'eh', 5449: 'encased', 5450: 'underpaid', 5451: 'chemistry', 5452: 'breastfeed', 5453: 'conspiracy', 5454: 'crimes', 5455: 'scares', 5456: 'womanhood', 5457: 'merit', 5458: 'wainwright', 5459: 'relentless', 5460: 'prints', 5461: 'vitamins', 5462: 'fluids', 5463: 'ongoing', 5464: 'ali', 5465: 'genuine', 5466: 'keenly', 5467: 'greatly', 5468: 'offspring', 5469: 'sticky', 5470: 'poisoned', 5471: 'whale', 5472: 'noises', 5473: 'liberated', 5474: 'narrated', 5475: 'erik', 5476: 'warriors', 5477: 'heroes', 5478: 'predominantly', 5479: 'arranged', 5480: 'recognized', 5481: 'connecting', 5482: 'wifi', 5483: 'situated', 5484: 'tournament', 5485: 'plateau', 5486: 'wardrobe', 5487: 'biology', 5488: 'incomplete', 5489: 'poppy', 5490: 'beast', 5491: 'dismiss', 5492: 'brad', 5493: 'wat', 5494: 'proof', 5495: 'doubts', 5496: 'clenches', 5497: 'wealth', 5498: 'enjoys', 5499: 'punjabi', 5500: 'masala', 5501: 'loaded', 5502: 'investigate', 5503: 'portland', 5504: 'mentions', 5505: 'gravity', 5506: 'forces', 5507: 'thrifted', 5508: 'lucy', 5509: 'pill', 5510: 'bothers', 5511: 'um', 5512: 'experimented', 5513: 'ther', 5514: 'sits', 5515: 'attire', 5516: 'consecutive', 5517: 'pavement', 5518: 'clues', 5519: 'mill', 5520: 'funeral', 5521: 'intimate', 5522: 'elevated', 5523: 'heartbreaking', 5524: 'sought', 5525: 'inconvenience', 5526: 'pots', 5527: 'excruciating', 5528: 'figs', 5529: 'prettier', 5530: 'dried', 5531: 'dominant', 5532: 'poet', 5533: 'disturbing', 5534: 'scar', 5535: 'decades', 5536: 'prey', 5537: 'transcend', 5538: 'enveloped', 5539: 'glasgow', 5540: 'societys', 5541: 'admission', 5542: 'bathrooms', 5543: 'aroused', 5544: 'chronically', 5545: 'enormous', 5546: 'zoom', 5547: 'difficulties', 5548: 'voices', 5549: 'noone', 5550: 'spilled', 5551: 'harden', 5552: 'enlist', 5553: 'tank', 5554: 'sample', 5555: 'grumble', 5556: 'rollercoaster', 5557: 'orgasm', 5558: 'filling', 5559: 'rainbow', 5560: 'buttons', 5561: 'signals', 5562: 'readily', 5563: 'rounded', 5564: 'oatmeal', 5565: 'affecting', 5566: 'influencing', 5567: 'complicated', 5568: 'relish', 5569: 'gathered', 5570: 'tricks', 5571: 'incase', 5572: 'loathing', 5573: 'disregard', 5574: 'encouraged', 5575: 'approaching', 5576: 'comic', 5577: 'hearted', 5578: 'impostor', 5579: 'cognitive', 5580: 'dissolving', 5581: 'rapture', 5582: 'annie', 5583: 'corinthians', 5584: 'belongings', 5585: 'slipping', 5586: 'unsatisfied', 5587: 'denounced', 5588: 'blackburn', 5589: 'manual', 5590: 'attain', 5591: 'tragedy', 5592: 'apt', 5593: 'backwards', 5594: 'ambitious', 5595: 'contracted', 5596: 'regained', 5597: 'forsaken', 5598: 'disabled', 5599: 'commands', 5600: 'obey', 5601: 'flustered', 5602: 'shield', 5603: 'conceal', 5604: 'uggs', 5605: 'revert', 5606: 'orchestra', 5607: 'portrayed', 5608: 'stumbling', 5609: 'tenure', 5610: 'geared', 5611: 'watchers', 5612: 'suffocated', 5613: 'underage', 5614: 'lane', 5615: 'stadium', 5616: 'cardboard', 5617: 'copies', 5618: 'romeo', 5619: 'juliet', 5620: 'wayne', 5621: 'drake', 5622: 'dope', 5623: 'vs', 5624: 'flung', 5625: 'suitcase', 5626: 'teammates', 5627: 'scum', 5628: 'congratulations', 5629: 'slugging', 5630: 'believers', 5631: 'counselor', 5632: 'motivational', 5633: 'impractical', 5634: 'reliving', 5635: 'fooled', 5636: 'sensing', 5637: 'arts', 5638: 'clicking', 5639: 'responded', 5640: 'vunerable', 5641: 'ups', 5642: 'downs', 5643: 'rouge', 5644: 'visibly', 5645: 'outer', 5646: 'evidence', 5647: 'suburban', 5648: 'palm', 5649: 'reaches', 5650: 'devils', 5651: 'ebay', 5652: 'dejected', 5653: 'congress', 5654: 'ceases', 5655: 'hugs', 5656: 'curriculum', 5657: 'blink', 5658: 'nosy', 5659: 'unprepared', 5660: 'triggered', 5661: 'bankers', 5662: 'sustained', 5663: 'lords', 5664: 'teams', 5665: 'ruined', 5666: 'telephone', 5667: 'frame', 5668: 'grandma', 5669: 'typed', 5670: 'sighed', 5671: 'employees', 5672: 'tenderly', 5673: 'cloudy', 5674: 'hops', 5675: 'andover', 5676: 'engaging', 5677: 'aim', 5678: 'tempered', 5679: 'amusing', 5680: 'creepy', 5681: 'tensions', 5682: 'tat', 5683: 'noe', 5684: 'associate', 5685: 'interrupted', 5686: 'renewed', 5687: 'endurance', 5688: 'relates', 5689: 'judgment', 5690: 'mammoth', 5691: 'devil', 5692: 'firm', 5693: 'believer', 5694: 'lacklustre', 5695: 'clubs', 5696: 'weaknesses', 5697: 'implies', 5698: 'considerable', 5699: 'excessive', 5700: 'nightmares', 5701: 'buys', 5702: 'assumptions', 5703: 'watcher', 5704: 'nephew', 5705: 'sally', 5706: 'hormones', 5707: 'chased', 5708: 'consumption', 5709: 'homosexuality', 5710: 'occured', 5711: 'john', 5712: 'nicotine', 5713: 'cantor', 5714: 'symptom', 5715: 'extension', 5716: 'pic', 5717: 'enormously', 5718: 'seams', 5719: 'maker', 5720: 'surgeon', 5721: 'toon', 5722: 'guild', 5723: 'maid', 5724: 'remote', 5725: 'crossfit', 5726: 'closest', 5727: 'unconscious', 5728: 'bleed', 5729: 'hahaha', 5730: 'dorky', 5731: 'sipping', 5732: 'listeners', 5733: 'si', 5734: 'nursery', 5735: 'pupils', 5736: 'module', 5737: 'definite', 5738: 'surrounding', 5739: 'intuition', 5740: 'improvements', 5741: 'hrs', 5742: 'quilt', 5743: 'dine', 5744: 'proven', 5745: 'myspace', 5746: 'pianos', 5747: 'familiarity', 5748: 'vista', 5749: 'incorporate', 5750: 'breeds', 5751: 'unemployment', 5752: 'britain', 5753: 'louis', 5754: 'russia', 5755: 'icon', 5756: 'authoritative', 5757: 'spa', 5758: 'fluffy', 5759: 'wtf', 5760: 'hood', 5761: 'illustrators', 5762: 'artistry', 5763: 'babysit', 5764: 'offends', 5765: 'overworked', 5766: 'exclusively', 5767: 'boisterous', 5768: 'butterfly', 5769: 'tornadoes', 5770: 'cop', 5771: 'diversity', 5772: 'introduced', 5773: 'conventional', 5774: 'ceiling', 5775: 'fiber', 5776: 'sufficient', 5777: 'fade', 5778: 'outlet', 5779: 'rugby', 5780: 'mothering', 5781: 'boobs', 5782: 'witty', 5783: 'exception', 5784: 'creme', 5785: 'listener', 5786: 'denying', 5787: 'sandals', 5788: 'renowned', 5789: 'uploading', 5790: 'representing', 5791: 'eyebrows', 5792: 'behaved', 5793: 'announced', 5794: 'excitedly', 5795: 'contained', 5796: 'leap', 5797: 'struck', 5798: 'piles', 5799: 'perpetually', 5800: 'impulsive', 5801: 'instruction', 5802: 'handheld', 5803: 'adjectives', 5804: 'electricity', 5805: 'sniffles', 5806: 'volumes', 5807: 'asset', 5808: 'genres', 5809: 'lengthy', 5810: 'celebrity', 5811: 'bathing', 5812: 'rachel', 5813: 'sams', 5814: 'angsty', 5815: 'fiance', 5816: 'poles', 5817: 'wouldve', 5818: 'hometown', 5819: 'overtake', 5820: 'provides', 5821: 'lecture', 5822: 'percieve', 5823: 'rises', 5824: 'vocal', 5825: 'programme', 5826: 'outright', 5827: 'organisation', 5828: 'damaging', 5829: 'ahaha', 5830: 'calmed', 5831: 'wishful', 5832: 'overshadowed', 5833: 'jean', 5834: 'announce', 5835: 'healthcare', 5836: 'anothers', 5837: 'smiley', 5838: 'sword', 5839: 'athletic', 5840: 'definetly', 5841: 'logging', 5842: 'thousands', 5843: 'sooooo', 5844: 'concoction', 5845: 'soaked', 5846: 'bod', 5847: 'cashier', 5848: 'teens', 5849: 'logan', 5850: 'vine', 5851: 'captures', 5852: 'bears', 5853: 'laziness', 5854: 'narcissism', 5855: 'justifying', 5856: 'collaboration', 5857: 'edit', 5858: 'myriad', 5859: 'laps', 5860: 'personnel', 5861: 'gripped', 5862: 'breaths', 5863: 'insides', 5864: 'unfulfilled', 5865: 'package', 5866: 'toby', 5867: 'bonding', 5868: 'truely', 5869: 'corporate', 5870: 'lingering', 5871: 'dave', 5872: 'solemn', 5873: 'garage', 5874: 'busting', 5875: 'kim', 5876: 'tutorials', 5877: 'tranny', 5878: 'statistics', 5879: 'departure', 5880: 'waters', 5881: 'dublin', 5882: 'pesky', 5883: 'bunnies', 5884: 'concepts', 5885: 'sighs', 5886: 'sidewalk', 5887: 'puzzles', 5888: 'teaches', 5889: 'candle', 5890: 'ponder', 5891: 'rte', 5892: 'naught', 5893: 'appearances', 5894: 'futile', 5895: 'skipped', 5896: 'tolerated', 5897: 'partying', 5898: 'drastic', 5899: 'banana', 5900: 'philips', 5901: 'clique', 5902: 'chooses', 5903: 'pompous', 5904: 'ensue', 5905: 'gardens', 5906: 'hockey', 5907: 'duke', 5908: 'worldly', 5909: 'retail', 5910: 'strengths', 5911: 'pretentious', 5912: 'chewing', 5913: 'rays', 5914: 'wilder', 5915: 'retired', 5916: 'winston', 5917: 'churchill', 5918: 'formed', 5919: 'themes', 5920: 'analogy', 5921: 'anxiously', 5922: 'bearing', 5923: 'ww', 5924: 'psychological', 5925: 'organising', 5926: 'engagement', 5927: 'newbie', 5928: 'silver', 5929: 'glitter', 5930: 'violently', 5931: 'xanax', 5932: 'lash', 5933: 'blocked', 5934: 'planting', 5935: 'protective', 5936: 'realising', 5937: 'readership', 5938: 'springer', 5939: 'knight', 5940: 'nervousness', 5941: 'feeble', 5942: 'tropical', 5943: 'outing', 5944: 'rewarded', 5945: 'embarrased', 5946: 'translate', 5947: 'unfold', 5948: 'standby', 5949: 'comprehend', 5950: 'rode', 5951: 'linked', 5952: 'bizarre', 5953: 'adverse', 5954: 'forms', 5955: 'bagel', 5956: 'giver', 5957: 'reluctantly', 5958: 'epidural', 5959: 'orphan', 5960: 'picnic', 5961: 'grove', 5962: 'rot', 5963: 'unnaturally', 5964: 'brutality', 5965: 'readjust', 5966: 'betraying', 5967: 'contagious', 5968: 'albino', 5969: 'mosquito', 5970: 'bye', 5971: 'heroine', 5972: 'banter', 5973: 'apologizes', 5974: 'provocative', 5975: 'east', 5976: 'crazily', 5977: 'cats', 5978: 'suitably', 5979: 'panel', 5980: 'unbearable', 5981: 'vbac', 5982: 'temptation', 5983: 'desirable', 5984: 'deepika', 5985: 'friggin', 5986: 'resolution', 5987: 'sew', 5988: 'competing', 5989: 'justification', 5990: 'dorm', 5991: 'liberty', 5992: 'toronto', 5993: 'outdoor', 5994: 'intellectually', 5995: 'malaysia', 5996: 'menswear', 5997: 'examine', 5998: 'promises', 5999: 'moisturising', 6000: 'nodded', 6001: 'medal', 6002: 'discount', 6003: 'totes', 6004: 'contrary', 6005: 'insights', 6006: 'inspires', 6007: 'saudi', 6008: 'crushed', 6009: 'hostel', 6010: 'futures', 6011: 'almond', 6012: 'pb', 6013: 'conditioned', 6014: 'disagreement', 6015: 'rightly', 6016: 'mankind', 6017: 'turkish', 6018: 'reigns', 6019: 'vicarious', 6020: 'vendors', 6021: 'distribution', 6022: 'overweight', 6023: 'chatting', 6024: 'undesired', 6025: 'martin', 6026: 'kai', 6027: 'backpacking', 6028: 'banks', 6029: 'undone', 6030: 'davids', 6031: 'resistant', 6032: 'islam', 6033: 'alternating', 6034: 'husbands', 6035: 'imminent', 6036: 'patterns', 6037: 'pampered', 6038: 'stinks', 6039: 'eagles', 6040: 'dangerously', 6041: 'hollow', 6042: 'unsettling', 6043: 'troubles', 6044: 'succumb', 6045: 'docs', 6046: 'minister', 6047: 'bladder', 6048: 'shannon', 6049: 'j', 6050: 'h', 6051: 'hacking', 6052: 'coughing', 6053: 'testing', 6054: 'constitution', 6055: 'hints', 6056: 'narrative', 6057: 'builds', 6058: 'documented', 6059: 'composition', 6060: 'delivered', 6061: 'gifted', 6062: 'interpretation', 6063: 'impatience', 6064: 'lip', 6065: 'implement', 6066: 'exploration', 6067: 'refined', 6068: 'knees', 6069: 'memorized', 6070: 'graders', 6071: 'exhilarated', 6072: 'wander', 6073: 'afield', 6074: 'understands', 6075: 'bearable', 6076: 'decidedly', 6077: 'sob', 6078: 'mineral', 6079: 'equivalent', 6080: 'padding', 6081: 'grill', 6082: 'decorative', 6083: 'veil', 6084: 'holly', 6085: 'crumbling', 6086: 'rupees', 6087: 'europe', 6088: 'stoop', 6089: 'refresh', 6090: 'battling', 6091: 'fullness', 6092: 'amounts', 6093: 'processing', 6094: 'strands', 6095: 'severe', 6096: 'outbursts', 6097: 'centuries', 6098: 'wielded', 6099: 'razor', 6100: 'withstand', 6101: 'bogged', 6102: 'burner', 6103: 'racist', 6104: 'asians', 6105: 'smoking', 6106: 'port', 6107: 'ceo', 6108: 'chain', 6109: 'shattered', 6110: 'prick', 6111: 'floors', 6112: 'excuses', 6113: 'amvassago', 6114: 'beefy', 6115: 'beef', 6116: 'doubly', 6117: 'momma', 6118: 'stationary', 6119: 'percentage', 6120: 'anne', 6121: 'viewers', 6122: 'whipped', 6123: 'melancholic', 6124: 'dm', 6125: 'jeff', 6126: 'cornbread', 6127: 'innate', 6128: 'substitute', 6129: 'cluttered', 6130: 'sketch', 6131: 'tickets', 6132: 'adomen', 6133: 'anticipated', 6134: 'spontaneously', 6135: 'obese', 6136: 'evidenced', 6137: 'protests', 6138: 'alittle', 6139: 'originally', 6140: 'united', 6141: 'counted', 6142: 'traumatised', 6143: 'newest', 6144: 'floated', 6145: 'pools', 6146: 'climate', 6147: 'bonded', 6148: 'startling', 6149: 'boxing', 6150: 'developing', 6151: 'adequately', 6152: 'ached', 6153: 'preschool', 6154: 'spotless', 6155: 'aesthetics', 6156: 'pores', 6157: 'validity', 6158: 'manila', 6159: 'nest', 6160: 'fortune', 6161: 'wheat', 6162: 'uttering', 6163: 'relevant', 6164: 'scattered', 6165: 'trap', 6166: 'breed', 6167: 'unfairness', 6168: 'claustrophobic', 6169: 'adoption', 6170: 'lightening', 6171: 'panicked', 6172: 'juices', 6173: 'flavors', 6174: 'pangs', 6175: 'distracting', 6176: 'thoughtless', 6177: 'earned', 6178: 'starve', 6179: 'gate', 6180: 'sweating', 6181: 'couldve', 6182: 'softball', 6183: 'chatter', 6184: 'lighten', 6185: 'fuss', 6186: 'stems', 6187: 'badass', 6188: 'neatly', 6189: 'stuffed', 6190: 'lured', 6191: 'cray', 6192: 'slacked', 6193: 'puzzle', 6194: 'jon', 6195: 'forgiven', 6196: 'pinging', 6197: 'jokes', 6198: 'strongest', 6199: 'costly', 6200: 'harms', 6201: 'cynicism', 6202: 'amplified', 6203: 'falter', 6204: 'criminal', 6205: 'criticized', 6206: 'unza', 6207: 'tmr', 6208: 'bsc', 6209: 'marvellous', 6210: 'hiccups', 6211: 'drastically', 6212: 'snoring', 6213: 'rag', 6214: 'handbag', 6215: 'fetched', 6216: 'kenny', 6217: 'stevens', 6218: 'dumps', 6219: 'undercurrent', 6220: 'natives', 6221: 'childs', 6222: 'inviting', 6223: 'involving', 6224: 'individuality', 6225: 'titled', 6226: 'ne', 6227: 'untouched', 6228: 'thailand', 6229: 'coloured', 6230: 'sorrows', 6231: 'lurking', 6232: 'spacious', 6233: 'awaiting', 6234: 'hobble', 6235: 'possess', 6236: 'denial', 6237: 'chained', 6238: 'serves', 6239: 'begged', 6240: 'picks', 6241: 'whack', 6242: 'psychologically', 6243: 'plunging', 6244: 'polar', 6245: 'musings', 6246: 'launch', 6247: 'incorporated', 6248: 'toll', 6249: 'producing', 6250: 'needlessly', 6251: 'supposedly', 6252: 'resulting', 6253: 'sloppy', 6254: 'pragmatic', 6255: 'bump', 6256: 'pavilion', 6257: 'national', 6258: 'revelation', 6259: 'noodle', 6260: 'overcoming', 6261: 'snaps', 6262: 'comfy', 6263: 'courtesy', 6264: 'qualified', 6265: 'venue', 6266: 'warn', 6267: 'css', 6268: 'occur', 6269: 'parcel', 6270: 'workings', 6271: 'evolve', 6272: 'diabetes', 6273: 'elsewhere', 6274: 'brat', 6275: 'combo', 6276: 'schedules', 6277: 'transport', 6278: 'binding', 6279: 'explorer', 6280: 'bedrooms', 6281: 'divulge', 6282: 'crunched', 6283: 'freshman', 6284: 'command', 6285: 'jo', 6286: 'users', 6287: 'replacement', 6288: 'decently', 6289: 'lunge', 6290: 'salvation', 6291: 'miracle', 6292: 'alert', 6293: 'stays', 6294: 'guard', 6295: 'meditated', 6296: 'senator', 6297: 'flag', 6298: 'armor', 6299: 'precisely', 6300: 'unresolved', 6301: 'built', 6302: 'journalism', 6303: 'toned', 6304: 'insult', 6305: 'dues', 6306: 'stagnate', 6307: 'addressing', 6308: 'misbehavior', 6309: 'mayhem', 6310: 'jacket', 6311: 'mesh', 6312: 'fare', 6313: 'disregarding', 6314: 'printing', 6315: 'sage', 6316: 'smallest', 6317: 'searched', 6318: 'withdraw', 6319: 'poll', 6320: 'pelvis', 6321: 'complainy', 6322: 'menu', 6323: 'testicle', 6324: 'elation', 6325: 'intervention', 6326: 'reinforce', 6327: 'hunters', 6328: 'plug', 6329: 'taller', 6330: 'admiring', 6331: 'stinky', 6332: 'banking', 6333: 'tended', 6334: 'craves', 6335: 'despise', 6336: 'sabotaging', 6337: 'homely', 6338: 'sprint', 6339: 'register', 6340: 'beats', 6341: 'republicans', 6342: 'salad', 6343: 'tub', 6344: 'figuratively', 6345: 'preservation', 6346: 'temperatures', 6347: 'heartburn', 6348: 'pushy', 6349: 'individually', 6350: 'sleek', 6351: 'smoother', 6352: 'blaster', 6353: 'belittled', 6354: 'trigger', 6355: 'flattened', 6356: 'knowledgeable', 6357: 'birthdays', 6358: 'entertainers', 6359: 'williams', 6360: 'obedient', 6361: 'puzzled', 6362: 'disgruntled', 6363: 'dick', 6364: 'dumped', 6365: 'parody', 6366: 'tis', 6367: 'hobby', 6368: 'painless', 6369: 'ambition', 6370: 'unhappiness', 6371: 'lauren', 6372: 'blocking', 6373: 'joys', 6374: 'insanity', 6375: 'apothecary', 6376: 'nominees', 6377: 'scotland', 6378: 'sack', 6379: 'revel', 6380: 'verse', 6381: 'colourful', 6382: 'operation', 6383: 'authorities', 6384: 'vibration', 6385: 'joints', 6386: 'majorly', 6387: 'webkit', 6388: 'swept', 6389: 'flipping', 6390: 'noise', 6391: 'contains', 6392: 'lloyd', 6393: 'ditched', 6394: 'outcomes', 6395: 'psyched', 6396: 'cdn', 6397: 'markets', 6398: 'donut', 6399: 'shade', 6400: 'al', 6401: 'alaska', 6402: 'insidious', 6403: 'lectures', 6404: 'sterile', 6405: 'smelling', 6406: 'brimming', 6407: 'devices', 6408: 'gal', 6409: 'enriching', 6410: 'descriptions', 6411: 'tempura', 6412: 'reflected', 6413: 'admittedly', 6414: 'affection', 6415: 'effecting', 6416: 'dearly', 6417: 'remedy', 6418: 'highlight', 6419: 'peas', 6420: 'carrots', 6421: 'boutique', 6422: 'antisocial', 6423: 'cooperation', 6424: 'manifesting', 6425: 'popping', 6426: 'scheduling', 6427: 'pies', 6428: 'wandering', 6429: 'squares', 6430: 'amish', 6431: 'commented', 6432: 'spiraling', 6433: 'purely', 6434: 'gm', 6435: 'rose', 6436: 'austen', 6437: 'winners', 6438: 'luh', 6439: 'mudder', 6440: 'pencils', 6441: 'insomnia', 6442: 'ji', 6443: 'woeful', 6444: 'ds', 6445: 'rd', 6446: 'dd', 6447: 'angst', 6448: 'mount', 6449: 'depleted', 6450: 'snapping', 6451: 'gaping', 6452: 'smoothie', 6453: 'dynamic', 6454: 'guilted', 6455: 'dancers', 6456: 'gaia', 6457: 'entrance', 6458: 'stumbleupon', 6459: 'alt', 6460: 'marrying', 6461: 'elementary', 6462: 'yknow', 6463: 'district', 6464: 'citizens', 6465: 'bouts', 6466: 'purposes', 6467: 'seafood', 6468: 'unpaid', 6469: 'presumably', 6470: 'wholeness', 6471: 'unfurling', 6472: 'ta', 6473: 'wit', 6474: 'handedly', 6475: 'relentlessly', 6476: 'upsetting', 6477: 'politician', 6478: 'afternoons', 6479: 'energizing', 6480: 'accompany', 6481: 'observation', 6482: 'nude', 6483: 'palette', 6484: 'weights', 6485: 'weighed', 6486: 'nao', 6487: 'bitterness', 6488: 'charm', 6489: 'penny', 6490: 'soapbox', 6491: 'whiff', 6492: 'chats', 6493: 'topics', 6494: 'sweater', 6495: 'lowest', 6496: 'pete', 6497: 'egalitarian', 6498: 'shouldve', 6499: 'flicking', 6500: 'tedious', 6501: 'girlfriends', 6502: 'involves', 6503: 'whimsical', 6504: 'decorations', 6505: 'droop', 6506: 'straightforward', 6507: 'appeal', 6508: 'twins', 6509: 'palms', 6510: 'governor', 6511: 'dirt', 6512: 'considers', 6513: 'governments', 6514: 'laws', 6515: 'intake', 6516: 'eternally', 6517: 'german', 6518: 'forehead', 6519: 'wrinkles', 6520: 'scanned', 6521: 'dew', 6522: 'cassandra', 6523: 'locking', 6524: 'warmed', 6525: 'ginger', 6526: 'limbs', 6527: 'cap', 6528: 'pedestrian', 6529: 'flawed', 6530: 'computers', 6531: 'lingers', 6532: 'glances', 6533: 'harmed', 6534: 'net', 6535: 'fandoms', 6536: 'unity', 6537: 'highlights', 6538: 'exceptions', 6539: 'abstract', 6540: 'transformed', 6541: 'sinus', 6542: 'incorrect', 6543: 'sneeze', 6544: 'proving', 6545: 'parting', 6546: 'delightful', 6547: 'constipated', 6548: 'fourth', 6549: 'reckless', 6550: 'deceived', 6551: 'educational', 6552: 'bully', 6553: 'regimented', 6554: 'midterm', 6555: 'intentional', 6556: 'triumph', 6557: 'nightmarish', 6558: 'proceed', 6559: 'tickles', 6560: 'dominican', 6561: 'guessed', 6562: 'skipping', 6563: 'patriotism', 6564: 'cautiously', 6565: 'jungle', 6566: 'deserted', 6567: 'possessions', 6568: 'journalist', 6569: 'sh', 6570: 'versus', 6571: 'confuse', 6572: 'rite', 6573: 'accessory', 6574: 'hypocrite', 6575: 'resorted', 6576: 'housebound', 6577: 'peckish', 6578: 'gratefulness', 6579: 'approval', 6580: 'thankfully', 6581: 'theirs', 6582: 'liquor', 6583: 'advanced', 6584: 'crotch', 6585: 'emerging', 6586: 'betty', 6587: 'dh', 6588: 'diagnosis', 6589: 'regurgitate', 6590: 'vulnerability', 6591: 'manipulated', 6592: 'beijing', 6593: 'blows', 6594: 'melody', 6595: 'motivator', 6596: 'survey', 6597: 'lunchtime', 6598: 'energies', 6599: 'harmony', 6600: 'emptied', 6601: 'caleb', 6602: 'disorientated', 6603: 'resisting', 6604: 'slacking', 6605: 'apologies', 6606: 'election', 6607: 'taunted', 6608: 'liar', 6609: 'unattainable', 6610: 'wistful', 6611: 'pent', 6612: 'condemned', 6613: 'pleasures', 6614: 'earliest', 6615: 'dawn', 6616: 'annoyingly', 6617: 'stoic', 6618: 'icky', 6619: 'prop', 6620: 'boredom', 6621: 'douche', 6622: 'karen', 6623: 'actuality', 6624: 'beachy', 6625: 'superficial', 6626: 'twat', 6627: 'uhuru', 6628: 'persecuted', 6629: 'martha', 6630: 'differs', 6631: 'victorious', 6632: 'consequence', 6633: 'swamp', 6634: 'luxurious', 6635: 'deer', 6636: 'thomas', 6637: 'fee', 6638: 'musician', 6639: 'au', 6640: 'ng', 6641: 'void', 6642: 'hamburger', 6643: 'steak', 6644: 'preference', 6645: 'fared', 6646: 'fob', 6647: 'contests', 6648: 'disabilities', 6649: 'boards', 6650: 'environmentally', 6651: 'wildly', 6652: 'ian', 6653: 'nailed', 6654: 'transfer', 6655: 'trials', 6656: 'sitcom', 6657: 'lacks', 6658: 'baggage', 6659: 'tremendously', 6660: 'preposterous', 6661: 'motors', 6662: 'slopes', 6663: 'screening', 6664: 'witnessing', 6665: 'stupor', 6666: 'sandwiches', 6667: 'tomato', 6668: 'deepening', 6669: 'segments', 6670: 'nearness', 6671: 'reporters', 6672: 'locker', 6673: 'rip', 6674: 'tide', 6675: 'inch', 6676: 'crashed', 6677: 'fingernail', 6678: 'scheduled', 6679: 'envy', 6680: 'concentrated', 6681: 'captain', 6682: 'shocking', 6683: 'cdm', 6684: 'flac', 6685: 'custodes', 6686: 'download', 6687: 'resume', 6688: 'prime', 6689: 'variety', 6690: 'gosh', 6691: 'impress', 6692: 'summary', 6693: 'sheepish', 6694: 'dryers', 6695: 'tia', 6696: 'seventy', 6697: 'aiming', 6698: 'prospects', 6699: 'excel', 6700: 'differences', 6701: 'declare', 6702: 'cab', 6703: 'spoon', 6704: 'sinks', 6705: 'internal', 6706: 'dissolve', 6707: 'spying', 6708: 'devour', 6709: 'psychology', 6710: 'glossy', 6711: 'meanness', 6712: 'weirdo', 6713: 'toe', 6714: 'placed', 6715: 'jaws', 6716: 'flashing', 6717: 'climbing', 6718: 'meetings', 6719: 'pooped', 6720: 'comp', 6721: 'compromise', 6722: 'lucas', 6723: 'programs', 6724: 'cynical', 6725: 'tracking', 6726: 'whereby', 6727: 'acquaintances', 6728: 'makin', 6729: 'religions', 6730: 'surf', 6731: 'vinegar', 6732: 'newspapers', 6733: 'enamoured', 6734: 'richness', 6735: 'starter', 6736: 'fa', 6737: 'affords', 6738: 'dreadful', 6739: 'susceptible', 6740: 'management', 6741: 'disorders', 6742: 'recovered', 6743: 'congestion', 6744: 'mondays', 6745: 'consultation', 6746: 'classwork', 6747: 'instructor', 6748: 'grandmothers', 6749: 'facilities', 6750: 'da', 6751: 'becuz', 6752: 'tweet', 6753: 'circumstance', 6754: 'eyelids', 6755: 'texts', 6756: 'occasions', 6757: 'juicy', 6758: 'seated', 6759: 'additional', 6760: 'loopy', 6761: 'exaggerating', 6762: 'angie', 6763: 'stored', 6764: 'mature', 6765: 'intruder', 6766: 'retreat', 6767: 'soothing', 6768: 'ugliness', 6769: 'validate', 6770: 'prejudiced', 6771: 'montana', 6772: 'undertaking', 6773: 'experimenting', 6774: 'ragged', 6775: 'premature', 6776: 'chanel', 6777: 'fist', 6778: 'wholesale', 6779: 'abandoning', 6780: 'unemployed', 6781: 'aku', 6782: 'nevertheless', 6783: 'comings', 6784: 'hips', 6785: 'raids', 6786: 'addict', 6787: 'railway', 6788: 'suggestion', 6789: 'knife', 6790: 'tutorial', 6791: 'sassy', 6792: 'duration', 6793: 'resonate', 6794: 'restored', 6795: 'crossroads', 6796: 'roughly', 6797: 'castle', 6798: 'conveniently', 6799: 'pussy', 6800: 'swimsuit', 6801: 'capacities', 6802: 'intrigued', 6803: 'sweaters', 6804: 'chemicals', 6805: 'classy', 6806: 'punk', 6807: 'guiding', 6808: 'principles', 6809: 'recount', 6810: 'disasters', 6811: 'chamber', 6812: 'trousers', 6813: 'cloud', 6814: 'distanced', 6815: 'accommodate', 6816: 'frosting', 6817: 'sinister', 6818: 'compulsion', 6819: 'labels', 6820: 'remembrance', 6821: 'aryiku', 6822: 'accurate', 6823: 'shinae', 6824: 'cinema', 6825: 'infrastructure', 6826: 'creatively', 6827: 'belongs', 6828: 'publicity', 6829: 'hormone', 6830: 'ingrate', 6831: 'sweeney', 6832: 'unusually', 6833: 'shutting', 6834: 'lightning', 6835: 'thrilling', 6836: 'bashing', 6837: 'contentment', 6838: 'mutual', 6839: 'pure', 6840: 'menopause', 6841: 'floods', 6842: 'allocated', 6843: 'fatigue', 6844: 'sucky', 6845: 'pokemon', 6846: 'boldly', 6847: 'warned', 6848: 'opener', 6849: 'planted', 6850: 'lightness', 6851: 'nathan', 6852: 'whip', 6853: 'cloth', 6854: 'prisoner', 6855: 'repay', 6856: 'rating', 6857: 'noon', 6858: 'suspiciously', 6859: 'baffled', 6860: 'luke', 6861: 'gunong', 6862: 'ledang', 6863: 'towel', 6864: 'brands', 6865: 'shelves', 6866: 'satan', 6867: 'ben', 6868: 'profits', 6869: 'cia', 6870: 'oxford', 6871: 'skype', 6872: 'hurricane', 6873: 'nipping', 6874: 'custom', 6875: 'fic', 6876: 'writting', 6877: 'gag', 6878: 'dee', 6879: 'triangle', 6880: 'festivals', 6881: 'tuned', 6882: 'bullshit', 6883: 'vampire', 6884: 'healthier', 6885: 'creaminess', 6886: 'frantically', 6887: 'apron', 6888: 'supporter', 6889: 'forest', 6890: 'inspection', 6891: 'encompass', 6892: 'savory', 6893: 'showcase', 6894: 'grip', 6895: 'resented', 6896: 'buddhism', 6897: 'leadership', 6898: 'sunlight', 6899: 'parallel', 6900: 'medically', 6901: 'distractions', 6902: 'hussein', 6903: 'culprit', 6904: 'matches', 6905: 'institution', 6906: 'phones', 6907: 'quieter', 6908: 'invincible', 6909: 'plugged', 6910: 'spazzing', 6911: 'cardio', 6912: 'surprises', 6913: 'canal', 6914: 'shaun', 6915: 'shove', 6916: 'mumbai', 6917: 'slums', 6918: 'guaranteed', 6919: 'calculated', 6920: 'dates', 6921: 'experts', 6922: 'transformations', 6923: 'exited', 6924: 'analyzed', 6925: 'brink', 6926: 'rave', 6927: 'grandpa', 6928: 'mock', 6929: 'promising', 6930: 'speculation', 6931: 'degrees', 6932: 'ebony', 6933: 'request', 6934: 'agonized', 6935: 'omg', 6936: 'zimbabwe', 6937: 'announcement', 6938: 'coats', 6939: 'slam', 6940: 'ringing', 6941: 'queries', 6942: 'thesis', 6943: 'nation', 6944: 'pulls', 6945: 'contaminated', 6946: 'align', 6947: 'clearing', 6948: 'terrain', 6949: 'follows', 6950: 'mojo', 6951: 'claret', 6952: 'jug', 6953: 'rod', 6954: 'division', 6955: 'recluse', 6956: 'appetite', 6957: 'philadelphia', 6958: 'mph', 6959: 'funky', 6960: 'sensed', 6961: 'qualify', 6962: 'sang', 6963: 'zen', 6964: 'marriages', 6965: 'deaths', 6966: 'msg', 6967: 'completing', 6968: 'loudly', 6969: 'basks', 6970: 'executing', 6971: 'algebra', 6972: 'setbacks', 6973: 'longevity', 6974: 'turmoil', 6975: 'wip', 6976: 'sunrise', 6977: 'rash', 6978: 'ep', 6979: 'pip', 6980: 'sins', 6981: 'practise', 6982: 'blankets', 6983: 'uh', 6984: 'max', 6985: 'drinkin', 6986: 'whiskey', 6987: 'measurements', 6988: 'stating', 6989: 'xx', 6990: 'freakishly', 6991: 'counsel', 6992: 'trophy', 6993: 'rubber', 6994: 'dong', 6995: 'subaru', 6996: 'trustworthy', 6997: 'explosions', 6998: 'desperation', 6999: 'cara', 7000: 'discipline', 7001: 'heights', 7002: 'prizes', 7003: 'predictably', 7004: 'redundant', 7005: 'recordings', 7006: 'wonderland', 7007: 'dehydrated', 7008: 'tapped', 7009: 'soda', 7010: 'magnificent', 7011: 'supreme', 7012: 'egg', 7013: 'vocalize', 7014: 'alignment', 7015: 'strengthen', 7016: 'fame', 7017: 'adulthood', 7018: 'def', 7019: 'plunge', 7020: 'icy', 7021: 'poetic', 7022: 'fathers', 7023: 'tom', 7024: 'tattoo', 7025: 'blinded', 7026: 'trillion', 7027: 'clutch', 7028: 'inspire', 7029: 'candy', 7030: 'neuropathy', 7031: 'zooming', 7032: 'disciples', 7033: 'ballroom', 7034: 'tape', 7035: 'masterpiece', 7036: 'aka', 7037: 'opens', 7038: 'courtney', 7039: 'hows', 7040: 'slug', 7041: 'glaring', 7042: 'shouting', 7043: 'minuscule', 7044: 'wince', 7045: 'tightness', 7046: 'kills', 7047: 'josh', 7048: 'swarming', 7049: 'zest', 7050: 'bipolar', 7051: 'positivity', 7052: 'isolating', 7053: 'undeserving', 7054: 'tax', 7055: 'erm', 7056: 'artisans', 7057: 'specialized', 7058: 'consolation', 7059: 'sasha', 7060: 'akin', 7061: 'starters', 7062: 'twitch', 7063: 'enthusiasts', 7064: 'shells', 7065: 'skincare', 7066: 'welfare', 7067: 'glycerin', 7068: 'indonesia', 7069: 'gary', 7070: 'bout', 7071: 'introverted', 7072: 'snail', 7073: 'suggesting', 7074: 'nugget', 7075: 'gratuitously', 7076: 'grounds', 7077: 'mouths', 7078: 'sweetheart', 7079: 'jay', 7080: 'trusty', 7081: 'eventual', 7082: 'residents', 7083: 'diminish', 7084: 'informal', 7085: 'collecting', 7086: 'careers', 7087: 'poverty', 7088: 'fund', 7089: 'womens', 7090: 'household', 7091: 'stillness', 7092: 'shyness', 7093: 'analyzing', 7094: 'stuffy', 7095: 'thrill', 7096: 'drivers', 7097: 'inclusive', 7098: 'pinching', 7099: 'rightfully', 7100: 'albums', 7101: 'fools', 7102: 'endings', 7103: 'muas', 7104: 'incense', 7105: 'wooden', 7106: 'scores', 7107: 'colby', 7108: 'stewing', 7109: 'urgent', 7110: 'logo', 7111: 'integral', 7112: 'owl', 7113: 'smirk', 7114: 'gaming', 7115: 'storage', 7116: 'preferred', 7117: 'haircute', 7118: 'tha', 7119: 'unwell', 7120: 'sheets', 7121: 'isaac', 7122: 'indulged', 7123: 'volume', 7124: 'schoolgirl', 7125: 'boston', 7126: 'dutch', 7127: 'poorly', 7128: 'crochet', 7129: 'swollen', 7130: 'bug', 7131: 'stone', 7132: 'bob', 7133: 'ibs', 7134: 'reunited', 7135: 'texting', 7136: 'offset', 7137: 'questionable', 7138: 'webpage', 7139: 'crutches', 7140: 'payday', 7141: 'loans', 7142: 'monthly', 7143: 'spectator', 7144: 'assumption', 7145: 'functioning', 7146: 'getaway', 7147: 'doodle', 7148: 'pac', 7149: 'deranged', 7150: 'harrassment', 7151: 'microsoft', 7152: 'expands', 7153: 'paralysis', 7154: 'owning', 7155: 'patch', 7156: 'kuya', 7157: 'homemade', 7158: 'ruining', 7159: 'performer', 7160: 'fridays', 7161: 'flop', 7162: 'paired', 7163: 'commodities', 7164: 'fraud', 7165: 'coping', 7166: 'brakes', 7167: 'theater', 7168: 'distraction', 7169: 'hook', 7170: 'poems', 7171: 'activist', 7172: 'rewarding', 7173: 'jazz', 7174: 'mona', 7175: 'coworker', 7176: 'slave', 7177: 'recovering', 7178: 'gnawing', 7179: 'academia', 7180: 'risen', 7181: 'drown', 7182: 'salt', 7183: 'happenings', 7184: 'burdening', 7185: 'raise', 7186: 'weekly', 7187: 'faults', 7188: 'transcends', 7189: 'awoken', 7190: 'loki', 7191: 'survivor', 7192: 'ken', 7193: 'arrives', 7194: 'katy', 7195: 'loosing', 7196: 'mouse', 7197: 'tripped', 7198: 'distinction', 7199: 'brewing', 7200: 'burns', 7201: 'farther', 7202: 'stinging', 7203: 'sceptical', 7204: 'pursued', 7205: 'prompting', 7206: 'gutted', 7207: 'fortitude', 7208: 'globe', 7209: 'tsunami', 7210: 'stitch', 7211: 'lt', 7212: 'ink', 7213: 'sep', 7214: 'certainty', 7215: 'complaint', 7216: 'embarassed', 7217: 'wire', 7218: 'princess', 7219: 'astonishment', 7220: 'scars', 7221: 'seeds', 7222: 'ni', 7223: 'shiraishi', 7224: 'punctures', 7225: 'jerry', 7226: 'constructivism', 7227: 'royal', 7228: 'flooding', 7229: 'gospel', 7230: 'holes', 7231: 'sauce', 7232: 'med', 7233: 'newspaper', 7234: 'listing', 7235: 'haunt', 7236: 'unwilling', 7237: 'denise', 7238: 'annual', 7239: 'te', 7240: 'breakup', 7241: 'fuzzy', 7242: 'correctly', 7243: 'chorus', 7244: 'yu', 7245: 'processes', 7246: 'reckon', 7247: 'unforgettable', 7248: 'willed', 7249: 'tones', 7250: 'stinking', 7251: 'muffin', 7252: 'draws', 7253: 'nerd', 7254: 'coffin', 7255: 'fluid', 7256: 'riders', 7257: 'executed', 7258: 'unintelligent', 7259: 'elections', 7260: 'agencies', 7261: 'shoved', 7262: 'mega', 7263: 'clingy', 7264: 'wh', 7265: 'root', 7266: 'templates', 7267: 'imprinted', 7268: 'inadequacies', 7269: 'mourn', 7270: 'overeat', 7271: 'floats', 7272: 'candles', 7273: 'preaching', 7274: 'adrenaline', 7275: 'conditioning', 7276: 'etape', 7277: 'similarities', 7278: 'skirts', 7279: 'marginalised', 7280: 'weapon', 7281: 'becasue', 7282: 'eyeliner', 7283: 'mags', 7284: 'selected', 7285: 'savior', 7286: 'verbally', 7287: 'formal', 7288: 'creed', 7289: 'fragile', 7290: 'bumps', 7291: 'stumble', 7292: 'humping', 7293: 'sensibilities', 7294: 'sticks', 7295: 'unfinished', 7296: 'zombies', 7297: 'temp', 7298: 'dwell', 7299: 'gettin', 7300: 'jens', 7301: 'occupational', 7302: 'feat', 7303: 'contemplate', 7304: 'alien', 7305: 'landscape', 7306: 'react', 7307: 'vows', 7308: 'environmental', 7309: 'effing', 7310: 'slogging', 7311: 'ml', 7312: 'killer', 7313: 'accompanied', 7314: 'daydream', 7315: 'intend', 7316: 'confirm', 7317: 'instilled', 7318: 'assure', 7319: 'humanity', 7320: 'logical', 7321: 'revving', 7322: 'soulmate', 7323: 'surge', 7324: 'iam', 7325: 'pillar', 7326: 'tubes', 7327: 'lh', 7328: 'applications', 7329: 'exotic', 7330: 'roommates', 7331: 'invested', 7332: 'peeking', 7333: 'showers', 7334: 'tooth', 7335: 'onions', 7336: 'poking', 7337: 'shirley', 7338: 'injuries', 7339: 'absurd', 7340: 'revenue', 7341: 'intercourse', 7342: 'expose', 7343: 'pineapple', 7344: 'snug', 7345: 'downstairs', 7346: 'lad', 7347: 'perceptive', 7348: 'ukrainian', 7349: 'goat', 7350: 'fills', 7351: 'aretha', 7352: 'foundations', 7353: 'battery', 7354: 'tiniest', 7355: 'los', 7356: 'angeles', 7357: 'democrats', 7358: 'scientists', 7359: 'teamed', 7360: 'monastery', 7361: 'rinse', 7362: 'weary', 7363: 'crampy', 7364: 'di', 7365: 'oregon', 7366: 'combine', 7367: 'pertaining', 7368: 'tunnel', 7369: 'starbucks', 7370: 'slower', 7371: 'endured', 7372: 'patted', 7373: 'posto', 7374: 'lest', 7375: 'stubs', 7376: 'sends', 7377: 'slapped', 7378: 'retiring', 7379: 'completion', 7380: 'vancouver', 7381: 'passenger', 7382: 'rpgs', 7383: 'pouring', 7384: 'yomis', 7385: 'karate', 7386: 'apps', 7387: 'provocation', 7388: 'questionnaire', 7389: 'pal', 7390: 'preform', 7391: 'carter', 7392: 'integrated', 7393: 'effin', 7394: 'fortunately', 7395: 'ideals', 7396: 'snakes', 7397: 'deleted', 7398: 'caterpillar', 7399: 'jonah'}\n"
     ]
    }
   ],
   "source": [
    "print(token.index_word)"
   ]
  },
  {
   "cell_type": "code",
   "execution_count": 76,
   "metadata": {},
   "outputs": [
    {
     "name": "stdout",
     "output_type": "stream",
     "text": [
      "[[1, 138, 2, 678], [1, 39, 100, 59, 7, 14, 493, 4, 14, 3495, 552, 31, 59, 60, 127, 147, 75, 1479, 3, 21, 1254], [16, 3059, 6, 1148, 4, 285, 1, 2, 494, 437]]\n"
     ]
    }
   ],
   "source": [
    "print(encoded_text[:3])"
   ]
  },
  {
   "cell_type": "code",
   "execution_count": 77,
   "metadata": {},
   "outputs": [
    {
     "name": "stdout",
     "output_type": "stream",
     "text": [
      "[[   1  138    2 ...    0    0    0]\n",
      " [   1   39  100 ...    0    0    0]\n",
      " [  16 3059    6 ...    0    0    0]\n",
      " ...\n",
      " [   1    2  326 ...    0    0    0]\n",
      " [   1    2   13 ...    0    0    0]\n",
      " [   1   46    6 ...    0    0    0]]\n",
      "(16000, 50)\n"
     ]
    }
   ],
   "source": [
    "max_length =50\n",
    "X_train=pad_sequences(encoded_text,maxlen=max_length,padding='post')\n",
    "# X_test =pad_sequences(encoded_text1,maxlen=max_length,padding='post')\n",
    "print(X_train)\n",
    "print(X_train.shape)"
   ]
  },
  {
   "cell_type": "code",
   "execution_count": 78,
   "metadata": {},
   "outputs": [],
   "source": [
    "df_train['Emotions']=df_train.Emotions.replace({'joy':0,'anger':1,'love':2,'sadness':3,'fear':4,'surprise':5})\n",
    "df_val['Emotions']=df_val.Emotions.replace({'joy':0,'anger':1,'love':2,'sadness':3,'fear':4,'surprise':5})\n",
    "df_test['Emotions']=df_test.Emotions.replace({'joy':0,'anger':1,'love':2,'sadness':3,'fear':4,'surprise':5})\n",
    "Y_train = df_train['Emotions'].values\n",
    "\n"
   ]
  },
  {
   "cell_type": "code",
   "execution_count": 79,
   "metadata": {},
   "outputs": [],
   "source": [
    "# label_encoder = LabelEncoder()\n",
    "# integer_encoded = label_encoder.fit_transform(Y_train)\n",
    "# print(integer_encoded)\n",
    "# onehot_encoder = OneHotEncoder(sparse=False)\n",
    "# integer_encoded = integer_encoded.reshape(len(integer_encoded), 1)\n",
    "# Emotions = onehot_encoder.fit_transform(integer_encoded)"
   ]
  },
  {
   "cell_type": "code",
   "execution_count": 80,
   "metadata": {},
   "outputs": [],
   "source": [
    "Emotions=to_categorical(Y_train)"
   ]
  },
  {
   "cell_type": "markdown",
   "metadata": {},
   "source": [
    "Creating LSTM model"
   ]
  },
  {
   "cell_type": "code",
   "execution_count": 81,
   "metadata": {},
   "outputs": [
    {
     "name": "stdout",
     "output_type": "stream",
     "text": [
      "Model: \"sequential_3\"\n",
      "_________________________________________________________________\n",
      "Layer (type)                 Output Shape              Param #   \n",
      "=================================================================\n",
      "embedding_3 (Embedding)      (None, 50, 100)           1600000   \n",
      "_________________________________________________________________\n",
      "lstm_2 (LSTM)                (None, 100)               80400     \n",
      "_________________________________________________________________\n",
      "dense_2 (Dense)              (None, 6)                 606       \n",
      "=================================================================\n",
      "Total params: 1,681,006\n",
      "Trainable params: 1,681,006\n",
      "Non-trainable params: 0\n",
      "_________________________________________________________________\n"
     ]
    }
   ],
   "source": [
    "model = Sequential()\n",
    "model.add(Embedding(input_dim=X_train.shape[0],output_dim =100,input_length=max_length))\n",
    "model.add(LSTM(100))\n",
    "model.add(Dense(6,activation='softmax'))\n",
    "model.compile(optimizer='rmsprop',loss='categorical_crossentropy',metrics=['accuracy'])\n",
    "model.summary()"
   ]
  },
  {
   "cell_type": "raw",
   "metadata": {},
   "source": [
    "Fitting LSTM model"
   ]
  },
  {
   "cell_type": "code",
   "execution_count": null,
   "metadata": {},
   "outputs": [
    {
     "name": "stdout",
     "output_type": "stream",
     "text": [
      "Train on 12800 samples, validate on 3200 samples\n",
      "Epoch 1/10\n",
      "12800/12800 [==============================] - 19s 1ms/sample - loss: 1.5851 - accuracy: 0.3301 - val_loss: 1.5753 - val_accuracy: 0.3262\n",
      "Epoch 2/10\n",
      " 6944/12800 [===============>..............] - ETA: 6s - loss: 1.5543 - accuracy: 0.3463"
     ]
    }
   ],
   "source": [
    "# data=model.fit(train_x,train_y,epochs=10,batch_size=64,validation_data=(test_x,test_y))\n",
    "data= model.fit(X_train,Emotions,batch_size=32,epochs=10,validation_split=0.2,shuffle=True)\n",
    "# data=model.fit(X_train,y_train,epochs=10,batch_size=32,validation_data=(X_test,y_test))"
   ]
  },
  {
   "cell_type": "raw",
   "metadata": {},
   "source": [
    "Plotting accuracy vs validation accuracy"
   ]
  },
  {
   "cell_type": "code",
   "execution_count": null,
   "metadata": {},
   "outputs": [],
   "source": [
    "plt.plot(data.history['accuracy'],c='r',label='train_data')\n",
    "plt.plot(data.history['val_accuracy'],c='g',label='test_data')\n",
    "plt.legend(loc='lower right')\n",
    "plt.show()"
   ]
  },
  {
   "cell_type": "code",
   "execution_count": null,
   "metadata": {},
   "outputs": [],
   "source": [
    "loss, acc = model.evaluate(X_train, Emotions)\n",
    "print( 'Loss: %f, Accuracy: %f'% (loss, acc*100))"
   ]
  },
  {
   "cell_type": "raw",
   "metadata": {},
   "source": [
    "Creating Bilstm model"
   ]
  },
  {
   "cell_type": "code",
   "execution_count": null,
   "metadata": {},
   "outputs": [],
   "source": [
    "model1=Sequential()\n",
    "model1.add(Embedding(input_dim=X_train.shape[0],output_dim =100,input_length=max_length))\n",
    "model1.add(Bidirectional(LSTM(100)))\n",
    "model1.add(Dense(6, activation= 'softmax' ))\n",
    "model1.compile(optimizer='rmsprop',loss='categorical_crossentropy',metrics=['accuracy'])\n",
    "print(model1.summary())"
   ]
  },
  {
   "cell_type": "raw",
   "metadata": {},
   "source": [
    "Fitting Bilstm model"
   ]
  },
  {
   "cell_type": "code",
   "execution_count": null,
   "metadata": {
    "scrolled": true
   },
   "outputs": [],
   "source": [
    "# data=model1.fit(train_x,train_y,epochs=10,batch_size=64,validation_data=(test_x,test_y))\n",
    "# data1=model1.fit(X_train,y_train,epochs=10,batch_size=32,validation_data=(X_test,y_test))\n",
    "data1= model1.fit(X_train,Emotions,batch_size=32,epochs=10,validation_split=0.2,shuffle=True)"
   ]
  },
  {
   "cell_type": "code",
   "execution_count": null,
   "metadata": {},
   "outputs": [],
   "source": [
    "plt.plot(data1.history['accuracy'],c='r',label='train')\n",
    "plt.plot(data1.history['val_accuracy'],c='g',label='test')\n",
    "plt.legend(loc='lower right')\n",
    "plt.show()"
   ]
  },
  {
   "cell_type": "code",
   "execution_count": null,
   "metadata": {},
   "outputs": [],
   "source": [
    "loss, acc = model1.evaluate(X_train, Emotions)\n",
    "print( 'Loss: %f, Accuracy: %f'% (loss, acc*100))"
   ]
  },
  {
   "cell_type": "code",
   "execution_count": null,
   "metadata": {
    "scrolled": true
   },
   "outputs": [],
   "source": [
    "model1.save('Bilstm.h5')\n"
   ]
  },
  {
   "cell_type": "code",
   "execution_count": null,
   "metadata": {},
   "outputs": [],
   "source": [
    "modelreload = load_model('Bilstm.h5')"
   ]
  },
  {
   "cell_type": "code",
   "execution_count": null,
   "metadata": {},
   "outputs": [],
   "source": [
    "# import pickle\n",
    "# # with open('bilstm.pkl', 'wb') as f:  \n",
    "# #     pickle.dump(model1, f)\n",
    "# # pd.to_pickle(modelreload,'BILSTM.pickle')\n",
    "# weigh= model1.get_weights()\n",
    "# pklfile= \"model1.pkl\"\n",
    "# try:\n",
    "#     fpkl= open(pklfile, 'wb')    #Python 3     \n",
    "#     pickle.dump(weigh, fpkl, protocol= pickle.HIGHEST_PROTOCOL)\n",
    "#     fpkl.close()\n",
    "# except:\n",
    "#     fpkl= open(pklfile, 'w')    #Python 2      \n",
    "#     pickle.dump(weigh, fpkl, protocol= pickle.HIGHEST_PROTOCOL)\n",
    "#     fpkl.close("
   ]
  },
  {
   "cell_type": "code",
   "execution_count": null,
   "metadata": {},
   "outputs": [],
   "source": [
    "# with open('BILSTM.pkl', 'rb') as file:  \n",
    "#     Pickled_BILSTM_Model = pickle.load(file)\n",
    "# Pickled_BILSTM_Model = pd.read_pickle('BILSTM.pickle')"
   ]
  },
  {
   "cell_type": "code",
   "execution_count": null,
   "metadata": {
    "scrolled": true
   },
   "outputs": [],
   "source": [
    "# Pickled_BILSTM_Model.summary()"
   ]
  },
  {
   "cell_type": "code",
   "execution_count": null,
   "metadata": {},
   "outputs": [],
   "source": [
    "def get_emotion(value):\n",
    "    emotions={'anger':0,'joy':1,'love':2,'sadness':3,'fear':4,'surprise':5}\n",
    "    for emo, val in emotions.items():\n",
    "        if value==val:\n",
    "            return emo"
   ]
  },
  {
   "cell_type": "code",
   "execution_count": null,
   "metadata": {},
   "outputs": [],
   "source": [
    "def predict(sentence):\n",
    "    sentenceList=[]\n",
    "    token =Tokenizer()\n",
    "    sentenceList.append(sentence)  \n",
    "    token.fit_on_texts(sentenceList)\n",
    "    encoded_text1 = token.texts_to_sequences(sentenceList)\n",
    "    X_test=pad_sequences(encoded_text1,maxlen=50,padding='post')\n",
    "    answer= get_emotion(modelreload.predict(X_test))\n",
    "    print(\"The predicted emotion was: \",answer)\n",
    "    \n",
    "    "
   ]
  },
  {
   "cell_type": "code",
   "execution_count": null,
   "metadata": {},
   "outputs": [],
   "source": [
    "predict(str(input('Enter a sentece : ')))\n",
    "\n"
   ]
  },
  {
   "cell_type": "code",
   "execution_count": null,
   "metadata": {},
   "outputs": [],
   "source": []
  },
  {
   "cell_type": "code",
   "execution_count": null,
   "metadata": {},
   "outputs": [],
   "source": []
  },
  {
   "cell_type": "code",
   "execution_count": null,
   "metadata": {},
   "outputs": [],
   "source": []
  },
  {
   "cell_type": "code",
   "execution_count": null,
   "metadata": {},
   "outputs": [],
   "source": []
  }
 ],
 "metadata": {
  "kernelspec": {
   "display_name": "Python 3.7 (tensorflow)",
   "language": "python",
   "name": "tensorflow"
  },
  "language_info": {
   "codemirror_mode": {
    "name": "ipython",
    "version": 3
   },
   "file_extension": ".py",
   "mimetype": "text/x-python",
   "name": "python",
   "nbconvert_exporter": "python",
   "pygments_lexer": "ipython3",
   "version": "3.7.9"
  }
 },
 "nbformat": 4,
 "nbformat_minor": 4
}
