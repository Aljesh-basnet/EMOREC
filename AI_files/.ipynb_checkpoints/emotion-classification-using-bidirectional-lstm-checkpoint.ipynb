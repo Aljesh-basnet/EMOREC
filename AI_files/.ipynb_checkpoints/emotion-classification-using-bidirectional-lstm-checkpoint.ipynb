{
 "cells": [
  {
   "cell_type": "markdown",
   "metadata": {
    "id": "SfwEUAWA3HAb"
   },
   "source": [
    "## Import Necessary Libraries"
   ]
  },
  {
   "cell_type": "code",
   "execution_count": null,
   "metadata": {
    "id": "G7rHKL0KNteY"
   },
   "outputs": [],
   "source": [
    "import numpy as np\n",
    "import tensorflow.keras\n",
    "from  tensorflow.keras.preprocessing.text import Tokenizer\n",
    "from tensorflow.keras.preprocessing.sequence import pad_sequences\n",
    "import os\n",
    "import pandas as pd\n",
    "from tensorflow.keras.utils import to_categorical\n",
    "import matplotlib.pyplot as plt\n",
    "from sklearn.metrics import classification_report\n",
    "import scikitplot\n",
    "from scikitplot.metrics import plot_confusion_matrix"
   ]
  },
  {
   "cell_type": "markdown",
   "metadata": {
    "id": "r1dtvdVm3Wqq"
   },
   "source": [
    "# Create a Dataframe for reading and analysing the text files easily"
   ]
  },
  {
   "cell_type": "code",
   "execution_count": null,
   "metadata": {
    "id": "uVI0V45VPqkH"
   },
   "outputs": [],
   "source": [
    "df_train = pd.read_csv('../input/emotions-dataset-for-nlp/train.txt', header =None, sep =';', names = ['Input','Sentiment'], encoding='utf-8')\n",
    "df_test = pd.read_csv('../input/emotions-dataset-for-nlp/test.txt', header = None, sep =';', names = ['Input','Sentiment'],encoding='utf-8')\n",
    "df_val=pd.read_csv('../input/emotions-dataset-for-nlp/val.txt',header=None,sep=';',names=['Input','Sentiment'],encoding='utf-8')"
   ]
  },
  {
   "cell_type": "code",
   "execution_count": null,
   "metadata": {
    "id": "t5UXwqnoOkGV",
    "outputId": "2714606a-f695-45ff-c0d9-1d7234d37a6f"
   },
   "outputs": [],
   "source": [
    "df_train.Sentiment.value_counts()"
   ]
  },
  {
   "cell_type": "markdown",
   "metadata": {
    "id": "weLVgoak3lR0"
   },
   "source": [
    "## Reading the Train and Validation Data"
   ]
  },
  {
   "cell_type": "code",
   "execution_count": null,
   "metadata": {
    "id": "8jfpnq0qPEUF"
   },
   "outputs": [],
   "source": [
    "X=df_train['Input']\n"
   ]
  },
  {
   "cell_type": "code",
   "execution_count": null,
   "metadata": {
    "id": "YsdBhABuRkc2"
   },
   "outputs": [],
   "source": [
    "lst=[]\n",
    "for i in X:\n",
    "  lst.append(len(i))\n"
   ]
  },
  {
   "cell_type": "code",
   "execution_count": null,
   "metadata": {
    "id": "Lf_wMk5wR7Wd",
    "outputId": "0f7f1b70-bd55-428f-f798-89f8c2f998c0"
   },
   "outputs": [],
   "source": [
    "len1=pd.DataFrame(lst)\n",
    "len1.describe()"
   ]
  },
  {
   "cell_type": "code",
   "execution_count": null,
   "metadata": {
    "id": "JBAgUQh-1cCn"
   },
   "outputs": [],
   "source": [
    "cts=[]\n",
    "for i in range(7,301):\n",
    "   ct=0\n",
    "   for k in lst:\n",
    "     if k==i:\n",
    "       ct+=1\n",
    "   cts.append(ct)"
   ]
  },
  {
   "cell_type": "markdown",
   "metadata": {
    "id": "dwTyJqGO4JM0"
   },
   "source": [
    "# Trying to fix a length for the embedding layers' input"
   ]
  },
  {
   "cell_type": "code",
   "execution_count": null,
   "metadata": {
    "id": "UOYkt05D2Pkc",
    "outputId": "fbb734a9-cd62-4f8e-aeb6-cfba165e505e"
   },
   "outputs": [],
   "source": [
    "plt.bar(range(7,301),cts)\n",
    "plt.show()"
   ]
  },
  {
   "cell_type": "markdown",
   "metadata": {
    "id": "Vkx0Skhw4RTE"
   },
   "source": [
    "# Using The tokenizer Class to convert the sentences into word vectors"
   ]
  },
  {
   "cell_type": "code",
   "execution_count": null,
   "metadata": {
    "id": "HPqJjmc2Qd1q"
   },
   "outputs": [],
   "source": [
    "tokenizer=Tokenizer(15212,lower=True,oov_token='UNK')\n",
    "tokenizer.fit_on_texts(X)"
   ]
  },
  {
   "cell_type": "code",
   "execution_count": null,
   "metadata": {
    "id": "QAR53xsMQ9hp",
    "outputId": "85afe77d-62ca-4db5-9030-985c63cccdf1"
   },
   "outputs": [],
   "source": [
    "len(tokenizer.word_index)"
   ]
  },
  {
   "cell_type": "code",
   "execution_count": null,
   "metadata": {
    "id": "OPlKIuEJRHaJ"
   },
   "outputs": [],
   "source": [
    "X_train=tokenizer.texts_to_sequences(X)\n",
    "X_train_pad=pad_sequences(X_train,maxlen=80,padding='post')"
   ]
  },
  {
   "cell_type": "code",
   "execution_count": null,
   "metadata": {
    "id": "klWThk5xSiTj"
   },
   "outputs": [],
   "source": [
    "df_train['Sentiment']=df_train.Sentiment.replace({'joy':0,'anger':1,'love':2,'sadness':3,'fear':4,'surprise':5})"
   ]
  },
  {
   "cell_type": "code",
   "execution_count": null,
   "metadata": {
    "id": "IcB2LdpDTV1R"
   },
   "outputs": [],
   "source": [
    "Y_train=df_train['Sentiment'].values\n"
   ]
  },
  {
   "cell_type": "markdown",
   "metadata": {
    "id": "1Nxr63i-4eWH"
   },
   "source": [
    "# One hot Encoding the Emotion Values"
   ]
  },
  {
   "cell_type": "code",
   "execution_count": null,
   "metadata": {
    "id": "Cq4bajBpWKnU"
   },
   "outputs": [],
   "source": [
    "Y_train_f=to_categorical(Y_train)"
   ]
  },
  {
   "cell_type": "code",
   "execution_count": null,
   "metadata": {
    "id": "jM-qVgjjXHlb",
    "outputId": "598f6ccc-4000-49a8-b46e-34b06d0fdd53"
   },
   "outputs": [],
   "source": [
    "Y_train_f[:6]"
   ]
  },
  {
   "cell_type": "code",
   "execution_count": null,
   "metadata": {
    "id": "PKJwSxEgYhay"
   },
   "outputs": [],
   "source": [
    "X_val=df_val['Input']\n",
    "Y_val=df_val.Sentiment.replace({'joy':0,'anger':1,'love':2,'sadness':3,'fear':4,'surprise':5})"
   ]
  },
  {
   "cell_type": "code",
   "execution_count": null,
   "metadata": {
    "id": "v-5tPraZYYH6"
   },
   "outputs": [],
   "source": [
    "X_val_f=tokenizer.texts_to_sequences(X_val)\n",
    "X_val_pad=pad_sequences(X_val_f,maxlen=80,padding='post')"
   ]
  },
  {
   "cell_type": "code",
   "execution_count": null,
   "metadata": {
    "id": "rLIVsrvgZLu_"
   },
   "outputs": [],
   "source": [
    "Y_val_f=to_categorical(Y_val)"
   ]
  },
  {
   "cell_type": "code",
   "execution_count": null,
   "metadata": {
    "id": "zKw08DYYZLxl",
    "outputId": "914b33da-9bc8-463f-f87d-281ba533a2f8"
   },
   "outputs": [],
   "source": [
    "Y_val_f[:6]"
   ]
  },
  {
   "cell_type": "code",
   "execution_count": null,
   "metadata": {
    "id": "fTW2fLQZU8rx"
   },
   "outputs": [],
   "source": [
    "from keras.models import Sequential\n",
    "from keras.layers import LSTM,Bidirectional,Dense,Embedding,Dropout\n"
   ]
  },
  {
   "cell_type": "markdown",
   "metadata": {
    "id": "zzZgSic_4mb8"
   },
   "source": [
    "# Creating a Model"
   ]
  },
  {
   "cell_type": "code",
   "execution_count": null,
   "metadata": {
    "id": "F_tdJHIDVLqA",
    "outputId": "7ae62ccd-8288-4e6b-b614-c8080cd51a2a"
   },
   "outputs": [],
   "source": [
    "model=Sequential()\n",
    "model.add(Embedding(15212,64,input_length=80))\n",
    "model.add(Dropout(0.6))\n",
    "model.add(Bidirectional(LSTM(80,return_sequences=True)))\n",
    "model.add(Bidirectional(LSTM(160)))\n",
    "model.add(Dense(6,activation='softmax'))\n",
    "print(model.summary())"
   ]
  },
  {
   "cell_type": "markdown",
   "metadata": {
    "id": "lQwbhHiO4rM7"
   },
   "source": [
    "# Compiling and running the model"
   ]
  },
  {
   "cell_type": "code",
   "execution_count": null,
   "metadata": {
    "id": "_KYfMEyXVxK2"
   },
   "outputs": [],
   "source": [
    "model.compile(optimizer='adam',loss='categorical_crossentropy',metrics=['accuracy'])"
   ]
  },
  {
   "cell_type": "code",
   "execution_count": null,
   "metadata": {
    "id": "J5UxHV4EV_qA",
    "outputId": "c1760502-94ff-4f81-9ead-59ddddab1149"
   },
   "outputs": [],
   "source": [
    "hist=model.fit(X_train_pad,Y_train_f,epochs=12,validation_data=(X_val_pad,Y_val_f))"
   ]
  },
  {
   "cell_type": "markdown",
   "metadata": {},
   "source": [
    "# Plotting the Loss and Accuracy Curves"
   ]
  },
  {
   "cell_type": "code",
   "execution_count": null,
   "metadata": {
    "id": "r9ZX9npB95PY",
    "outputId": "9e3a5747-bc0e-4063-8ae5-6d047d6b94b6"
   },
   "outputs": [],
   "source": [
    "plt.plot(hist.history['accuracy'],c='b',label='train')\n",
    "plt.plot(hist.history['val_accuracy'],c='r',label='validation')\n",
    "plt.legend(loc='lower right')\n",
    "plt.show()"
   ]
  },
  {
   "cell_type": "code",
   "execution_count": null,
   "metadata": {
    "id": "DPXjVCJe-dLM",
    "outputId": "f520d1fa-d97f-4c03-f4da-1ef837a0f8d1"
   },
   "outputs": [],
   "source": [
    "plt.plot(hist.history['loss'],c='orange',label='train')\n",
    "plt.plot(hist.history['val_loss'],c='g',label='validation')\n",
    "plt.legend(loc='upper right')\n",
    "plt.show()"
   ]
  },
  {
   "cell_type": "markdown",
   "metadata": {
    "id": "T8wkWWRM4wj5"
   },
   "source": [
    "# Checking for Test Data"
   ]
  },
  {
   "cell_type": "code",
   "execution_count": null,
   "metadata": {
    "id": "qiqCoFvpWFlI"
   },
   "outputs": [],
   "source": [
    "X_test=df_test['Input']\n",
    "Y_test=df_test.Sentiment.replace({'joy':0,'anger':1,'love':2,'sadness':3,'fear':4,'surprise':5})"
   ]
  },
  {
   "cell_type": "code",
   "execution_count": null,
   "metadata": {
    "id": "a_puRzZNaI_i"
   },
   "outputs": [],
   "source": [
    "X_test_f=tokenizer.texts_to_sequences(X_test)\n",
    "X_test_pad=pad_sequences(X_test_f,maxlen=80,padding='post')"
   ]
  },
  {
   "cell_type": "code",
   "execution_count": null,
   "metadata": {
    "id": "ZWeCFXqBaUeF"
   },
   "outputs": [],
   "source": [
    "Y_test_f=to_categorical(Y_test)"
   ]
  },
  {
   "cell_type": "code",
   "execution_count": null,
   "metadata": {
    "id": "iVhdSBnWcV3q",
    "outputId": "0aaf8ab6-ba10-4816-94be-fdddaeeb2eda"
   },
   "outputs": [],
   "source": [
    "X_test_pad.shape"
   ]
  },
  {
   "cell_type": "code",
   "execution_count": null,
   "metadata": {
    "id": "K2gXQ80oaaok",
    "outputId": "747bf3f0-3126-4ea2-b730-a832de1447ff"
   },
   "outputs": [],
   "source": [
    "Y_test_f[:7]"
   ]
  },
  {
   "cell_type": "markdown",
   "metadata": {
    "id": "KI2H_6jh444s"
   },
   "source": [
    "#Accuracy for Test Data"
   ]
  },
  {
   "cell_type": "code",
   "execution_count": null,
   "metadata": {
    "id": "PWY-3GJSacff",
    "outputId": "b28b942e-d800-4469-cc29-fbdbfedfb1e9"
   },
   "outputs": [],
   "source": [
    "model.evaluate(X_test_pad,Y_test_f)"
   ]
  },
  {
   "cell_type": "markdown",
   "metadata": {
    "id": "eDUBbS9dCnqc"
   },
   "source": [
    "# Plotting the Confusion matrix "
   ]
  },
  {
   "cell_type": "code",
   "execution_count": null,
   "metadata": {
    "id": "xSBIEISGA6Id"
   },
   "outputs": [],
   "source": [
    "Y_pred=model.predict_classes(X_test_pad)"
   ]
  },
  {
   "cell_type": "code",
   "execution_count": null,
   "metadata": {
    "id": "atULoe4HAqZv",
    "outputId": "d949ea61-ebe5-4f7a-f804-9676542f4cf5"
   },
   "outputs": [],
   "source": [
    "plot_confusion_matrix(Y_test,Y_pred)"
   ]
  },
  {
   "cell_type": "code",
   "execution_count": null,
   "metadata": {
    "id": "GebauRAfChiq",
    "outputId": "b66eb181-8ce9-44ea-b7f7-88ffe6027a2c"
   },
   "outputs": [],
   "source": [
    "print(classification_report(Y_test,Y_pred))"
   ]
  },
  {
   "cell_type": "markdown",
   "metadata": {
    "id": "5SG8AtHq48uQ"
   },
   "source": [
    "# Creating a Function to check for Your own Sentence"
   ]
  },
  {
   "cell_type": "code",
   "execution_count": null,
   "metadata": {
    "id": "N4vDT3Eeft2i"
   },
   "outputs": [],
   "source": [
    "def get_key(value):\n",
    "    dictionary={'joy':0,'anger':1,'love':2,'sadness':3,'fear':4,'surprise':5}\n",
    "    for key,val in dictionary.items():\n",
    "          if (val==value):\n",
    "            return key\n",
    "\n"
   ]
  },
  {
   "cell_type": "code",
   "execution_count": null,
   "metadata": {
    "id": "AQuJATahalLP"
   },
   "outputs": [],
   "source": [
    "def predict(sentence):\n",
    "  sentence_lst=[]\n",
    "  sentence_lst.append(sentence)\n",
    "  sentence_seq=tokenizer.texts_to_sequences(sentence_lst)\n",
    "  sentence_padded=pad_sequences(sentence_seq,maxlen=80,padding='post')\n",
    "  ans=get_key(model.predict_classes(sentence_padded))\n",
    "  print(\"The emotion predicted is\",ans)"
   ]
  },
  {
   "cell_type": "markdown",
   "metadata": {
    "id": "J1_JYp1N5CFm"
   },
   "source": [
    "# Check for Your Own Sentence"
   ]
  },
  {
   "cell_type": "code",
   "execution_count": null,
   "metadata": {
    "id": "VcTTjsficgqf",
    "outputId": "3e5e5d52-08eb-4c7c-b092-22b437bfe787"
   },
   "outputs": [],
   "source": [
    "predict(str(input('Enter a sentence : ')))\n"
   ]
  },
  {
   "cell_type": "code",
   "execution_count": null,
   "metadata": {
    "id": "_hiYzFqN_h_-",
    "outputId": "3f96cb05-e759-48d8-eba8-94f7d1ed84b3"
   },
   "outputs": [],
   "source": [
    "predict(str(input('Enter a sentence : ')))\n"
   ]
  },
  {
   "cell_type": "code",
   "execution_count": null,
   "metadata": {},
   "outputs": [],
   "source": [
    "predict(str(input('Enter a sentence : ')))\n"
   ]
  }
 ],
 "metadata": {
  "kernelspec": {
   "display_name": "Python 3",
   "language": "python",
   "name": "python3"
  }
 },
 "nbformat": 4,
 "nbformat_minor": 4
}
